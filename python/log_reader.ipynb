{
 "metadata": {
  "name": "",
  "signature": "sha256:e66855c759840d2bf641c434496b23ff3472010440ed4b1dd59fe51e8b011187"
 },
 "nbformat": 3,
 "nbformat_minor": 0,
 "worksheets": [
  {
   "cells": [
    {
     "cell_type": "code",
     "collapsed": false,
     "input": [
      "f=open('log.txt','r')"
     ],
     "language": "python",
     "metadata": {},
     "outputs": [],
     "prompt_number": 1
    },
    {
     "cell_type": "code",
     "collapsed": false,
     "input": [],
     "language": "python",
     "metadata": {},
     "outputs": [],
     "prompt_number": 44
    },
    {
     "cell_type": "code",
     "collapsed": false,
     "input": [
      "f.seek(603474000)\n",
      "a=''\n",
      "for i in range(50):\n",
      "    a+=f.readline()\n",
      "print a"
     ],
     "language": "python",
     "metadata": {},
     "outputs": [
      {
       "output_type": "stream",
       "stream": "stdout",
       "text": [
        ":45:50 - Thread-25 - HSDIO.py.evaluate.99 - DEBUG\n",
        "npHSDIO.evaluate()\n",
        "\n",
        "2014/07/10 21:45:59 - Thread-25 - DDS.py.evaluate.49 - DEBUG\n",
        "DDS.evaluate()\n",
        "\n",
        "2014/07/10 21:46:00 - Thread-25 - piezo.py.evaluate.62 - DEBUG\n",
        "piezo.evaluate()\n",
        "\n",
        "2014/07/10 21:46:00 - Thread-25 - RF_generators.py.evaluate.52 - DEBUG\n",
        "RF_generators.evaluate()\n",
        "\n",
        "2014/07/10 21:46:00 - Thread-25 - DAQmxDO.py.evaluate.71 - DEBUG\n",
        "DAQmxDO.evaluate()\n",
        "\n",
        "2014/07/10 21:46:00 - Thread-25 - Camera.py.evaluate.102 - DEBUG\n",
        "HamamatsuC9100_13.evaluate()\n",
        "\n",
        "2014/07/10 21:46:00 - Thread-25 - TTL.py.evaluate.35 - DEBUG\n",
        "TTL.evaluate()\n",
        "\n",
        "2014/07/10 21:46:00 - Thread-25 - experiments.py.update_gui.374 - DEBUG\n",
        "experiment.update_gui()\n",
        "\n",
        "2014/07/10 21:46:00 - Thread-25 - experiments.py.evaluate.306 - DEBUG\n",
        "Finished evaluate().\n",
        "\n",
        "2014/07/10 21:46:00 - Thread-25 - experiments.py.update.261 - DEBUG\n",
        "updating instruments\n",
        "\n",
        "2014/07/10 21:46:00 - Thread-25 - instrument_property.py.HardwareProtocol.293 - WARNING\n",
        "In Prop.HardwareProtocol() for class LabView while trying HSDIO.toHardware.\n",
        "\n",
        "\n",
        "\n",
        "2014/07/11 06:42:01 - MainThread - experiments.py.load.733 - DEBUG\n",
        "Loading file: E:/data/2014_07_10/2014_07_10_16_59_33_GreyMolasses_30usDropTime_ScanGreyZ/results.hdf5\n",
        "\n",
        "2014/07/11 06:42:09 - MainThread - experiments.py.load.766 - DEBUG\n",
        "File load done.\n",
        "\n",
        "2014/07/11 06:42:09 - MainThread - experiments.py.evaluateIndependentVariables.227 - DEBUG\n",
        "Evaluating independent variables ...\n",
        "\n",
        "2014/07/11 06:42:09 - MainThread - experiments.py.evaluate.290 - DEBUG\n",
        "Experiment.evaluate() ...\n",
        "\n",
        "2014/07/11 06:42:09 - MainThread - experiments.py.evaluateDependentVariables.278 - DEBUG\n",
        "Evaluating dependent variables ...\n",
        "\n",
        "\n"
       ]
      }
     ],
     "prompt_number": 53
    },
    {
     "cell_type": "code",
     "collapsed": false,
     "input": [],
     "language": "python",
     "metadata": {},
     "outputs": []
    }
   ],
   "metadata": {}
  }
 ]
}