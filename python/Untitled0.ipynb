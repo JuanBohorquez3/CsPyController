{
 "metadata": {
  "name": "",
  "signature": "sha256:1846010f36ce43e5333404b983d9ba23af0c93b140fd6c559e0650f0f107ea16"
 },
 "nbformat": 3,
 "nbformat_minor": 0,
 "worksheets": [
  {
   "cells": [
    {
     "cell_type": "code",
     "collapsed": false,
     "input": [
      "import cs_evaluate as ev"
     ],
     "language": "python",
     "metadata": {},
     "outputs": [],
     "prompt_number": 1
    },
    {
     "cell_type": "code",
     "collapsed": false,
     "input": [
      "numpy"
     ],
     "language": "python",
     "metadata": {},
     "outputs": [
      {
       "ename": "NameError",
       "evalue": "name 'numpy' is not defined",
       "output_type": "pyerr",
       "traceback": [
        "\u001b[1;31m---------------------------------------------------------------------------\u001b[0m\n\u001b[1;31mNameError\u001b[0m                                 Traceback (most recent call last)",
        "\u001b[1;32m<ipython-input-21-93d7964ec38e>\u001b[0m in \u001b[0;36m<module>\u001b[1;34m()\u001b[0m\n\u001b[1;32m----> 1\u001b[1;33m \u001b[0mnumpy\u001b[0m\u001b[1;33m\u001b[0m\u001b[0m\n\u001b[0m",
        "\u001b[1;31mNameError\u001b[0m: name 'numpy' is not defined"
       ]
      }
     ],
     "prompt_number": 21
    },
    {
     "cell_type": "code",
     "collapsed": false,
     "input": [
      "import numpy as np"
     ],
     "language": "python",
     "metadata": {},
     "outputs": [],
     "prompt_number": 22
    },
    {
     "cell_type": "code",
     "collapsed": false,
     "input": [
      "d=dict([(i,np[i]) for i in dir(np)])"
     ],
     "language": "python",
     "metadata": {},
     "outputs": []
    },
    {
     "cell_type": "code",
     "collapsed": false,
     "input": [
      "varDict={}\n",
      "newDict=varDict.copy()\n",
      "newDict.update([('np',np)])\n",
      "newDict"
     ],
     "language": "python",
     "metadata": {},
     "outputs": [
      {
       "metadata": {},
       "output_type": "pyout",
       "prompt_number": 56,
       "text": [
        "{'np': <module 'numpy' from 'C:\\Users\\Saffmanlab\\AppData\\Local\\Enthought\\Canopy\\User\\lib\\site-packages\\numpy\\__init__.pyc'>}"
       ]
      }
     ],
     "prompt_number": 56
    },
    {
     "cell_type": "code",
     "collapsed": false,
     "input": [
      "eval('np.sin(3)',newDict)"
     ],
     "language": "python",
     "metadata": {},
     "outputs": [
      {
       "metadata": {},
       "output_type": "pyout",
       "prompt_number": 50,
       "text": [
        "0.14112000805986721"
       ]
      }
     ],
     "prompt_number": 50
    },
    {
     "cell_type": "code",
     "collapsed": false,
     "input": [
      "from numpy import *\n",
      "varDict={}\n",
      "s='''\n",
      "a=3\n",
      "b=sin(a)\n",
      "\n",
      "def spike(t,t_min,width):\n",
      "    return where((less_equal(t_min,t))*(less(t,(t_min+width))),1,0)\n",
      "\n",
      "'''\n",
      "exec(s,globals(),varDict)"
     ],
     "language": "python",
     "metadata": {},
     "outputs": [],
     "prompt_number": 4
    },
    {
     "cell_type": "code",
     "collapsed": false,
     "input": [
      "trap"
     ],
     "language": "python",
     "metadata": {},
     "outputs": [
      {
       "ename": "NameError",
       "evalue": "name 'trap' is not defined",
       "output_type": "pyerr",
       "traceback": [
        "\u001b[1;31m---------------------------------------------------------------------------\u001b[0m\n\u001b[1;31mNameError\u001b[0m                                 Traceback (most recent call last)",
        "\u001b[1;32m<ipython-input-2-45b7a0083d25>\u001b[0m in \u001b[0;36m<module>\u001b[1;34m()\u001b[0m\n\u001b[1;32m----> 1\u001b[1;33m \u001b[0mtrap\u001b[0m\u001b[1;33m\u001b[0m\u001b[0m\n\u001b[0m",
        "\u001b[1;31mNameError\u001b[0m: name 'trap' is not defined"
       ]
      }
     ],
     "prompt_number": 2
    },
    {
     "cell_type": "code",
     "collapsed": false,
     "input": [
      "varDict"
     ],
     "language": "python",
     "metadata": {},
     "outputs": [
      {
       "metadata": {},
       "output_type": "pyout",
       "prompt_number": 5,
       "text": [
        "{'a': 3, 'b': 0.14112000805986721, 'spike': <function __main__.spike>}"
       ]
      }
     ],
     "prompt_number": 5
    },
    {
     "cell_type": "code",
     "collapsed": true,
     "input": [
      "globals_trap={}\n",
      "eval('n.cos(b)',globals_trap,varDict)"
     ],
     "language": "python",
     "metadata": {},
     "outputs": [
      {
       "metadata": {},
       "output_type": "pyout",
       "prompt_number": 64,
       "text": [
        "0.99005908575986534"
       ]
      }
     ],
     "prompt_number": 64
    },
    {
     "cell_type": "code",
     "collapsed": false,
     "input": [],
     "language": "python",
     "metadata": {},
     "outputs": []
    },
    {
     "cell_type": "code",
     "collapsed": false,
     "input": [
      "trap['z']"
     ],
     "language": "python",
     "metadata": {},
     "outputs": [
      {
       "ename": "KeyError",
       "evalue": "'z'",
       "output_type": "pyerr",
       "traceback": [
        "\u001b[1;31m---------------------------------------------------------------------------\u001b[0m\n\u001b[1;31mKeyError\u001b[0m                                  Traceback (most recent call last)",
        "\u001b[1;32m<ipython-input-18-d5333a020132>\u001b[0m in \u001b[0;36m<module>\u001b[1;34m()\u001b[0m\n\u001b[1;32m----> 1\u001b[1;33m \u001b[0mtrap\u001b[0m\u001b[1;33m[\u001b[0m\u001b[1;34m'z'\u001b[0m\u001b[1;33m]\u001b[0m\u001b[1;33m\u001b[0m\u001b[0m\n\u001b[0m",
        "\u001b[1;31mKeyError\u001b[0m: 'z'"
       ]
      }
     ],
     "prompt_number": 18
    },
    {
     "cell_type": "code",
     "collapsed": false,
     "input": [
      "import h5py\n",
      "f=h5py.File('settings.hdf5','r+')"
     ],
     "language": "python",
     "metadata": {},
     "outputs": [],
     "prompt_number": 79
    },
    {
     "cell_type": "code",
     "collapsed": false,
     "input": [
      "with open('depvarstr.txt','r') as f2:\n",
      "    s=f2.read()\n",
      "print s"
     ],
     "language": "python",
     "metadata": {},
     "outputs": [
      {
       "output_type": "stream",
       "stream": "stdout",
       "text": [
        "#SI Prefixes\n",
        "giga=1e9; mega=1e6; kilo=1e3; milli=1e-3; micro=1e-6; nano=1e-9; pico=1e-12\n",
        "\n",
        "#physics constants\n",
        "c0=299792458 #m/s\n",
        "eps0=8.854187817e-12 # F/m\n",
        "alpha=7.2973525698e-3\n",
        "kB_SI=1.3806488e-23 #J/K\n",
        "\n",
        "#erstwhile independent variables\n",
        "#Rydberg_A_459_time_contro linspace(0,.0018,10)\n",
        "raman_frequency=9172.62 #a\n",
        "RydA_switch_AOM_frequency=1 #f\n",
        "parity_phase=0 #d\n",
        "microwave_phase_pi2_pulse=1.6 #c\n",
        "\n",
        "#dependent variables\n",
        "MOT_loading_time = 400\n",
        "MOT_frequency = 108\n",
        "MOT_power = 0\n",
        "\n",
        "hyperfine_time = MOT_loading_time\n",
        "hyperfine_frequency = 275\n",
        "hyperfine_power = 0\n",
        "\n",
        "trap_drop_time_before_loading=10\n",
        "MOT_2D_time=MOT_loading_time-12.5\n",
        "trap_off_time=20\n",
        "trap_on_time_during_loading = MOT_loading_time - trap_off_time - trap_drop_time_before_loading - 10\n",
        "\n",
        "PGC_1_time = 5\n",
        "PGC_1_frequency = 97\n",
        "PGC_1_power = -7\n",
        "PGC_hyperfine_time = PGC_1_time\n",
        "PGC_1_hyperfine_frequency = 278.5\n",
        "PGC_1_hyperfine_power = 0\n",
        "MOT_to_PGC_B_field_delay = .6\n",
        "trap_780_delay_for_PGC_1 = 4\n",
        "\n",
        "MOT_drop_time = 100\n",
        "Readout_time = 20\n",
        "Readout_frequency = 102\n",
        "Readout_power = -10\n",
        "Readout_hyperfine_frequency = 278.5\n",
        "Readout_hyperfine_power = 0\n",
        "Pre_Readout_Time = 50\n",
        "\n",
        "PGC_2_time = 50\n",
        "PGC_2_frequency = 91\n",
        "PGC_2_power = -9\n",
        "PGC_2_hyperfine_frequency = 278.5\n",
        "PGC_2_hyperfine_power = 0\n",
        "Readout_to_PGC_2_B_field_delay = .001\n",
        "\n",
        "optical_pumping_time = 2\n",
        "optical_pumping_frequency = 81\n",
        "OP_hyperfine_time = optical_pumping_time\n",
        "OP_2nd_time = 0\n",
        "OP_hyperfine_frequency = 278.5\n",
        "OP_hyperfine_power = 0\n",
        "depumping_894_time = 0\n",
        "single_site_459_OP_time = 0\n",
        "\n",
        "PGC_to_bias_B_field_delay = .1\n",
        "delay_before_excitation_pulse = .0005*10000\n",
        "delay_before_blowaway = 5\n",
        "raman_459_pulse = 0\n",
        "\n",
        "microwave_pi_pulse = 0.1064\n",
        "microwave_pi_by_2 = microwave_pi_pulse/2\n",
        "microwave_pulse_3pi_by_4 = microwave_pi_pulse*(3/4)\n",
        "microwave_pulse_2 = 0\n",
        "microwave_Raman_time=microwave_pi_pulse\n",
        "\n",
        "rydberg_A_459_time_control = .0006\n",
        "rydberg_B_459_time_control = 0\n",
        "rydberg_A_1038_time_control = rydberg_A_459_time_control+.0002\n",
        "rydberg_A_459_time_site2_target = rydberg_A_459_time_control\n",
        "rydberg_B_459_time_site2_target = 0\n",
        "rydberg_A_1038_time_site2_target = rydberg_A_459_time_site2_target + .0002\n",
        "rydberg_B_1038_time_control = 0\n",
        "\n",
        "trap_modulation_time = 0\n",
        "blow_away_time = .05*0\n",
        "\n",
        "scanner_1_frequency_1_459 = 148.3839\n",
        "scanner_2_frequency_1_459 = 148.03\n",
        "scanner_1_frequency_1_1038 = 150.5\n",
        "scanner_2_frequency_1_1038 = 147.26\n",
        "scanner_delay__extra_time_459 = .001\n",
        "scanner_delay__extra_time_1038 = scanner_delay__extra_time_459\n",
        "scanner_1_frequency_2_459 = scanner_1_frequency_1_459 + 2.326 - .346\n",
        "scanner_2_frequency_2_459 = scanner_2_frequency_1_459 + 2.059\n",
        "scanner_AOM_1_freq_2_1038 = scanner_1_frequency_1_1038 + 2.25 - .385\n",
        "scanner_AOM_2_freq_2_1038 = scanner_2_frequency_1_1038 - 3.5 - .24\n",
        "\n",
        "RydA_switch_AOM_frequency_1__site_15 = 152.141 + .095\n",
        "RydA_switch_AOM_frequency_2__site_9 = 149.378-.03\n",
        "RydB_switch_AOM_frequency_1 = 143\n",
        "RydB_switch_AOM_frequency_2 = 143\n",
        "\n",
        "site_1_RydA_frequency_offset = ((scanner_1_frequency_1_459-scanner_2_frequency_1_459)\n",
        "                                                        + (scanner_1_frequency_1_1038-scanner_2_frequency_1_1038)\n",
        "                                                        + 2*RydA_switch_AOM_frequency_1__site_15)\n",
        "site_1_calculator_based_on_previous_value = .5*(307.876 - scanner_1_frequency_1_459 + scanner_2_frequency_1_459 \n",
        "                                                                                  - scanner_1_frequency_1_1038 + scanner_2_frequency_1_1038)\n",
        "site_2_calculator_based_on_site_1 = .5*(site_1_RydA_frequency_offset - scanner_1_frequency_2_459 + scanner_2_frequency_2_459 \n",
        "                                                                    - scanner_AOM_1_freq_2_1038 + scanner_AOM_2_freq_2_1038)\n",
        "site_2_RydA_frequency_offset = ((scanner_1_frequency_2_459 - scanner_2_frequency_2_459) \n",
        "                                                       + (scanner_AOM_1_freq_2_1038 - scanner_AOM_2_freq_2_1038) + 2*RydA_switch_AOM_frequency_2__site_9)\n",
        "\n",
        "raman_pulse_at_freq_2 = 0\n",
        "ramsey_gap_time = 0\n",
        "ramsey_total_time = delay_before_excitation_pulse + 2*raman_459_pulse + 2*scanner_delay__extra_time_459 + ramsey_gap_time\n",
        "raman_waveform_total_time = delay_before_excitation_pulse + 2*scanner_delay__extra_time_459 + raman_459_pulse\n",
        "microwave_waveform_total_time = delay_before_excitation_pulse + microwave_Raman_time + 2*scanner_delay__extra_time_459\n",
        "\n",
        "trap_release_time = 0\n",
        "Rydberg_A_waveform_total_time =( rydberg_A_1038_time_control + 2*rydberg_A_1038_time_control + rydberg_A_1038_time_site2_target\n",
        "                                                          + 3*scanner_delay__extra_time_459 + scanner_delay__extra_time_459)\n",
        "Rydberg_B_waveform_total_time = 0\n",
        "microwave_pi_site_2_total_time = delay_before_excitation_pulse + microwave_pi_pulse + 2*scanner_delay__extra_time_459\n",
        "microwave_pi_by_2_total_time_with_comp_pulses = (delay_before_excitation_pulse + 5*scanner_delay__extra_time_459 + microwave_pi_by_2\n",
        "                                                                                     + 4*microwave_pi_pulse)\n",
        "microwave_3pi_by_4_total_time_with_comp_pulses = (delay_before_excitation_pulse + 5*scanner_delay__extra_time_459 + microwave_pulse_3pi_by_4\n",
        "                                                                                         + 4*microwave_pi_pulse)\n",
        "microwave_pi_total_time = microwave_pulse_2\n",
        "\n",
        "raman_X_pi_by_2_time = 0\n",
        "raman_X_3pi_by_2_time = 0\n",
        "raman_Z_pi_by_2_time = 0\n",
        "raman_Z_3pi_2_time = 0\n",
        "raman_X_pi_time = 0\n",
        "raman_Z_pi_time = 0\n",
        "\n",
        "random_benchmark_total_time = 0\n",
        "blowaway_frequency = 220\n",
        "\n",
        "max_of_raman_pulses = max(raman_waveform_total_time,microwave_waveform_total_time)\n",
        "max_of_raman_or_ramsey = max(max_of_raman_pulses,ramsey_total_time)\n",
        "max_of_raman_or_randomized_benchmark = max(max_of_raman_or_ramsey,random_benchmark_total_time)\n",
        "max_of_rydberg_pulses = max(Rydberg_B_waveform_total_time,Rydberg_A_waveform_total_time)\n",
        "\n",
        "bias_field_on_time = (optical_pumping_time + depumping_894_time + PGC_to_bias_B_field_delay + single_site_459_OP_time + trap_release_time \n",
        "                                   + Rydberg_A_waveform_total_time)\n",
        "delay_between_camera_shots = 45\n",
        "DDS_profile_delay = .00005\n",
        "\n",
        "_685_time = 0\n",
        "frequency_685 = 194\n",
        "power_685 = 0\n",
        "\n",
        "hyperfine_splitting_6s1_2 = 9.19263e9\n",
        "hyperfine_splitting_7p1_2 = 377.4e6\n",
        "gamma_6p3_2 = 2*pi*5.1e6\n",
        "gamma_7p1_2 = 2*pi*1e6\n",
        "alpha_780_cgs = -247e-24\n",
        "alpha_780_SI = alpha_780_cgs*4*pi*eps0*1e-6\n",
        "saturation_intensity = 27 #W/m^2\n",
        "mot_beam_waist_1 = 2.5 #mm\n",
        "mot_beam_waist_2 = 2.5 #mm\n",
        "mot_beam_waist_3 = 1.54 #mm\n",
        "readout_beam_power_1 = 560 #uW\n",
        "readout_beam_power_2 = 415 #uW\n",
        "readout_beam_power_3 = 205 #uW\n",
        "readout_detuning = 18 #MHz\n",
        "numerical_aperture_of_jenoptiq = .4\n",
        "\n",
        "transmission_efficiency = .8\n",
        "quantum_efficiency = .7\n",
        "conversion_factor_for_camera = 5.8 #electrons/count\n",
        "analog_gain = 4\n",
        "EM_sensitivity = 225 #as_entered_on_camera_page\n",
        "EM_gain = 10**(((log(1000)-log(4))/250)*EM_sensitivity+log(4))\n",
        "average_background_pixel_value = 10914*(Readout_time/.100)\n",
        "roi_area = 9\n",
        "imaging_system_mag = 25.5\n",
        "camera_pixel_size = 16 #um\n",
        "number_of_array_spots = 64 #n\n",
        "array_trap_spacing = 3.8#d_microns\n",
        "array_beam_waist = 1.73 #w0_microns\n",
        "power_out_of_the_fiber_780 = 4 #[W]\n",
        "transmission_to_atoms_780 = .6\n",
        "horizontal_waist_459 = 3e-6\n",
        "vertical_waist_459 = 3e-6\n",
        "\n",
        "scanner_transmission_459 = .132\n",
        "total_raman_power_at_fiber = 166e-6\n",
        "raman_detuning = 20e9 #Hz\n",
        "horizontal_waist_1038 = 3.2e-6\n",
        "vertical_waist_1038 = 4.3e-6\n",
        "scanner_transmission_1038 = .25\n",
        "\n",
        "Rydberg_A_459_power_at_fiber = 1.85*80e-6\n",
        "Rydberg_B_459_power_at_fiber = 120e-6\n",
        "Rydberg_1038_power_at_fiber = 1.85*12.3e-3\n",
        "Rydberg_level = 70\n",
        "Rydberg_detuning = -2.5e9 #Hz relative to f=4\n",
        "readout_detuning = readout_detuning*2*pi*1e6\n",
        "\n",
        "readout_beam_intensity_1 = 2*readout_beam_power_1*1e-6/(pi*mot_beam_waist_1**2*1e-6)\n",
        "readout_beam_intensity_2 = 2*readout_beam_power_2*1e-6/(pi*mot_beam_waist_2**2*1e-6)\n",
        "readout_beam_intensity_3 = 2*readout_beam_power_3*1e-6/(pi*mot_beam_waist_3**2*1e-6)\n",
        "total_intensity = 2*readout_beam_intensity_1+2*readout_beam_intensity_2+2*readout_beam_intensity_3\n",
        "total_saturation_parameter = total_intensity/saturation_intensity\n",
        "fractional_solid_angle = .5*(1-sqrt(1-numerical_aperture_of_jenoptiq**2))\n",
        "scattering_rate = (gamma_6p3_2/2)*total_saturation_parameter/(1+(4*readout_detuning**2)/(gamma_6p3_2**2)+total_saturation_parameter)\n",
        "detected_scattering_rate_for_single_atom = scattering_rate*fractional_solid_angle*transmission_efficiency*quantum_efficiency\n",
        "detected_photon_number_during_exposure_time = detected_scattering_rate_for_single_atom*Readout_time*(1e-3)\n",
        "expected_output_signal_dark_signal = detected_photon_number_during_exposure_time*analog_gain*EM_gain*quantum_efficiency/conversion_factor_for_camera\n",
        "expected_output_signal = expected_output_signal_dark_signal+average_background_pixel_value*roi_area\n",
        "pixel_size_after_mag = camera_pixel_size/imaging_system_mag #um\n",
        "lattice_period = array_trap_spacing/pixel_size_after_mag #in pixels\n",
        "array_ratio = array_trap_spacing/array_beam_waist #s=d/w\n",
        "total_power_at_atoms = power_out_of_the_fiber_780*transmission_to_atoms_780 #W\n",
        "P0 = (2*total_power_at_atoms/number_of_array_spots)/(pi*array_beam_waist**2e-12) #peak_intensity_in_one_spot\n",
        "trap_depth = -(0.001*2*pi*alpha_780_cgs/(kB_SI*c0))*P0*2*exp(-array_ratio**2/2)*(1-2*exp(-array_ratio**2/2)) #mK\n",
        "\n",
        "Raman_Rabi_freq = total_raman_power_at_fiber/2*scanner_transmission_459/(2*pi*horizontal_waist_459*vertical_waist_459)*((-1.305e9)/(raman_detuning-hyperfine_splitting_7p1_2)-7.83e8/raman_detuning) #Hz\n",
        "Raman_Stark_shift = total_raman_power_at_fiber/2*scanner_transmission_459/(2*pi*horizontal_waist_459*vertical_waist_459)*(4.1e9/(2*pi*(raman_detuning-hyperfine_splitting_7p1_2-hyperfine_splitting_6s1_2))-4.1e9/(2*pi*(raman_detuning-hyperfine_splitting_7p1_2+hyperfine_splitting_6s1_2)+2.46e9/(2*pi*(raman_detuning-hyperfine_splitting_6s1_2))-2.46e9/(2*pi*(raman_detuning+hyperfine_splitting_6s1_2)))) #Hz\n",
        "Rydberg_A_flopping_to_nD3_2 = 1/(2*pi*Rydberg_level**(3/2))*sqrt(Rydberg_A_459_power_at_fiber*scanner_transmission_1038*Rydberg_1038_power_at_fiber*scanner_transmission_1038/(horizontal_waist_459*vertical_waist_459*horizontal_waist_1038*vertical_waist_1038))*(9.692e10/(Rydberg_detuning)+5.815e10/(Rydberg_detuning+hyperfine_splitting_7p1_2)) #Hz\n",
        "Rydberg_B_flopping_to_nD3_2 = 1/(2*pi*Rydberg_level**(3/2))*sqrt(Rydberg_B_459_power_at_fiber*scanner_transmission_1038*Rydberg_1038_power_at_fiber*scanner_transmission_1038/(horizontal_waist_459*vertical_waist_459*horizontal_waist_1038*vertical_waist_1038))*(9.692e10/(Rydberg_detuning)+5.815e10/(Rydberg_detuning+hyperfine_splitting_7p1_2)) #Hz\n",
        "Raman_459_power_out_of_fiber = total_raman_power_at_fiber*1e3 #mW\n",
        "Raman_459_transmission_of_scanner = scanner_transmission_459\n",
        "Raman_459_power_at_atoms = Raman_459_power_out_of_fiber*Raman_459_transmission_of_scanner #mW\n",
        "Raman_459_detuning = raman_detuning*1e-9 #GHz\n",
        "Raman_459_waist_at_atoms = sqrt(horizontal_waist_459*vertical_waist_459)*1E6 #um\n",
        "Raman_459_7p1_2_Delta_f3 = -.2123 #GHz\n",
        "Raman_459_7p1_2_Delta_f4 = .1651 #GHz\n",
        "Raman_459_intermediate = 1/(Raman_459_detuning-Raman_459_7p1_2_Delta_f3)+(5/3)/(Raman_459_detuning-Raman_459_7p1_2_Delta_f4)\n",
        "Raman_459_Rabi_Omega_over_2pi = 93.3*Raman_459_intermediate*Raman_459_power_at_atoms/Raman_459_waist_at_atoms**2 #MHz\n",
        "Raman_459_gamma_p = 1/150 #GHz\n",
        "Raman_459_omega_q = 9.192 #GHz\n",
        "Raman_459_Pse_in_pi_pulse = Raman_459_gamma_p/4*(1/abs(Raman_459_intermediate))*(2/(Raman_459_detuning-Raman_459_7p1_2_Delta_f3)**2+1/(Raman_459_detuning-Raman_459_7p1_2_Delta_f3+Raman_459_omega_q)**2+1/(Raman_459_detuning-Raman_459_7p1_2_Delta_f3-Raman_459_omega_q)**2+(10/3)/(Raman_459_detuning-Raman_459_7p1_2_Delta_f4)**2+(5/3)/(Raman_459_detuning-Raman_459_7p1_2_Delta_f4+Raman_459_omega_q)**2+(5/3)/(Raman_459_detuning-Raman_459_7p1_2_Delta_f4-Raman_459_omega_q)**2)\n",
        "Raman_459_differential_stark_shift = Raman_459_Rabi_Omega_over_2pi*(Raman_459_detuning/32)*((5/3)/(Raman_459_detuning-Raman_459_7p1_2_Delta_f4+Raman_459_omega_q)+1/(Raman_459_detuning-Raman_459_7p1_2_Delta_f3+Raman_459_omega_q)-(5/3)/(Raman_459_detuning-Raman_459_7p1_2_Delta_f4-Raman_459_omega_q)-1/(Raman_459_detuning-Raman_459_7p1_2_Delta_f3-Raman_459_omega_q)) #MHz\n",
        "Rydberg_459_A_power_at_atoms = Rydberg_A_459_power_at_fiber*scanner_transmission_459*(1e3) #mW\n",
        "Rydberg_1038_power_at_atoms = Rydberg_1038_power_at_fiber*scanner_transmission_1038*(1e3) #mW\n",
        "Rydberg_459_beam_waist = sqrt(horizontal_waist_459*vertical_waist_459)*(1e6)\n",
        "Rydberg_1038_beam_waist = sqrt(horizontal_waist_1038*vertical_waist_1038)*(1e6)\n",
        "Rydberg_detuning_3p = -212.3*(2*pi) #MHz\n",
        "Rydberg_detuning_4p = 165.1*(2*pi) #MHz\n",
        "Rydberg_detuning = Rydberg_detuning*1e-9+.165 #GHz\n",
        "Rydberg_detuning_over_2pi = Rydberg_detuning*(2*pi)*1e3 #MHz\n",
        "Rydberg_Rabi_Frequency_over_2pi = 20600*(sqrt(Rydberg_459_A_power_at_atoms*Rydberg_1038_power_at_atoms)/(Rydberg_level**(3/2)*Rydberg_459_beam_waist*Rydberg_1038_beam_waist*Rydberg_detuning))*(1-(5/8)*(Rydberg_detuning_3p/Rydberg_detuning_over_2pi)-(3/8)*(Rydberg_detuning_4p/Rydberg_detuning_over_2pi))/((1-(Rydberg_detuning_3p/Rydberg_detuning_over_2pi))*(1-(Rydberg_detuning_4p/Rydberg_detuning_over_2pi))) #MHz\n",
        "Rydberg_AC_stark_shift = (160200*(Rydberg_1038_power_at_atoms/(Rydberg_level**3*Rydberg_1038_beam_waist**2))-93.47*(Rydberg_459_A_power_at_atoms/Rydberg_459_beam_waist**2))*(1/Rydberg_detuning)*((1/(1-Rydberg_detuning_3p/Rydberg_detuning_over_2pi))+((5/3)/(1-Rydberg_detuning_4p/Rydberg_detuning_over_2pi)))\n",
        "Rydberg_sponteneous_emission_rate = (.43*(sqrt(Rydberg_1038_power_at_atoms)*Rydberg_459_beam_waist/(Rydberg_level**(3/2)*sqrt(Rydberg_459_A_power_at_atoms)*Rydberg_1038_beam_waist))+(2.5e-4)*(sqrt(Rydberg_459_A_power_at_atoms)*Rydberg_1038_beam_waist/(Rydberg_level**(3/2)*sqrt(Rydberg_1038_power_at_atoms)*Rydberg_459_beam_waist)))*(1/Rydberg_detuning)*(1-2*((5/8)*(Rydberg_detuning_3p/Rydberg_detuning_over_2pi)+(3/8)*(Rydberg_detuning_4p/Rydberg_detuning_over_2pi))+(5/8)*(Rydberg_detuning_3p/Rydberg_detuning_over_2pi)**2+(3/8)*(Rydberg_detuning_4p/Rydberg_detuning_over_2pi)**2)/((1-Rydberg_detuning_3p/Rydberg_detuning_over_2pi)*(1-Rydberg_detuning_4p/Rydberg_detuning_over_2pi)*(1-(5/8)*(Rydberg_detuning_3p/Rydberg_detuning_over_2pi)-(3/8)*(Rydberg_detuning_4p/Rydberg_detuning_over_2pi)))\n",
        "Rydberg_blue_power_needed_to_match_red_Rabi = (1/scanner_transmission_459)*(Rydberg_1038_power_at_atoms*Rydberg_459_beam_waist**2)/(.00058*Rydberg_1038_beam_waist**2*Rydberg_level**3)\n",
        "power_894 = .450 #uW\n",
        "OP_repumper = 8.5 #uW\n",
        "\n",
        "## Analog Output equations ##\n",
        "\n",
        "MOT=0; PGC_1=1; readout=2; _685=3; Exp=4\n",
        "\n",
        "gradient_field=[ 4.5, 0,    0,    0,    0]\n",
        "x2_5_shim     =[-0.5,-0.3,  0,   -0.55,-0.34]\n",
        "x3_6_shim     =[ 0.76,-0.75,-0.4,  0.55,-0.32]\n",
        "vertical_shim =[-1.7,-1.3, -1.76, -1.55,-1.815]\n",
        "bias_shim     =[-1.4, 1.6,  1.4,  1.65,-5.6]\n",
        "\n",
        "AO_widths=[MOT_loading_time,\n",
        "            MOT_to_PGC_B_field_delay+PGC_1_time,\n",
        "            MOT_drop_time+Pre_Readout_Time+Readout_time,\n",
        "            Readout_to_PGC_2_B_field_delay+PGC_2_time+10.75,\n",
        "            _685_time,\n",
        "            bias_field_on_time+9,\n",
        "            delay_between_camera_shots+Readout_time+trap_release_time+5,\n",
        "            200\n",
        "            ]\n",
        "\n",
        "total_AO_time=sum(AO_widths)\n",
        "\n",
        "def spike(t,t_min,width):\n",
        "    return where((less_equal(t_min,t))*(less(t,(t_min+width))),1,0)\n",
        "\n",
        "def AO_equation(t,a):\n",
        "    heights=[a[MOT],a[PGC_1],a[readout],a[readout],a[_685],a[Exp],a[readout],a[MOT]]\n",
        "    \n",
        "    #loop to add up each of these waveform segments\n",
        "    t0=0\n",
        "    x=zeros_like(t)\n",
        "    for h,w in zip(heights,AO_widths):\n",
        "        x+=h*spike(t,t0,w) #add this section to the waveform\n",
        "        t0+=w #increment the start point for the next section\n",
        "    \n",
        "    return x\n",
        "\n",
        "# DDS Profiles\n",
        "MOT_bits = {'MOT':(0,0,0), 'PGC':(1,0,0), 'OFF':(0,1,0), 'readout':(1,1,0)}\n",
        "repump_bits = {'ON':0, 'OFF':1}\n",
        "trap_bits =  {'ON':0, 'OFF':1}\n",
        "MOT2D_bits = {'ON':0, 'OFF':1}\n",
        "scanner459_bits = {'OFF':(0,0),'control':(1,0),'target':(0,1)}\n",
        "Raman_bits = {'ON':1, 'OFF':0}\n",
        "RydA_bits = {'OFF':(0,0),'control':(1,0),'target':(0,1),'low power':(1,1)}\n",
        "Ryd1038_bits = {'ON':1, 'OFF':0}\n",
        "OP_bits = {'ON':1, 'OFF':0}\n",
        "OP_repump_bits = {'ON':1, 'OFF':0}\n",
        "OP_bits = {'ON':1, 'OFF':0}\n",
        "blowaway_bits = {'ON':1, 'OFF':0}\n",
        "\n"
       ]
      }
     ],
     "prompt_number": 80
    },
    {
     "cell_type": "code",
     "collapsed": false,
     "input": [
      "f['settings/experiment'].attrs['dependentVariablesStr']=s"
     ],
     "language": "python",
     "metadata": {},
     "outputs": [],
     "prompt_number": 81
    },
    {
     "cell_type": "code",
     "collapsed": false,
     "input": [
      "f.flush()\n",
      "f.close()"
     ],
     "language": "python",
     "metadata": {},
     "outputs": [],
     "prompt_number": 83
    },
    {
     "cell_type": "code",
     "collapsed": false,
     "input": [
      "globals()['sin']"
     ],
     "language": "python",
     "metadata": {},
     "outputs": [
      {
       "ename": "KeyError",
       "evalue": "'sin'",
       "output_type": "pyerr",
       "traceback": [
        "\u001b[1;31m---------------------------------------------------------------------------\u001b[0m\n\u001b[1;31mKeyError\u001b[0m                                  Traceback (most recent call last)",
        "\u001b[1;32m<ipython-input-88-6b3c9c308fc2>\u001b[0m in \u001b[0;36m<module>\u001b[1;34m()\u001b[0m\n\u001b[1;32m----> 1\u001b[1;33m \u001b[0mglobals\u001b[0m\u001b[1;33m(\u001b[0m\u001b[1;33m)\u001b[0m\u001b[1;33m[\u001b[0m\u001b[1;34m'sin'\u001b[0m\u001b[1;33m]\u001b[0m\u001b[1;33m\u001b[0m\u001b[0m\n\u001b[0m",
        "\u001b[1;31mKeyError\u001b[0m: 'sin'"
       ]
      }
     ],
     "prompt_number": 88
    },
    {
     "cell_type": "code",
     "collapsed": false,
     "input": [
      "def execWithDict(string, varDict={}):\n",
      "    \"\"\"This executes a string with an empty globals context.  If the user wishes to have access to numpy they should\n",
      "     import numpy as a part of the dependentVariablesStr.\n",
      "    The passed in dictionary gets updated with newly defined locals.\"\"\"\n",
      "\n",
      "    if string != '':\n",
      "        try:\n",
      "            #globals_trap = {}\n",
      "            print '4', '__builtins__' in myGlobalSetup\n",
      "            myGlobals = myGlobalSetup.copy()\n",
      "            print '5','__builtins__' in myGlobals\n",
      "            print '6','__builtins__' in varDict\n",
      "            exec(string, myGlobals, varDict)\n",
      "            print '7', '__builtins__' in myGlobals\n",
      "            print '8','__builtins__' in varDict\n",
      "\n",
      "            myGlobals.update(varDict)\n",
      "            print '9', '__builtins__' in myGlobals\n",
      "            print '10','__builtins__' in varDict\n",
      "            print '11', 'sin' in varDict\n",
      "\n",
      "            ##global_trap gets polluted with all sorts of built-in variables and gets thrown away\n",
      "            #varDict acts as locals and gets updated implicitly,\n",
      "            #so new variable values do not need to be passed back out of this function\n",
      "        except Exception as e:\n",
      "            logger.warning('Could not exec string:\\n{}\\n{}\\n{}\\n'.format(string, e, traceback.format_exc()))\n",
      "            raise PauseError\n"
     ],
     "language": "python",
     "metadata": {},
     "outputs": []
    }
   ],
   "metadata": {}
  }
 ]
}