{
 "metadata": {
  "name": "",
  "signature": "sha256:3fe6894d5c0063b7e3ec7e9f6c9234ca13590fdfaed255f1ab7abe3e5358a792"
 },
 "nbformat": 3,
 "nbformat_minor": 0,
 "worksheets": [
  {
   "cells": [
    {
     "cell_type": "code",
     "collapsed": false,
     "input": [
      "import cs_evaluate as ev"
     ],
     "language": "python",
     "metadata": {},
     "outputs": [],
     "prompt_number": 1
    },
    {
     "cell_type": "code",
     "collapsed": false,
     "input": [
      "numpy"
     ],
     "language": "python",
     "metadata": {},
     "outputs": [
      {
       "ename": "NameError",
       "evalue": "name 'numpy' is not defined",
       "output_type": "pyerr",
       "traceback": [
        "\u001b[1;31m---------------------------------------------------------------------------\u001b[0m\n\u001b[1;31mNameError\u001b[0m                                 Traceback (most recent call last)",
        "\u001b[1;32m<ipython-input-21-93d7964ec38e>\u001b[0m in \u001b[0;36m<module>\u001b[1;34m()\u001b[0m\n\u001b[1;32m----> 1\u001b[1;33m \u001b[0mnumpy\u001b[0m\u001b[1;33m\u001b[0m\u001b[0m\n\u001b[0m",
        "\u001b[1;31mNameError\u001b[0m: name 'numpy' is not defined"
       ]
      }
     ],
     "prompt_number": 21
    },
    {
     "cell_type": "code",
     "collapsed": false,
     "input": [
      "import numpy as np"
     ],
     "language": "python",
     "metadata": {},
     "outputs": [],
     "prompt_number": 22
    },
    {
     "cell_type": "code",
     "collapsed": false,
     "input": [
      "varDict={}\n",
      "newDict=varDict.copy()\n",
      "newDict.update([('np',np)])\n",
      "newDict"
     ],
     "language": "python",
     "metadata": {},
     "outputs": [
      {
       "metadata": {},
       "output_type": "pyout",
       "prompt_number": 56,
       "text": [
        "{'np': <module 'numpy' from 'C:\\Users\\Saffmanlab\\AppData\\Local\\Enthought\\Canopy\\User\\lib\\site-packages\\numpy\\__init__.pyc'>}"
       ]
      }
     ],
     "prompt_number": 56
    },
    {
     "cell_type": "code",
     "collapsed": false,
     "input": [
      "eval('np.sin(3)',newDict)"
     ],
     "language": "python",
     "metadata": {},
     "outputs": [
      {
       "metadata": {},
       "output_type": "pyout",
       "prompt_number": 50,
       "text": [
        "0.14112000805986721"
       ]
      }
     ],
     "prompt_number": 50
    },
    {
     "cell_type": "code",
     "collapsed": false,
     "input": [
      "varDict={}\n",
      "s='''import numpy as n\n",
      "a=3\n",
      "b=n.sin(a)\n",
      "'''\n",
      "exec(s,trap,varDict)"
     ],
     "language": "python",
     "metadata": {},
     "outputs": [],
     "prompt_number": 57
    },
    {
     "cell_type": "code",
     "collapsed": false,
     "input": [
      "trap"
     ],
     "language": "python",
     "metadata": {},
     "outputs": [
      {
       "metadata": {},
       "output_type": "pyout",
       "prompt_number": 58,
       "text": [
        "{'__builtins__': {'ArithmeticError': ArithmeticError,\n",
        "  'AssertionError': AssertionError,\n",
        "  'AttributeError': AttributeError,\n",
        "  'BaseException': BaseException,\n",
        "  'BufferError': BufferError,\n",
        "  'BytesWarning': BytesWarning,\n",
        "  'DeprecationWarning': DeprecationWarning,\n",
        "  'EOFError': EOFError,\n",
        "  'Ellipsis': Ellipsis,\n",
        "  'EnvironmentError': EnvironmentError,\n",
        "  'Exception': Exception,\n",
        "  'False': False,\n",
        "  'FloatingPointError': FloatingPointError,\n",
        "  'FutureWarning': FutureWarning,\n",
        "  'GeneratorExit': GeneratorExit,\n",
        "  'IOError': IOError,\n",
        "  'ImportError': ImportError,\n",
        "  'ImportWarning': ImportWarning,\n",
        "  'IndentationError': IndentationError,\n",
        "  'IndexError': IndexError,\n",
        "  'KeyError': KeyError,\n",
        "  'KeyboardInterrupt': KeyboardInterrupt,\n",
        "  'LookupError': LookupError,\n",
        "  'MemoryError': MemoryError,\n",
        "  'NameError': NameError,\n",
        "  'None': None,\n",
        "  'NotImplemented': NotImplemented,\n",
        "  'NotImplementedError': NotImplementedError,\n",
        "  'OSError': OSError,\n",
        "  'OverflowError': OverflowError,\n",
        "  'PendingDeprecationWarning': PendingDeprecationWarning,\n",
        "  'ReferenceError': ReferenceError,\n",
        "  'RuntimeError': RuntimeError,\n",
        "  'RuntimeWarning': RuntimeWarning,\n",
        "  'StandardError': StandardError,\n",
        "  'StopIteration': StopIteration,\n",
        "  'SyntaxError': SyntaxError,\n",
        "  'SyntaxWarning': SyntaxWarning,\n",
        "  'SystemError': SystemError,\n",
        "  'SystemExit': SystemExit,\n",
        "  'TabError': TabError,\n",
        "  'True': True,\n",
        "  'TypeError': TypeError,\n",
        "  'UnboundLocalError': UnboundLocalError,\n",
        "  'UnicodeDecodeError': UnicodeDecodeError,\n",
        "  'UnicodeEncodeError': UnicodeEncodeError,\n",
        "  'UnicodeError': UnicodeError,\n",
        "  'UnicodeTranslateError': UnicodeTranslateError,\n",
        "  'UnicodeWarning': UnicodeWarning,\n",
        "  'UserWarning': UserWarning,\n",
        "  'ValueError': ValueError,\n",
        "  'Warning': Warning,\n",
        "  'WindowsError': WindowsError,\n",
        "  'ZeroDivisionError': ZeroDivisionError,\n",
        "  '__IPYTHON__': True,\n",
        "  '__IPYTHON__active': 'Deprecated, check for __IPYTHON__',\n",
        "  '__debug__': True,\n",
        "  '__doc__': \"Built-in functions, exceptions, and other objects.\\n\\nNoteworthy: None is the `nil' object; Ellipsis represents `...' in slices.\",\n",
        "  '__import__': <function __import__>,\n",
        "  '__name__': '__builtin__',\n",
        "  '__package__': None,\n",
        "  'abs': <function abs>,\n",
        "  'all': <function all>,\n",
        "  'any': <function any>,\n",
        "  'apply': <function apply>,\n",
        "  'basestring': basestring,\n",
        "  'bin': <function bin>,\n",
        "  'bool': bool,\n",
        "  'buffer': buffer,\n",
        "  'bytearray': bytearray,\n",
        "  'bytes': str,\n",
        "  'callable': <function callable>,\n",
        "  'chr': <function chr>,\n",
        "  'classmethod': classmethod,\n",
        "  'cmp': <function cmp>,\n",
        "  'coerce': <function coerce>,\n",
        "  'compile': <function compile>,\n",
        "  'complex': complex,\n",
        "  'copyright': Copyright (c) 2001-2013 Python Software Foundation.\n",
        "  All Rights Reserved.\n",
        "  \n",
        "  Copyright (c) 2000 BeOpen.com.\n",
        "  All Rights Reserved.\n",
        "  \n",
        "  Copyright (c) 1995-2001 Corporation for National Research Initiatives.\n",
        "  All Rights Reserved.\n",
        "  \n",
        "  Copyright (c) 1991-1995 Stichting Mathematisch Centrum, Amsterdam.\n",
        "  All Rights Reserved.,\n",
        "  'credits':     Thanks to CWI, CNRI, BeOpen.com, Zope Corporation and a cast of thousands\n",
        "      for supporting Python development.  See www.python.org for more information.,\n",
        "  'delattr': <function delattr>,\n",
        "  'dict': dict,\n",
        "  'dir': <function dir>,\n",
        "  'divmod': <function divmod>,\n",
        "  'dreload': <function IPython.lib.deepreload.reload>,\n",
        "  'enumerate': enumerate,\n",
        "  'eval': <function eval>,\n",
        "  'execfile': <function execfile>,\n",
        "  'file': file,\n",
        "  'filter': <function filter>,\n",
        "  'float': float,\n",
        "  'format': <function format>,\n",
        "  'frozenset': frozenset,\n",
        "  'get_ipython': <bound method ZMQInteractiveShell.get_ipython of <IPython.kernel.zmq.zmqshell.ZMQInteractiveShell object at 0x0000000003EFF748>>,\n",
        "  'getattr': <function getattr>,\n",
        "  'globals': <function globals>,\n",
        "  'hasattr': <function hasattr>,\n",
        "  'hash': <function hash>,\n",
        "  'help': Type help() for interactive help, or help(object) for help about object.,\n",
        "  'hex': <function hex>,\n",
        "  'id': <function id>,\n",
        "  'input': <function IPython.kernel.zmq.ipkernel.<lambda>>,\n",
        "  'int': int,\n",
        "  'intern': <function intern>,\n",
        "  'isinstance': <function isinstance>,\n",
        "  'issubclass': <function issubclass>,\n",
        "  'iter': <function iter>,\n",
        "  'len': <function len>,\n",
        "  'license': See http://www.python.org/2.7/license.html,\n",
        "  'list': list,\n",
        "  'locals': <function locals>,\n",
        "  'long': long,\n",
        "  'map': <function map>,\n",
        "  'max': <function max>,\n",
        "  'memoryview': memoryview,\n",
        "  'min': <function min>,\n",
        "  'next': <function next>,\n",
        "  'object': object,\n",
        "  'oct': <function oct>,\n",
        "  'open': <function open>,\n",
        "  'ord': <function ord>,\n",
        "  'pow': <function pow>,\n",
        "  'print': <function print>,\n",
        "  'property': property,\n",
        "  'range': <function range>,\n",
        "  'raw_input': <function IPython.kernel.zmq.ipkernel.<lambda>>,\n",
        "  'reduce': <function reduce>,\n",
        "  'reload': <function reload>,\n",
        "  'repr': <function repr>,\n",
        "  'reversed': reversed,\n",
        "  'round': <function round>,\n",
        "  'set': set,\n",
        "  'setattr': <function setattr>,\n",
        "  'slice': slice,\n",
        "  'sorted': <function sorted>,\n",
        "  'staticmethod': staticmethod,\n",
        "  'str': str,\n",
        "  'sum': <function sum>,\n",
        "  'super': super,\n",
        "  'tuple': tuple,\n",
        "  'type': type,\n",
        "  'unichr': <function unichr>,\n",
        "  'unicode': unicode,\n",
        "  'vars': <function vars>,\n",
        "  'xrange': xrange,\n",
        "  'zip': <function zip>}}"
       ]
      }
     ],
     "prompt_number": 58
    },
    {
     "cell_type": "code",
     "collapsed": false,
     "input": [
      "varDict"
     ],
     "language": "python",
     "metadata": {},
     "outputs": [
      {
       "metadata": {},
       "output_type": "pyout",
       "prompt_number": 61,
       "text": [
        "{'a': 3,\n",
        " 'b': 0.14112000805986721,\n",
        " 'n': <module 'numpy' from 'C:\\Users\\Saffmanlab\\AppData\\Local\\Enthought\\Canopy\\User\\lib\\site-packages\\numpy\\__init__.pyc'>}"
       ]
      }
     ],
     "prompt_number": 61
    },
    {
     "cell_type": "code",
     "collapsed": true,
     "input": [
      "globals_trap={}\n",
      "eval('n.cos(a)',globals_trap,varDict)"
     ],
     "language": "python",
     "metadata": {},
     "outputs": [
      {
       "metadata": {},
       "output_type": "pyout",
       "prompt_number": 60,
       "text": [
        "-0.98999249660044542"
       ]
      }
     ],
     "prompt_number": 60
    },
    {
     "cell_type": "code",
     "collapsed": false,
     "input": [],
     "language": "python",
     "metadata": {},
     "outputs": []
    },
    {
     "cell_type": "code",
     "collapsed": false,
     "input": [],
     "language": "python",
     "metadata": {},
     "outputs": []
    },
    {
     "cell_type": "code",
     "collapsed": false,
     "input": [
      "trap['z']"
     ],
     "language": "python",
     "metadata": {},
     "outputs": [
      {
       "ename": "KeyError",
       "evalue": "'z'",
       "output_type": "pyerr",
       "traceback": [
        "\u001b[1;31m---------------------------------------------------------------------------\u001b[0m\n\u001b[1;31mKeyError\u001b[0m                                  Traceback (most recent call last)",
        "\u001b[1;32m<ipython-input-18-d5333a020132>\u001b[0m in \u001b[0;36m<module>\u001b[1;34m()\u001b[0m\n\u001b[1;32m----> 1\u001b[1;33m \u001b[0mtrap\u001b[0m\u001b[1;33m[\u001b[0m\u001b[1;34m'z'\u001b[0m\u001b[1;33m]\u001b[0m\u001b[1;33m\u001b[0m\u001b[0m\n\u001b[0m",
        "\u001b[1;31mKeyError\u001b[0m: 'z'"
       ]
      }
     ],
     "prompt_number": 18
    },
    {
     "cell_type": "code",
     "collapsed": false,
     "input": [],
     "language": "python",
     "metadata": {},
     "outputs": []
    }
   ],
   "metadata": {}
  }
 ]
}