{
 "metadata": {
  "name": "",
  "signature": "sha256:6a9de5047653328497a06c330aa0ed9d3c97afbf9dd2ad068887ba9047545b72"
 },
 "nbformat": 3,
 "nbformat_minor": 0,
 "worksheets": []
}