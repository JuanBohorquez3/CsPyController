{
 "metadata": {
  "name": "",
  "signature": "sha256:889a06ee05be4109da6d6b272b6db7e222ebecb10a3dd869f66c65290e48322b"
 },
 "nbformat": 3,
 "nbformat_minor": 0,
 "worksheets": [
  {
   "cells": [
    {
     "cell_type": "code",
     "collapsed": false,
     "input": [
      "s='''19\t5\t22\t8\n",
      "25\t5\t28\t8\n",
      "33\t6\t36\t9\n",
      "39\t6\t42\t9\n",
      "45\t6\t48\t9\n",
      "52\t7\t55\t10\n",
      "58\t6\t61\t9\n",
      "20\t12\t23\t15\n",
      "26\t11\t29\t14\n",
      "32\t12\t35\t15\n",
      "39\t13\t42\t16\n",
      "45\t12\t48\t15\n",
      "52\t12\t55\t15\n",
      "57\t12\t60\t15\n",
      "19\t18\t22\t21\n",
      "25\t19\t28\t22\n",
      "32\t19\t35\t22\n",
      "38\t18\t41\t21\n",
      "45\t19\t48\t22\n",
      "51\t19\t54\t22\n",
      "58\t19\t61\t22\n",
      "19\t24\t22\t27\n",
      "26\t25\t29\t28\n",
      "32\t25\t35\t28\n",
      "39\t25\t42\t28\n",
      "44\t25\t47\t28\n",
      "51\t26\t54\t29\n",
      "57\t26\t60\t29\n",
      "19\t31\t22\t34\n",
      "25\t31\t28\t34\n",
      "32\t31\t35\t34\n",
      "38\t32\t41\t35\n",
      "44\t31\t47\t34\n",
      "51\t31\t54\t34\n",
      "57\t31\t60\t34\n",
      "19\t37\t22\t40\n",
      "25\t37\t28\t40\n",
      "32\t37\t35\t40\n",
      "38\t38\t41\t41\n",
      "45\t37\t48\t40\n",
      "52\t38\t55\t41\n",
      "57\t38\t60\t41\n",
      "19\t44\t22\t47\n",
      "25\t44\t28\t47\n",
      "31\t45\t34\t48\n",
      "38\t44\t41\t47\n",
      "45\t44\t48\t47\n",
      "50\t44\t53\t47\n",
      "57\t44\t60\t47'''"
     ],
     "language": "python",
     "metadata": {},
     "outputs": [],
     "prompt_number": 1
    },
    {
     "cell_type": "code",
     "collapsed": false,
     "input": [
      "r=numpy.array([[int(j) for j in i.split('\\t')] for i in s.split('\\n')])"
     ],
     "language": "python",
     "metadata": {},
     "outputs": [],
     "prompt_number": 3
    },
    {
     "cell_type": "code",
     "collapsed": false,
     "input": [
      "r"
     ],
     "language": "python",
     "metadata": {},
     "outputs": [
      {
       "metadata": {},
       "output_type": "pyout",
       "prompt_number": 4,
       "text": [
        "array([[19,  5, 22,  8],\n",
        "       [25,  5, 28,  8],\n",
        "       [33,  6, 36,  9],\n",
        "       [39,  6, 42,  9],\n",
        "       [45,  6, 48,  9],\n",
        "       [52,  7, 55, 10],\n",
        "       [58,  6, 61,  9],\n",
        "       [20, 12, 23, 15],\n",
        "       [26, 11, 29, 14],\n",
        "       [32, 12, 35, 15],\n",
        "       [39, 13, 42, 16],\n",
        "       [45, 12, 48, 15],\n",
        "       [52, 12, 55, 15],\n",
        "       [57, 12, 60, 15],\n",
        "       [19, 18, 22, 21],\n",
        "       [25, 19, 28, 22],\n",
        "       [32, 19, 35, 22],\n",
        "       [38, 18, 41, 21],\n",
        "       [45, 19, 48, 22],\n",
        "       [51, 19, 54, 22],\n",
        "       [58, 19, 61, 22],\n",
        "       [19, 24, 22, 27],\n",
        "       [26, 25, 29, 28],\n",
        "       [32, 25, 35, 28],\n",
        "       [39, 25, 42, 28],\n",
        "       [44, 25, 47, 28],\n",
        "       [51, 26, 54, 29],\n",
        "       [57, 26, 60, 29],\n",
        "       [19, 31, 22, 34],\n",
        "       [25, 31, 28, 34],\n",
        "       [32, 31, 35, 34],\n",
        "       [38, 32, 41, 35],\n",
        "       [44, 31, 47, 34],\n",
        "       [51, 31, 54, 34],\n",
        "       [57, 31, 60, 34],\n",
        "       [19, 37, 22, 40],\n",
        "       [25, 37, 28, 40],\n",
        "       [32, 37, 35, 40],\n",
        "       [38, 38, 41, 41],\n",
        "       [45, 37, 48, 40],\n",
        "       [52, 38, 55, 41],\n",
        "       [57, 38, 60, 41],\n",
        "       [19, 44, 22, 47],\n",
        "       [25, 44, 28, 47],\n",
        "       [31, 45, 34, 48],\n",
        "       [38, 44, 41, 47],\n",
        "       [45, 44, 48, 47],\n",
        "       [50, 44, 53, 47],\n",
        "       [57, 44, 60, 47]])"
       ]
      }
     ],
     "prompt_number": 4
    },
    {
     "cell_type": "code",
     "collapsed": false,
     "input": [
      "import h5py\n",
      "f = h5py.File(r'C:\\Users\\Saffmanlab\\Documents\\git\\CsPyController\\python\\settings.hdf5','a')"
     ],
     "language": "python",
     "metadata": {},
     "outputs": [],
     "prompt_number": 5
    },
    {
     "cell_type": "code",
     "collapsed": false,
     "input": [
      "r.shape"
     ],
     "language": "python",
     "metadata": {},
     "outputs": [
      {
       "metadata": {},
       "output_type": "pyout",
       "prompt_number": 6,
       "text": [
        "(49L, 4L)"
       ]
      }
     ],
     "prompt_number": 6
    },
    {
     "cell_type": "code",
     "collapsed": false,
     "input": [
      "f['settings/experiment/squareROIAnalysis/ROIs'].value"
     ],
     "language": "python",
     "metadata": {},
     "outputs": [
      {
       "metadata": {},
       "output_type": "pyout",
       "prompt_number": 8,
       "text": [
        "array([(19, 6, 22, 9, 17000L), (25, 6, 28, 9, 17000L),\n",
        "       (31, 6, 34, 9, 17000L), (38, 6, 41, 9, 17000L),\n",
        "       (44, 6, 47, 9, 17000L), (50, 6, 53, 9, 17000L),\n",
        "       (56, 6, 59, 9, 17000L), (19, 12, 22, 15, 17000L),\n",
        "       (25, 12, 28, 15, 17000L), (31, 12, 34, 15, 20000L),\n",
        "       (38, 12, 41, 15, 17000L), (44, 12, 47, 15, 17000L),\n",
        "       (50, 12, 53, 15, 17000L), (56, 12, 59, 15, 17000L),\n",
        "       (19, 18, 22, 21, 17000L), (25, 18, 28, 21, 18000L),\n",
        "       (31, 18, 34, 21, 17000L), (38, 18, 41, 21, 17000L),\n",
        "       (44, 18, 47, 21, 17000L), (50, 18, 53, 21, 17000L),\n",
        "       (56, 18, 59, 21, 17000L), (19, 24, 22, 27, 17000L),\n",
        "       (25, 24, 28, 27, 17000L), (31, 24, 34, 27, 17000L),\n",
        "       (38, 24, 41, 27, 17000L), (44, 24, 47, 27, 17000L),\n",
        "       (50, 24, 53, 27, 17000L), (56, 24, 59, 27, 17000L),\n",
        "       (19, 31, 22, 34, 17000L), (25, 31, 28, 34, 17000L),\n",
        "       (31, 31, 34, 34, 17000L), (38, 31, 41, 34, 17000L),\n",
        "       (44, 31, 47, 34, 17000L), (50, 31, 53, 34, 17000L),\n",
        "       (56, 31, 59, 34, 17000L), (19, 37, 22, 40, 17000L),\n",
        "       (25, 37, 28, 40, 17000L), (31, 37, 34, 40, 17000L),\n",
        "       (38, 37, 41, 40, 17000L), (44, 37, 47, 40, 17000L),\n",
        "       (50, 37, 53, 40, 17000L), (56, 37, 59, 40, 17000L),\n",
        "       (19, 43, 22, 46, 17000L), (25, 43, 28, 46, 17000L),\n",
        "       (31, 43, 34, 46, 17000L), (38, 43, 41, 46, 17000L),\n",
        "       (44, 43, 47, 46, 17000L), (50, 43, 53, 46, 17000L),\n",
        "       (56, 43, 59, 46, 17000L)], \n",
        "      dtype=[('left', '<u2'), ('top', '<u2'), ('right', '<u2'), ('bottom', '<u2'), ('threshold', '<u4')])"
       ]
      }
     ],
     "prompt_number": 8
    },
    {
     "cell_type": "code",
     "collapsed": false,
     "input": [
      "f['settings/experiment/squareROIAnalysis/ROIs']['left']=r[:,0]\n",
      "f['settings/experiment/squareROIAnalysis/ROIs']['top']=r[:,1]\n",
      "f['settings/experiment/squareROIAnalysis/ROIs']['right']=r[:,2]\n",
      "f['settings/experiment/squareROIAnalysis/ROIs']['bottom']=r[:,3]"
     ],
     "language": "python",
     "metadata": {},
     "outputs": [],
     "prompt_number": 11
    },
    {
     "cell_type": "code",
     "collapsed": false,
     "input": [
      "f['settings/experiment/squareROIAnalysis/ROIs'].value"
     ],
     "language": "python",
     "metadata": {},
     "outputs": [
      {
       "metadata": {},
       "output_type": "pyout",
       "prompt_number": 13,
       "text": [
        "array([(19, 5, 22, 8, 17000L), (25, 5, 28, 8, 17000L),\n",
        "       (33, 6, 36, 9, 17000L), (39, 6, 42, 9, 17000L),\n",
        "       (45, 6, 48, 9, 17000L), (52, 7, 55, 10, 17000L),\n",
        "       (58, 6, 61, 9, 17000L), (20, 12, 23, 15, 17000L),\n",
        "       (26, 11, 29, 14, 17000L), (32, 12, 35, 15, 20000L),\n",
        "       (39, 13, 42, 16, 17000L), (45, 12, 48, 15, 17000L),\n",
        "       (52, 12, 55, 15, 17000L), (57, 12, 60, 15, 17000L),\n",
        "       (19, 18, 22, 21, 17000L), (25, 19, 28, 22, 18000L),\n",
        "       (32, 19, 35, 22, 17000L), (38, 18, 41, 21, 17000L),\n",
        "       (45, 19, 48, 22, 17000L), (51, 19, 54, 22, 17000L),\n",
        "       (58, 19, 61, 22, 17000L), (19, 24, 22, 27, 17000L),\n",
        "       (26, 25, 29, 28, 17000L), (32, 25, 35, 28, 17000L),\n",
        "       (39, 25, 42, 28, 17000L), (44, 25, 47, 28, 17000L),\n",
        "       (51, 26, 54, 29, 17000L), (57, 26, 60, 29, 17000L),\n",
        "       (19, 31, 22, 34, 17000L), (25, 31, 28, 34, 17000L),\n",
        "       (32, 31, 35, 34, 17000L), (38, 32, 41, 35, 17000L),\n",
        "       (44, 31, 47, 34, 17000L), (51, 31, 54, 34, 17000L),\n",
        "       (57, 31, 60, 34, 17000L), (19, 37, 22, 40, 17000L),\n",
        "       (25, 37, 28, 40, 17000L), (32, 37, 35, 40, 17000L),\n",
        "       (38, 38, 41, 41, 17000L), (45, 37, 48, 40, 17000L),\n",
        "       (52, 38, 55, 41, 17000L), (57, 38, 60, 41, 17000L),\n",
        "       (19, 44, 22, 47, 17000L), (25, 44, 28, 47, 17000L),\n",
        "       (31, 45, 34, 48, 17000L), (38, 44, 41, 47, 17000L),\n",
        "       (45, 44, 48, 47, 17000L), (50, 44, 53, 47, 17000L),\n",
        "       (57, 44, 60, 47, 17000L)], \n",
        "      dtype=[('left', '<u2'), ('top', '<u2'), ('right', '<u2'), ('bottom', '<u2'), ('threshold', '<u4')])"
       ]
      }
     ],
     "prompt_number": 13
    },
    {
     "cell_type": "code",
     "collapsed": false,
     "input": [
      "f.close()"
     ],
     "language": "python",
     "metadata": {},
     "outputs": [],
     "prompt_number": 14
    },
    {
     "cell_type": "code",
     "collapsed": false,
     "input": [
      "a=arange(100).reshape((10,10))"
     ],
     "language": "python",
     "metadata": {},
     "outputs": [],
     "prompt_number": 15
    },
    {
     "cell_type": "code",
     "collapsed": false,
     "input": [
      "a"
     ],
     "language": "python",
     "metadata": {},
     "outputs": [
      {
       "metadata": {},
       "output_type": "pyout",
       "prompt_number": 16,
       "text": [
        "array([[ 0,  1,  2,  3,  4,  5,  6,  7,  8,  9],\n",
        "       [10, 11, 12, 13, 14, 15, 16, 17, 18, 19],\n",
        "       [20, 21, 22, 23, 24, 25, 26, 27, 28, 29],\n",
        "       [30, 31, 32, 33, 34, 35, 36, 37, 38, 39],\n",
        "       [40, 41, 42, 43, 44, 45, 46, 47, 48, 49],\n",
        "       [50, 51, 52, 53, 54, 55, 56, 57, 58, 59],\n",
        "       [60, 61, 62, 63, 64, 65, 66, 67, 68, 69],\n",
        "       [70, 71, 72, 73, 74, 75, 76, 77, 78, 79],\n",
        "       [80, 81, 82, 83, 84, 85, 86, 87, 88, 89],\n",
        "       [90, 91, 92, 93, 94, 95, 96, 97, 98, 99]])"
       ]
      }
     ],
     "prompt_number": 16
    },
    {
     "cell_type": "code",
     "collapsed": false,
     "input": [
      "a[[1,2,3],[1]]"
     ],
     "language": "python",
     "metadata": {},
     "outputs": [
      {
       "metadata": {},
       "output_type": "pyout",
       "prompt_number": 21,
       "text": [
        "array([11, 21, 31])"
       ]
      }
     ],
     "prompt_number": 21
    },
    {
     "cell_type": "code",
     "collapsed": false,
     "input": [
      "b=numpy.array([a,a,a])"
     ],
     "language": "python",
     "metadata": {},
     "outputs": [],
     "prompt_number": 22
    },
    {
     "cell_type": "code",
     "collapsed": false,
     "input": [
      "b.shape"
     ],
     "language": "python",
     "metadata": {},
     "outputs": [
      {
       "metadata": {},
       "output_type": "pyout",
       "prompt_number": 23,
       "text": [
        "(3L, 10L, 10L)"
       ]
      }
     ],
     "prompt_number": 23
    },
    {
     "cell_type": "code",
     "collapsed": false,
     "input": [
      "plotlist=[(0,3),(1,5)]\n",
      "shots = [i[0] for i in plotlist]\n",
      "rois = [i[1] for i in plotlist]\n",
      "b[:,shots, rois]"
     ],
     "language": "python",
     "metadata": {},
     "outputs": [
      {
       "metadata": {},
       "output_type": "pyout",
       "prompt_number": 44,
       "text": [
        "array([[ 3, 15],\n",
        "       [ 3, 15],\n",
        "       [ 3, 15]])"
       ]
      }
     ],
     "prompt_number": 44
    },
    {
     "cell_type": "code",
     "collapsed": false,
     "input": [
      "def func():\n",
      "    i=0\n",
      "    while i<7:\n",
      "        yield i\n",
      "        i+=1\n",
      "    raise StopIteration"
     ],
     "language": "python",
     "metadata": {},
     "outputs": [],
     "prompt_number": 46
    },
    {
     "cell_type": "code",
     "collapsed": false,
     "input": [
      "a=[i for i in func()]"
     ],
     "language": "python",
     "metadata": {},
     "outputs": [],
     "prompt_number": 50
    },
    {
     "cell_type": "code",
     "collapsed": false,
     "input": [
      "a"
     ],
     "language": "python",
     "metadata": {},
     "outputs": [
      {
       "metadata": {},
       "output_type": "pyout",
       "prompt_number": 51,
       "text": [
        "[0, 1, 2, 3, 4, 5, 6]"
       ]
      }
     ],
     "prompt_number": 51
    },
    {
     "cell_type": "code",
     "collapsed": false,
     "input": [
      "c=func()"
     ],
     "language": "python",
     "metadata": {},
     "outputs": [],
     "prompt_number": 52
    },
    {
     "cell_type": "code",
     "collapsed": false,
     "input": [
      "c"
     ],
     "language": "python",
     "metadata": {},
     "outputs": [
      {
       "metadata": {},
       "output_type": "pyout",
       "prompt_number": 53,
       "text": [
        "<generator object func at 0x00000000082CF8B8>"
       ]
      }
     ],
     "prompt_number": 53
    },
    {
     "cell_type": "code",
     "collapsed": false,
     "input": [
      "c.next()"
     ],
     "language": "python",
     "metadata": {},
     "outputs": [
      {
       "metadata": {},
       "output_type": "pyout",
       "prompt_number": 54,
       "text": [
        "0"
       ]
      }
     ],
     "prompt_number": 54
    },
    {
     "cell_type": "code",
     "collapsed": false,
     "input": [
      "c.next()"
     ],
     "language": "python",
     "metadata": {},
     "outputs": [
      {
       "metadata": {},
       "output_type": "pyout",
       "prompt_number": 55,
       "text": [
        "1"
       ]
      }
     ],
     "prompt_number": 55
    },
    {
     "cell_type": "code",
     "collapsed": false,
     "input": [
      "c.next()"
     ],
     "language": "python",
     "metadata": {},
     "outputs": [
      {
       "ename": "StopIteration",
       "evalue": "",
       "output_type": "pyerr",
       "traceback": [
        "\u001b[1;31m---------------------------------------------------------------------------\u001b[0m\n\u001b[1;31mStopIteration\u001b[0m                             Traceback (most recent call last)",
        "\u001b[1;32m<ipython-input-61-50b4dad19337>\u001b[0m in \u001b[0;36m<module>\u001b[1;34m()\u001b[0m\n\u001b[1;32m----> 1\u001b[1;33m \u001b[0mc\u001b[0m\u001b[1;33m.\u001b[0m\u001b[0mnext\u001b[0m\u001b[1;33m(\u001b[0m\u001b[1;33m)\u001b[0m\u001b[1;33m\u001b[0m\u001b[0m\n\u001b[0m",
        "\u001b[1;32m<ipython-input-46-f06c7d79283b>\u001b[0m in \u001b[0;36mfunc\u001b[1;34m()\u001b[0m\n\u001b[0;32m      4\u001b[0m         \u001b[1;32myield\u001b[0m \u001b[0mi\u001b[0m\u001b[1;33m\u001b[0m\u001b[0m\n\u001b[0;32m      5\u001b[0m         \u001b[0mi\u001b[0m\u001b[1;33m+=\u001b[0m\u001b[1;36m1\u001b[0m\u001b[1;33m\u001b[0m\u001b[0m\n\u001b[1;32m----> 6\u001b[1;33m     \u001b[1;32mraise\u001b[0m \u001b[0mStopIteration\u001b[0m\u001b[1;33m\u001b[0m\u001b[0m\n\u001b[0m",
        "\u001b[1;31mStopIteration\u001b[0m: "
       ]
      }
     ],
     "prompt_number": 61
    },
    {
     "cell_type": "code",
     "collapsed": false,
     "input": [
      "generator"
     ],
     "language": "python",
     "metadata": {},
     "outputs": [
      {
       "ename": "NameError",
       "evalue": "name 'generator' is not defined",
       "output_type": "pyerr",
       "traceback": [
        "\u001b[1;31m---------------------------------------------------------------------------\u001b[0m\n\u001b[1;31mNameError\u001b[0m                                 Traceback (most recent call last)",
        "\u001b[1;32m<ipython-input-62-990b87dd9014>\u001b[0m in \u001b[0;36m<module>\u001b[1;34m()\u001b[0m\n\u001b[1;32m----> 1\u001b[1;33m \u001b[0mgenerator\u001b[0m\u001b[1;33m\u001b[0m\u001b[0m\n\u001b[0m",
        "\u001b[1;31mNameError\u001b[0m: name 'generator' is not defined"
       ]
      }
     ],
     "prompt_number": 62
    },
    {
     "cell_type": "code",
     "collapsed": false,
     "input": [
      "range(1,3)"
     ],
     "language": "python",
     "metadata": {},
     "outputs": [
      {
       "metadata": {},
       "output_type": "pyout",
       "prompt_number": 63,
       "text": [
        "[1, 2]"
       ]
      }
     ],
     "prompt_number": 63
    },
    {
     "cell_type": "code",
     "collapsed": false,
     "input": [
      "class genclass(object):\n",
      "    def __init__(self):\n",
      "        self.a=0\n",
      "        self.g = self.gen(self.a)\n",
      "        self.a = 7\n",
      "    \n",
      "    def gen(self,x):\n",
      "        print 'hi'\n",
      "        q = x\n",
      "        while True:\n",
      "            print 'hey'\n",
      "            yield q\n",
      "            print 'ho'\n",
      "            q+=1\n",
      "    \n",
      "    def more(self):\n",
      "        print self.g.next()\n",
      "        "
     ],
     "language": "python",
     "metadata": {},
     "outputs": [],
     "prompt_number": 94
    },
    {
     "cell_type": "code",
     "collapsed": false,
     "input": [
      "a=genclass()"
     ],
     "language": "python",
     "metadata": {},
     "outputs": [],
     "prompt_number": 95
    },
    {
     "cell_type": "code",
     "collapsed": false,
     "input": [
      "a.more()"
     ],
     "language": "python",
     "metadata": {},
     "outputs": [
      {
       "output_type": "stream",
       "stream": "stdout",
       "text": [
        "ho\n",
        "hey\n",
        "4\n"
       ]
      }
     ],
     "prompt_number": 100
    },
    {
     "cell_type": "code",
     "collapsed": false,
     "input": [
      "a.a=3"
     ],
     "language": "python",
     "metadata": {},
     "outputs": [],
     "prompt_number": 80
    },
    {
     "cell_type": "code",
     "collapsed": false,
     "input": [
      "a=[(1,2),(7,9),(14,3)]"
     ],
     "language": "python",
     "metadata": {},
     "outputs": [],
     "prompt_number": 101
    },
    {
     "cell_type": "code",
     "collapsed": false,
     "input": [
      "b=numpy.array(a)"
     ],
     "language": "python",
     "metadata": {},
     "outputs": [],
     "prompt_number": 102
    },
    {
     "cell_type": "code",
     "collapsed": false,
     "input": [
      "b"
     ],
     "language": "python",
     "metadata": {},
     "outputs": [
      {
       "metadata": {},
       "output_type": "pyout",
       "prompt_number": 103,
       "text": [
        "array([[ 1,  2],\n",
        "       [ 7,  9],\n",
        "       [14,  3]])"
       ]
      }
     ],
     "prompt_number": 103
    },
    {
     "cell_type": "code",
     "collapsed": false,
     "input": [
      "b[:,0]"
     ],
     "language": "python",
     "metadata": {},
     "outputs": [
      {
       "metadata": {},
       "output_type": "pyout",
       "prompt_number": 105,
       "text": [
        "array([ 1,  7, 14])"
       ]
      }
     ],
     "prompt_number": 105
    },
    {
     "cell_type": "code",
     "collapsed": false,
     "input": [],
     "language": "python",
     "metadata": {},
     "outputs": []
    }
   ],
   "metadata": {}
  }
 ]
}