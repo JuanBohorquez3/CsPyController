{
 "metadata": {
  "name": "",
  "signature": "sha256:9160cefb1ba374576ce834773f43c6ecefecbe41c53abcf9abf212cf906cdaab"
 },
 "nbformat": 3,
 "nbformat_minor": 0,
 "worksheets": [
  {
   "cells": [
    {
     "cell_type": "code",
     "collapsed": false,
     "input": [
      "import h5py"
     ],
     "language": "python",
     "metadata": {},
     "outputs": [],
     "prompt_number": 1
    },
    {
     "cell_type": "code",
     "collapsed": false,
     "input": [
      "f.close()"
     ],
     "language": "python",
     "metadata": {},
     "outputs": [],
     "prompt_number": 38
    },
    {
     "cell_type": "code",
     "collapsed": false,
     "input": [
      "f=h5py.File(r'D:\\data\\2014_05_13\\2014_05_13_17_15_43_optimize_redtrap\\results.hdf5','r')"
     ],
     "language": "python",
     "metadata": {},
     "outputs": [],
     "prompt_number": 39
    },
    {
     "cell_type": "code",
     "collapsed": false,
     "input": [
      "for n, i in enumerate(f['iterations'].itervalues()):\n",
      "    print n, i['analysis/optimization_yi'].value\n"
     ],
     "language": "python",
     "metadata": {},
     "outputs": [
      {
       "output_type": "stream",
       "stream": "stdout",
       "text": [
        "0 231873839.0\n",
        "1 231889326.0\n",
        "2 230373967.0\n",
        "3 227854780.0\n",
        "4 228055431.0\n",
        "5 227779450.0\n",
        "6 227788937.0\n",
        "7 227097206.0\n",
        "8 227554371.0\n",
        "9 227160887.0\n",
        "10 227260820.0\n",
        "11 226289633.0\n",
        "12 226366643.0\n",
        "13 229343215.0\n",
        "14 226417739.0\n",
        "15 226644950.0\n",
        "16 227202705.0\n",
        "17 227632556.0\n",
        "18 227787521.0\n",
        "19 227596173.0\n",
        "20 228248095.0\n",
        "21 229386997.0\n",
        "22 229555737.0\n",
        "23 228117881.0\n",
        "24 227702005.0\n",
        "25 228288074.0\n",
        "26 227635864.0\n",
        "27 227700405.0\n",
        "28 227414141.0\n",
        "29 227167347.0\n",
        "30 227921075.0\n",
        "31 227048894.0\n",
        "32 227109342.0\n",
        "33 226082665.0\n",
        "34 227878830.0\n",
        "35 228262565.0\n",
        "36 227698015.0\n",
        "37 228755060.0\n",
        "38 227702300.0\n",
        "39 227733529.0\n",
        "40 227134315.0\n",
        "41 227887669.0\n",
        "42 227532987.0\n",
        "43 227118465.0\n",
        "44 227482339.0\n",
        "45 227728028.0\n",
        "46 228767289.0\n",
        "47 227251007.0\n",
        "48 227162339.0\n",
        "49 226480358.0\n",
        "50 226441992.0\n",
        "51 226984021.0\n",
        "52 227547475.0\n",
        "53 227217507.0\n",
        "54 229173389.0\n",
        "55 228254859.0\n",
        "56 227763820.0\n",
        "57 229460722.0\n",
        "58 228067066.0\n",
        "59 227578121.0\n",
        "60 228162119.0\n",
        "61 228263056.0\n",
        "62 228289228.0\n",
        "63 227634749.0\n",
        "64 227825222.0\n",
        "65 227868196.0\n",
        "66 227705975.0\n",
        "67 228218787.0\n",
        "68 228598868.0\n",
        "69 228405269.0\n",
        "70 228370542.0\n",
        "71 228701742.0\n",
        "72 228537486.0\n",
        "73 227545756.0\n",
        "74 228444605.0\n",
        "75 228309334.0\n",
        "76 228760659.0\n",
        "77 228803861.0\n",
        "78 229417978.0\n",
        "79 227286936.0\n",
        "80 227709090.0\n",
        "81 227824055.0\n",
        "82 228670648.0\n",
        "83 227674014.0\n",
        "84 226987953.0\n",
        "85 227305984.0\n",
        "86 229395881.0\n",
        "87 229845695.0\n",
        "88 229246143.0\n",
        "89 228147598.0\n",
        "90 227289403.0\n",
        "91 228276370.0\n",
        "92 228939517.0\n",
        "93 228137244.0\n",
        "94 228429870.0\n",
        "95 228697140.0\n",
        "96 227963631.0\n",
        "97 228592445.0\n",
        "98 228818348.0\n",
        "99 229207665.0\n",
        "100 229776602.0\n",
        "101 228138191.0\n",
        "102 230390416.0\n",
        "103 230627647.0\n",
        "104 230299238.0\n",
        "105 230042688.0\n",
        "106 230230616.0\n",
        "107 230517763.0\n",
        "108 230569243.0\n",
        "109 230880873.0\n",
        "110 230091355.0\n",
        "111 230974106.0\n",
        "112 230492859.0\n",
        "113 228533042.0\n",
        "114 231077478.0\n",
        "115 230410868.0\n",
        "116 229912009.0\n",
        "117 229118894.0\n",
        "118 228594191.0\n",
        "119 228951552.0\n",
        "120 229926559.0\n",
        "121 229499802.0\n",
        "122 229584175.0\n",
        "123 230342146.0\n",
        "124 228276828.0\n",
        "125 229562844.0\n",
        "126 231243007.0\n",
        "127 231583772.0\n",
        "128 230923162.0\n",
        "129 230317377.0\n",
        "130 229650773.0\n",
        "131 231890821.0\n",
        "132 231672994.0\n",
        "133 229989584.0\n",
        "134 230034618.0\n",
        "135 228381235.0\n",
        "136 229893847.0\n",
        "137 230589263.0\n",
        "138 230757964.0\n",
        "139 231291948.0\n",
        "140 231112117.0\n",
        "141 229737668.0\n",
        "142 229399009.0\n",
        "143 229905317.0\n",
        "144 230465396.0\n",
        "145 231034201.0\n",
        "146 228359789.0\n",
        "147 231590995.0\n",
        "148 231940048.0\n",
        "149 231476977.0\n",
        "150 231778733.0\n",
        "151 231764044.0\n",
        "152 230858997.0\n",
        "153 231558935.0\n",
        "154 231099263.0\n",
        "155 231004288.0\n",
        "156 230449207.0\n",
        "157 227864920.0\n",
        "158 231740935.0\n",
        "159 231141300.0\n",
        "160 231576778.0\n",
        "161 230984384.0\n",
        "162 230773788.0\n",
        "163 229501775.0\n",
        "164 230884503.0\n",
        "165 231654087.0\n",
        "166 231163595.0\n",
        "167 231119918.0\n",
        "168 228202219.0\n",
        "169 231841925.0\n",
        "170 231116741.0\n",
        "171 231099782.0\n",
        "172 231744491.0\n",
        "173 231456446.0\n",
        "174 230990428.0\n",
        "175 231323715.0\n",
        "176 230785158.0\n",
        "177 230130907.0\n",
        "178 230710800.0\n",
        "179 229071822.0\n",
        "180 230071926.0\n",
        "181 230309354.0\n",
        "182 230043331.0\n",
        "183 229700411.0\n",
        "184 229501688.0\n",
        "185 228742679.0\n",
        "186 229976645.0\n",
        "187 230892273.0\n",
        "188"
       ]
      },
      {
       "ename": "KeyError",
       "evalue": "\"unable to open object (Symbol table: Can't open object)\"",
       "output_type": "pyerr",
       "traceback": [
        "\u001b[1;31m---------------------------------------------------------------------------\u001b[0m\n\u001b[1;31mKeyError\u001b[0m                                  Traceback (most recent call last)",
        "\u001b[1;32m<ipython-input-34-db212ab5219c>\u001b[0m in \u001b[0;36m<module>\u001b[1;34m()\u001b[0m\n\u001b[0;32m      1\u001b[0m \u001b[1;32mfor\u001b[0m \u001b[0mn\u001b[0m\u001b[1;33m,\u001b[0m \u001b[0mi\u001b[0m \u001b[1;32min\u001b[0m \u001b[0menumerate\u001b[0m\u001b[1;33m(\u001b[0m\u001b[0mf\u001b[0m\u001b[1;33m[\u001b[0m\u001b[1;34m'iterations'\u001b[0m\u001b[1;33m]\u001b[0m\u001b[1;33m.\u001b[0m\u001b[0mitervalues\u001b[0m\u001b[1;33m(\u001b[0m\u001b[1;33m)\u001b[0m\u001b[1;33m)\u001b[0m\u001b[1;33m:\u001b[0m\u001b[1;33m\u001b[0m\u001b[0m\n\u001b[1;32m----> 2\u001b[1;33m     \u001b[1;32mprint\u001b[0m \u001b[0mn\u001b[0m\u001b[1;33m,\u001b[0m \u001b[0mi\u001b[0m\u001b[1;33m[\u001b[0m\u001b[1;34m'analysis/optimization_yi'\u001b[0m\u001b[1;33m]\u001b[0m\u001b[1;33m.\u001b[0m\u001b[0mvalue\u001b[0m\u001b[1;33m\u001b[0m\u001b[0m\n\u001b[0m",
        "\u001b[1;32mC:\\Users\\Saffmanlab\\AppData\\Local\\Enthought\\Canopy\\User\\lib\\site-packages\\h5py\\_hl\\group.pyc\u001b[0m in \u001b[0;36m__getitem__\u001b[1;34m(self, name)\u001b[0m\n\u001b[0;32m    151\u001b[0m                 \u001b[1;32mraise\u001b[0m \u001b[0mValueError\u001b[0m\u001b[1;33m(\u001b[0m\u001b[1;34m\"Invalid HDF5 object reference\"\u001b[0m\u001b[1;33m)\u001b[0m\u001b[1;33m\u001b[0m\u001b[0m\n\u001b[0;32m    152\u001b[0m         \u001b[1;32melse\u001b[0m\u001b[1;33m:\u001b[0m\u001b[1;33m\u001b[0m\u001b[0m\n\u001b[1;32m--> 153\u001b[1;33m             \u001b[0moid\u001b[0m \u001b[1;33m=\u001b[0m \u001b[0mh5o\u001b[0m\u001b[1;33m.\u001b[0m\u001b[0mopen\u001b[0m\u001b[1;33m(\u001b[0m\u001b[0mself\u001b[0m\u001b[1;33m.\u001b[0m\u001b[0mid\u001b[0m\u001b[1;33m,\u001b[0m \u001b[0mself\u001b[0m\u001b[1;33m.\u001b[0m\u001b[0m_e\u001b[0m\u001b[1;33m(\u001b[0m\u001b[0mname\u001b[0m\u001b[1;33m)\u001b[0m\u001b[1;33m,\u001b[0m \u001b[0mlapl\u001b[0m\u001b[1;33m=\u001b[0m\u001b[0mself\u001b[0m\u001b[1;33m.\u001b[0m\u001b[0m_lapl\u001b[0m\u001b[1;33m)\u001b[0m\u001b[1;33m\u001b[0m\u001b[0m\n\u001b[0m\u001b[0;32m    154\u001b[0m \u001b[1;33m\u001b[0m\u001b[0m\n\u001b[0;32m    155\u001b[0m         \u001b[0motype\u001b[0m \u001b[1;33m=\u001b[0m \u001b[0mh5i\u001b[0m\u001b[1;33m.\u001b[0m\u001b[0mget_type\u001b[0m\u001b[1;33m(\u001b[0m\u001b[0moid\u001b[0m\u001b[1;33m)\u001b[0m\u001b[1;33m\u001b[0m\u001b[0m\n",
        "\u001b[1;32mC:\\Users\\Saffmanlab\\AppData\\Local\\Enthought\\Canopy\\User\\lib\\site-packages\\h5py\\h5o.pyd\u001b[0m in \u001b[0;36mh5py.h5o.open (h5py\\h5o.c:3143)\u001b[1;34m()\u001b[0m\n",
        "\u001b[1;31mKeyError\u001b[0m: \"unable to open object (Symbol table: Can't open object)\""
       ]
      }
     ],
     "prompt_number": 34
    },
    {
     "cell_type": "code",
     "collapsed": false,
     "input": [
      "f['iterations/190/analysis/optimiation_yi']"
     ],
     "language": "python",
     "metadata": {},
     "outputs": [
      {
       "ename": "KeyError",
       "evalue": "\"unable to open object (Symbol table: Can't open object)\"",
       "output_type": "pyerr",
       "traceback": [
        "\u001b[1;31m---------------------------------------------------------------------------\u001b[0m\n\u001b[1;31mKeyError\u001b[0m                                  Traceback (most recent call last)",
        "\u001b[1;32m<ipython-input-42-2c460e279f5e>\u001b[0m in \u001b[0;36m<module>\u001b[1;34m()\u001b[0m\n\u001b[1;32m----> 1\u001b[1;33m \u001b[0mf\u001b[0m\u001b[1;33m[\u001b[0m\u001b[1;34m'iterations/190/analysis/optimiation_yi'\u001b[0m\u001b[1;33m]\u001b[0m\u001b[1;33m\u001b[0m\u001b[0m\n\u001b[0m",
        "\u001b[1;32mC:\\Users\\Saffmanlab\\AppData\\Local\\Enthought\\Canopy\\User\\lib\\site-packages\\h5py\\_hl\\group.pyc\u001b[0m in \u001b[0;36m__getitem__\u001b[1;34m(self, name)\u001b[0m\n\u001b[0;32m    151\u001b[0m                 \u001b[1;32mraise\u001b[0m \u001b[0mValueError\u001b[0m\u001b[1;33m(\u001b[0m\u001b[1;34m\"Invalid HDF5 object reference\"\u001b[0m\u001b[1;33m)\u001b[0m\u001b[1;33m\u001b[0m\u001b[0m\n\u001b[0;32m    152\u001b[0m         \u001b[1;32melse\u001b[0m\u001b[1;33m:\u001b[0m\u001b[1;33m\u001b[0m\u001b[0m\n\u001b[1;32m--> 153\u001b[1;33m             \u001b[0moid\u001b[0m \u001b[1;33m=\u001b[0m \u001b[0mh5o\u001b[0m\u001b[1;33m.\u001b[0m\u001b[0mopen\u001b[0m\u001b[1;33m(\u001b[0m\u001b[0mself\u001b[0m\u001b[1;33m.\u001b[0m\u001b[0mid\u001b[0m\u001b[1;33m,\u001b[0m \u001b[0mself\u001b[0m\u001b[1;33m.\u001b[0m\u001b[0m_e\u001b[0m\u001b[1;33m(\u001b[0m\u001b[0mname\u001b[0m\u001b[1;33m)\u001b[0m\u001b[1;33m,\u001b[0m \u001b[0mlapl\u001b[0m\u001b[1;33m=\u001b[0m\u001b[0mself\u001b[0m\u001b[1;33m.\u001b[0m\u001b[0m_lapl\u001b[0m\u001b[1;33m)\u001b[0m\u001b[1;33m\u001b[0m\u001b[0m\n\u001b[0m\u001b[0;32m    154\u001b[0m \u001b[1;33m\u001b[0m\u001b[0m\n\u001b[0;32m    155\u001b[0m         \u001b[0motype\u001b[0m \u001b[1;33m=\u001b[0m \u001b[0mh5i\u001b[0m\u001b[1;33m.\u001b[0m\u001b[0mget_type\u001b[0m\u001b[1;33m(\u001b[0m\u001b[0moid\u001b[0m\u001b[1;33m)\u001b[0m\u001b[1;33m\u001b[0m\u001b[0m\n",
        "\u001b[1;32mC:\\Users\\Saffmanlab\\AppData\\Local\\Enthought\\Canopy\\User\\lib\\site-packages\\h5py\\h5o.pyd\u001b[0m in \u001b[0;36mh5py.h5o.open (h5py\\h5o.c:3143)\u001b[1;34m()\u001b[0m\n",
        "\u001b[1;31mKeyError\u001b[0m: \"unable to open object (Symbol table: Can't open object)\""
       ]
      }
     ],
     "prompt_number": 42
    },
    {
     "cell_type": "code",
     "collapsed": false,
     "input": [
      "import numpy as n"
     ],
     "language": "python",
     "metadata": {},
     "outputs": [],
     "prompt_number": 4
    },
    {
     "cell_type": "code",
     "collapsed": false,
     "input": [
      "n.amax(n.array([i['analysis/optimization_yi'].value for i in f['iterations'].itervalues()]))"
     ],
     "language": "python",
     "metadata": {},
     "outputs": [
      {
       "ename": "KeyError",
       "evalue": "\"unable to open object (Symbol table: Can't open object)\"",
       "output_type": "pyerr",
       "traceback": [
        "\u001b[1;31m---------------------------------------------------------------------------\u001b[0m\n\u001b[1;31mKeyError\u001b[0m                                  Traceback (most recent call last)",
        "\u001b[1;32m<ipython-input-12-2a4d21ca5e54>\u001b[0m in \u001b[0;36m<module>\u001b[1;34m()\u001b[0m\n\u001b[1;32m----> 1\u001b[1;33m \u001b[0mn\u001b[0m\u001b[1;33m.\u001b[0m\u001b[0mamax\u001b[0m\u001b[1;33m(\u001b[0m\u001b[0mn\u001b[0m\u001b[1;33m.\u001b[0m\u001b[0marray\u001b[0m\u001b[1;33m(\u001b[0m\u001b[1;33m[\u001b[0m\u001b[0mi\u001b[0m\u001b[1;33m[\u001b[0m\u001b[1;34m'analysis/optimization_yi'\u001b[0m\u001b[1;33m]\u001b[0m\u001b[1;33m.\u001b[0m\u001b[0mvalue\u001b[0m \u001b[1;32mfor\u001b[0m \u001b[0mi\u001b[0m \u001b[1;32min\u001b[0m \u001b[0mf\u001b[0m\u001b[1;33m[\u001b[0m\u001b[1;34m'iterations'\u001b[0m\u001b[1;33m]\u001b[0m\u001b[1;33m.\u001b[0m\u001b[0mitervalues\u001b[0m\u001b[1;33m(\u001b[0m\u001b[1;33m)\u001b[0m\u001b[1;33m]\u001b[0m\u001b[1;33m)\u001b[0m\u001b[1;33m)\u001b[0m\u001b[1;33m\u001b[0m\u001b[0m\n\u001b[0m",
        "\u001b[1;32mC:\\Users\\Saffmanlab\\AppData\\Local\\Enthought\\Canopy\\User\\lib\\site-packages\\h5py\\_hl\\group.pyc\u001b[0m in \u001b[0;36m__getitem__\u001b[1;34m(self, name)\u001b[0m\n\u001b[0;32m    151\u001b[0m                 \u001b[1;32mraise\u001b[0m \u001b[0mValueError\u001b[0m\u001b[1;33m(\u001b[0m\u001b[1;34m\"Invalid HDF5 object reference\"\u001b[0m\u001b[1;33m)\u001b[0m\u001b[1;33m\u001b[0m\u001b[0m\n\u001b[0;32m    152\u001b[0m         \u001b[1;32melse\u001b[0m\u001b[1;33m:\u001b[0m\u001b[1;33m\u001b[0m\u001b[0m\n\u001b[1;32m--> 153\u001b[1;33m             \u001b[0moid\u001b[0m \u001b[1;33m=\u001b[0m \u001b[0mh5o\u001b[0m\u001b[1;33m.\u001b[0m\u001b[0mopen\u001b[0m\u001b[1;33m(\u001b[0m\u001b[0mself\u001b[0m\u001b[1;33m.\u001b[0m\u001b[0mid\u001b[0m\u001b[1;33m,\u001b[0m \u001b[0mself\u001b[0m\u001b[1;33m.\u001b[0m\u001b[0m_e\u001b[0m\u001b[1;33m(\u001b[0m\u001b[0mname\u001b[0m\u001b[1;33m)\u001b[0m\u001b[1;33m,\u001b[0m \u001b[0mlapl\u001b[0m\u001b[1;33m=\u001b[0m\u001b[0mself\u001b[0m\u001b[1;33m.\u001b[0m\u001b[0m_lapl\u001b[0m\u001b[1;33m)\u001b[0m\u001b[1;33m\u001b[0m\u001b[0m\n\u001b[0m\u001b[0;32m    154\u001b[0m \u001b[1;33m\u001b[0m\u001b[0m\n\u001b[0;32m    155\u001b[0m         \u001b[0motype\u001b[0m \u001b[1;33m=\u001b[0m \u001b[0mh5i\u001b[0m\u001b[1;33m.\u001b[0m\u001b[0mget_type\u001b[0m\u001b[1;33m(\u001b[0m\u001b[0moid\u001b[0m\u001b[1;33m)\u001b[0m\u001b[1;33m\u001b[0m\u001b[0m\n",
        "\u001b[1;32mC:\\Users\\Saffmanlab\\AppData\\Local\\Enthought\\Canopy\\User\\lib\\site-packages\\h5py\\h5o.pyd\u001b[0m in \u001b[0;36mh5py.h5o.open (h5py\\h5o.c:3143)\u001b[1;34m()\u001b[0m\n",
        "\u001b[1;31mKeyError\u001b[0m: \"unable to open object (Symbol table: Can't open object)\""
       ]
      }
     ],
     "prompt_number": 12
    },
    {
     "cell_type": "code",
     "collapsed": false,
     "input": [
      "[i['analysis/optimization_yi'].value for i in f['iterations'].values()[1]]"
     ],
     "language": "python",
     "metadata": {},
     "outputs": [
      {
       "ename": "TypeError",
       "evalue": "string indices must be integers",
       "output_type": "pyerr",
       "traceback": [
        "\u001b[1;31m---------------------------------------------------------------------------\u001b[0m\n\u001b[1;31mTypeError\u001b[0m                                 Traceback (most recent call last)",
        "\u001b[1;32m<ipython-input-13-406d48130284>\u001b[0m in \u001b[0;36m<module>\u001b[1;34m()\u001b[0m\n\u001b[1;32m----> 1\u001b[1;33m \u001b[1;33m[\u001b[0m\u001b[0mi\u001b[0m\u001b[1;33m[\u001b[0m\u001b[1;34m'analysis/optimization_yi'\u001b[0m\u001b[1;33m]\u001b[0m\u001b[1;33m.\u001b[0m\u001b[0mvalue\u001b[0m \u001b[1;32mfor\u001b[0m \u001b[0mi\u001b[0m \u001b[1;32min\u001b[0m \u001b[0mf\u001b[0m\u001b[1;33m[\u001b[0m\u001b[1;34m'iterations'\u001b[0m\u001b[1;33m]\u001b[0m\u001b[1;33m.\u001b[0m\u001b[0mvalues\u001b[0m\u001b[1;33m(\u001b[0m\u001b[1;33m)\u001b[0m\u001b[1;33m[\u001b[0m\u001b[1;36m1\u001b[0m\u001b[1;33m]\u001b[0m\u001b[1;33m]\u001b[0m\u001b[1;33m\u001b[0m\u001b[0m\n\u001b[0m",
        "\u001b[1;31mTypeError\u001b[0m: string indices must be integers"
       ]
      }
     ],
     "prompt_number": 13
    },
    {
     "cell_type": "code",
     "collapsed": false,
     "input": [
      "c= [f['iterations/'+str(i)+'analysis/optimization_yi'].value for i in range(187)]\n",
      "plot[c]"
     ],
     "language": "python",
     "metadata": {},
     "outputs": [
      {
       "ename": "KeyError",
       "evalue": "\"unable to open object (Symbol table: Can't open object)\"",
       "output_type": "pyerr",
       "traceback": [
        "\u001b[1;31m---------------------------------------------------------------------------\u001b[0m\n\u001b[1;31mKeyError\u001b[0m                                  Traceback (most recent call last)",
        "\u001b[1;32m<ipython-input-60-cd03e44c1d78>\u001b[0m in \u001b[0;36m<module>\u001b[1;34m()\u001b[0m\n\u001b[1;32m----> 1\u001b[1;33m \u001b[0mc\u001b[0m\u001b[1;33m=\u001b[0m \u001b[1;33m[\u001b[0m\u001b[0mf\u001b[0m\u001b[1;33m[\u001b[0m\u001b[1;34m'iterations/'\u001b[0m\u001b[1;33m+\u001b[0m\u001b[0mstr\u001b[0m\u001b[1;33m(\u001b[0m\u001b[0mi\u001b[0m\u001b[1;33m)\u001b[0m\u001b[1;33m+\u001b[0m\u001b[1;34m'analysis/optimization_yi'\u001b[0m\u001b[1;33m]\u001b[0m\u001b[1;33m.\u001b[0m\u001b[0mvalue\u001b[0m \u001b[1;32mfor\u001b[0m \u001b[0mi\u001b[0m \u001b[1;32min\u001b[0m \u001b[0mrange\u001b[0m\u001b[1;33m(\u001b[0m\u001b[1;36m187\u001b[0m\u001b[1;33m)\u001b[0m\u001b[1;33m]\u001b[0m\u001b[1;33m\u001b[0m\u001b[0m\n\u001b[0m\u001b[0;32m      2\u001b[0m \u001b[0mplot\u001b[0m\u001b[1;33m[\u001b[0m\u001b[0mc\u001b[0m\u001b[1;33m]\u001b[0m\u001b[1;33m\u001b[0m\u001b[0m\n",
        "\u001b[1;32mC:\\Users\\Saffmanlab\\AppData\\Local\\Enthought\\Canopy\\User\\lib\\site-packages\\h5py\\_hl\\group.pyc\u001b[0m in \u001b[0;36m__getitem__\u001b[1;34m(self, name)\u001b[0m\n\u001b[0;32m    151\u001b[0m                 \u001b[1;32mraise\u001b[0m \u001b[0mValueError\u001b[0m\u001b[1;33m(\u001b[0m\u001b[1;34m\"Invalid HDF5 object reference\"\u001b[0m\u001b[1;33m)\u001b[0m\u001b[1;33m\u001b[0m\u001b[0m\n\u001b[0;32m    152\u001b[0m         \u001b[1;32melse\u001b[0m\u001b[1;33m:\u001b[0m\u001b[1;33m\u001b[0m\u001b[0m\n\u001b[1;32m--> 153\u001b[1;33m             \u001b[0moid\u001b[0m \u001b[1;33m=\u001b[0m \u001b[0mh5o\u001b[0m\u001b[1;33m.\u001b[0m\u001b[0mopen\u001b[0m\u001b[1;33m(\u001b[0m\u001b[0mself\u001b[0m\u001b[1;33m.\u001b[0m\u001b[0mid\u001b[0m\u001b[1;33m,\u001b[0m \u001b[0mself\u001b[0m\u001b[1;33m.\u001b[0m\u001b[0m_e\u001b[0m\u001b[1;33m(\u001b[0m\u001b[0mname\u001b[0m\u001b[1;33m)\u001b[0m\u001b[1;33m,\u001b[0m \u001b[0mlapl\u001b[0m\u001b[1;33m=\u001b[0m\u001b[0mself\u001b[0m\u001b[1;33m.\u001b[0m\u001b[0m_lapl\u001b[0m\u001b[1;33m)\u001b[0m\u001b[1;33m\u001b[0m\u001b[0m\n\u001b[0m\u001b[0;32m    154\u001b[0m \u001b[1;33m\u001b[0m\u001b[0m\n\u001b[0;32m    155\u001b[0m         \u001b[0motype\u001b[0m \u001b[1;33m=\u001b[0m \u001b[0mh5i\u001b[0m\u001b[1;33m.\u001b[0m\u001b[0mget_type\u001b[0m\u001b[1;33m(\u001b[0m\u001b[0moid\u001b[0m\u001b[1;33m)\u001b[0m\u001b[1;33m\u001b[0m\u001b[0m\n",
        "\u001b[1;32mC:\\Users\\Saffmanlab\\AppData\\Local\\Enthought\\Canopy\\User\\lib\\site-packages\\h5py\\h5o.pyd\u001b[0m in \u001b[0;36mh5py.h5o.open (h5py\\h5o.c:3143)\u001b[1;34m()\u001b[0m\n",
        "\u001b[1;31mKeyError\u001b[0m: \"unable to open object (Symbol table: Can't open object)\""
       ]
      }
     ],
     "prompt_number": 60
    },
    {
     "cell_type": "code",
     "collapsed": false,
     "input": [
      "best=float(inf)for i in range(100):"
     ],
     "language": "python",
     "metadata": {},
     "outputs": [
      {
       "metadata": {},
       "output_type": "pyout",
       "prompt_number": 59,
       "text": [
        "[(u'0', <HDF5 group \"/iterations/0\" (5 members)>),\n",
        " (u'1', <HDF5 group \"/iterations/1\" (5 members)>)]"
       ]
      }
     ],
     "prompt_number": 59
    },
    {
     "cell_type": "code",
     "collapsed": false,
     "input": [
      "for i in range(50,60):\n",
      "    print f['iterations/'+str(i)+'/analysis/optimization_yi'].value"
     ],
     "language": "python",
     "metadata": {},
     "outputs": [
      {
       "output_type": "stream",
       "stream": "stdout",
       "text": [
        "227753751.0\n",
        "227016917.0\n",
        "226497222.0\n",
        "226672401.0\n",
        "225163933.0\n",
        "224659368.0\n",
        "225228698.0\n",
        "226994391.0\n",
        "226423457.0\n",
        "227261658.0\n"
       ]
      }
     ],
     "prompt_number": 62
    },
    {
     "cell_type": "code",
     "collapsed": false,
     "input": [
      "f['iterations/55/analysis/optimization_xi'].value"
     ],
     "language": "python",
     "metadata": {},
     "outputs": [
      {
       "metadata": {},
       "output_type": "pyout",
       "prompt_number": 64,
       "text": [
        "array([-0.01479826, -0.47345817,  0.85933092, -1.81675166,  1.31178191,\n",
        "       -0.55285181, -0.3658528 ,  1.49982229,  1.60399717, -0.58198549,\n",
        "       -0.45042615,  1.71166817])"
       ]
      }
     ],
     "prompt_number": 64
    },
    {
     "cell_type": "code",
     "collapsed": false,
     "input": [],
     "language": "python",
     "metadata": {},
     "outputs": []
    }
   ],
   "metadata": {}
  }
 ]
}