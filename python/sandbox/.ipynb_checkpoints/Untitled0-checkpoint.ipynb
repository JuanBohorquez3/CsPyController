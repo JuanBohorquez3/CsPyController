{
 "metadata": {
  "name": "",
  "signature": "sha256:432b8a8d4982138aed5097c79d5df3289a5ad36ff49ca1668f995689e78be8cd"
 },
 "nbformat": 3,
 "nbformat_minor": 0,
 "worksheets": []
}