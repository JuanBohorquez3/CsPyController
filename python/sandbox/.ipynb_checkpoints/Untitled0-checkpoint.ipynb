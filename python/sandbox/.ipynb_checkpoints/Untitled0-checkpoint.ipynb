{
 "metadata": {
  "name": "",
  "signature": "sha256:b89a85aaa5983ebe7bf738f3a544c0465697388658f88d6d35444777607e0499"
 },
 "nbformat": 3,
 "nbformat_minor": 0,
 "worksheets": []
}