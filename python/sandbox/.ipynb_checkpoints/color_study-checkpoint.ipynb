{
 "metadata": {
  "name": "",
  "signature": "sha256:7bd49e2cf16def6877b1018420888157f307293047eee2ee61e985afd344792d"
 },
 "nbformat": 3,
 "nbformat_minor": 0,
 "worksheets": [
  {
   "cells": [
    {
     "cell_type": "code",
     "collapsed": false,
     "input": [
      "#define a color map that I like\n",
      "cdict = {'red': ((0.0, 0.0, 0.0),\n",
      "                 (0.5, 0.0, 0.0),\n",
      "                 (1.0, 1.0, 1.0)),\n",
      "         'green': ((0.0, 0.0, 0.0),\n",
      "                   (0.5, 1.0, 1.0),\n",
      "                   (1.0, 0.0, 0.0)),\n",
      "         'blue': ((0.0, 1.0, 1.0),\n",
      "                  (0.5, 0.0, 0.0),\n",
      "                  (1.0, 0.0, 0.0))}\n",
      "my_cmap = LinearSegmentedColormap('my_colormap',cdict,256)\n"
     ],
     "language": "python",
     "metadata": {},
     "outputs": []
    },
    {
     "cell_type": "code",
     "collapsed": false,
     "input": [
      "#modify the 'jet' color scheme to ramp brightness\n",
      "n=100\n",
      "jetcmap = cm.get_cmap(\"jet\", n) #generate a jet map with 10 values\n",
      "y=linspace(0,1,n).reshape((n,1))\n",
      "jet_vals = jetcmap(np.arange(n)) #extract those values as an array \n",
      "print jet_vals.shape\n",
      "z=jet_vals*y\n",
      "plot(z[:,0],'r',z[:,1],'g',z[:,2],'b')"
     ],
     "language": "python",
     "metadata": {},
     "outputs": [
      {
       "output_type": "stream",
       "stream": "stdout",
       "text": [
        "(100L, 4L)\n"
       ]
      },
      {
       "metadata": {},
       "output_type": "pyout",
       "prompt_number": 24,
       "text": [
        "[<matplotlib.lines.Line2D at 0xbe6aeb8>,\n",
        " <matplotlib.lines.Line2D at 0xc1a1128>,\n",
        " <matplotlib.lines.Line2D at 0xc1a1710>]"
       ]
      },
      {
       "metadata": {},
       "output_type": "display_data",
       "png": "[encoded data removed]",
       "text": [
        "<matplotlib.figure.Figure at 0xbe4bf60>"
       ]
      }
     ],
     "prompt_number": 24
    },
    {
     "cell_type": "code",
     "collapsed": false,
     "input": [
      "print z"
     ],
     "language": "python",
     "metadata": {},
     "outputs": [
      {
       "output_type": "stream",
       "stream": "stdout",
       "text": [
        "[[ 0.          0.          0.          0.        ]\n",
        " [ 0.          0.          0.00551428  0.01010101]\n",
        " [ 0.          0.          0.01195611  0.02020202]\n",
        " [ 0.          0.          0.01932549  0.03030303]\n",
        " [ 0.          0.          0.02762241  0.04040404]\n",
        " [ 0.          0.          0.03684689  0.05050505]\n",
        " [ 0.          0.          0.04699891  0.06060606]\n",
        " [ 0.          0.          0.05807849  0.07070707]\n",
        " [ 0.          0.          0.07008561  0.08080808]\n",
        " [ 0.          0.          0.08302029  0.09090909]\n",
        " [ 0.          0.          0.09688251  0.1010101 ]\n",
        " [ 0.          0.          0.11111111  0.11111111]\n",
        " [ 0.          0.          0.12121212  0.12121212]\n",
        " [ 0.          0.00331599  0.13131313  0.13131313]\n",
        " [ 0.          0.00928477  0.14141414  0.14141414]\n",
        " [ 0.          0.01606979  0.15151515  0.15151515]\n",
        " [ 0.          0.02367105  0.16161616  0.16161616]\n",
        " [ 0.          0.03208856  0.17171717  0.17171717]\n",
        " [ 0.          0.04132231  0.18181818  0.18181818]\n",
        " [ 0.          0.05137231  0.19191919  0.19191919]\n",
        " [ 0.          0.06223855  0.2020202   0.2020202 ]\n",
        " [ 0.          0.07392103  0.21212121  0.21212121]\n",
        " [ 0.          0.08641975  0.22222222  0.22222222]\n",
        " [ 0.          0.09973472  0.23232323  0.23232323]\n",
        " [ 0.          0.11386593  0.24242424  0.24242424]\n",
        " [ 0.          0.12881339  0.25252525  0.25252525]\n",
        " [ 0.          0.14457708  0.26262626  0.26262626]\n",
        " [ 0.          0.16115702  0.27272727  0.27272727]\n",
        " [ 0.          0.17855321  0.28282828  0.28282828]\n",
        " [ 0.          0.19676564  0.29292929  0.29292929]\n",
        " [ 0.          0.21579431  0.3030303   0.3030303 ]\n",
        " [ 0.          0.23563922  0.31313131  0.31313131]\n",
        " [ 0.          0.25630038  0.32323232  0.32323232]\n",
        " [ 0.          0.27777778  0.33333333  0.33333333]\n",
        " [ 0.          0.30007142  0.3396296   0.34343434]\n",
        " [ 0.00403185  0.32318131  0.33809914  0.35353535]\n",
        " [ 0.01599573  0.34710744  0.33591042  0.36363636]\n",
        " [ 0.02861788  0.37184981  0.33306345  0.37373737]\n",
        " [ 0.04189829  0.38383838  0.32955821  0.38383838]\n",
        " [ 0.05583696  0.39393939  0.32539471  0.39393939]\n",
        " [ 0.07043389  0.4040404   0.32057295  0.4040404 ]\n",
        " [ 0.08568908  0.41414141  0.31509293  0.41414141]\n",
        " [ 0.10160254  0.42424242  0.30895465  0.42424242]\n",
        " [ 0.11817425  0.43434343  0.30215811  0.43434343]\n",
        " [ 0.13540422  0.44444444  0.29470331  0.44444444]\n",
        " [ 0.15329246  0.45454545  0.28659024  0.45454545]\n",
        " [ 0.17183895  0.46464646  0.27781892  0.46464646]\n",
        " [ 0.19104371  0.47474747  0.26838933  0.47474747]\n",
        " [ 0.21090672  0.48484848  0.25830149  0.48484848]\n",
        " [ 0.231428    0.49494949  0.24755538  0.49494949]\n",
        " [ 0.25260754  0.50505051  0.23615102  0.50505051]\n",
        " [ 0.27444533  0.51515152  0.22408839  0.51515152]\n",
        " [ 0.29694139  0.52525253  0.2113675   0.52525253]\n",
        " [ 0.32009571  0.53535354  0.19798836  0.53535354]\n",
        " [ 0.34390829  0.54545455  0.18395095  0.54545455]\n",
        " [ 0.36837913  0.55555556  0.16925528  0.55555556]\n",
        " [ 0.39350823  0.56565657  0.15390135  0.56565657]\n",
        " [ 0.4192956   0.57575758  0.13788916  0.57575758]\n",
        " [ 0.44574122  0.58585859  0.1212187   0.58585859]\n",
        " [ 0.4728451   0.5959596   0.10388999  0.5959596 ]\n",
        " [ 0.50060725  0.60606061  0.08590302  0.60606061]\n",
        " [ 0.52902765  0.61616162  0.06725778  0.61616162]\n",
        " [ 0.55810632  0.62626263  0.04795429  0.62626263]\n",
        " [ 0.58784324  0.63636364  0.02799254  0.63636364]\n",
        " [ 0.61823843  0.63098626  0.00737252  0.64646465]\n",
        " [ 0.64929188  0.61628254  0.          0.65656566]\n",
        " [ 0.66666667  0.60082305  0.          0.66666667]\n",
        " [ 0.67676768  0.58460777  0.          0.67676768]\n",
        " [ 0.68686869  0.56763671  0.          0.68686869]\n",
        " [ 0.6969697   0.54990987  0.          0.6969697 ]\n",
        " [ 0.70707071  0.53142725  0.          0.70707071]\n",
        " [ 0.71717172  0.51218885  0.          0.71717172]\n",
        " [ 0.72727273  0.49219467  0.          0.72727273]\n",
        " [ 0.73737374  0.47144471  0.          0.73737374]\n",
        " [ 0.74747475  0.44993897  0.          0.74747475]\n",
        " [ 0.75757576  0.42767745  0.          0.75757576]\n",
        " [ 0.76767677  0.40466014  0.          0.76767677]\n",
        " [ 0.77777778  0.38088706  0.          0.77777778]\n",
        " [ 0.78787879  0.35635819  0.          0.78787879]\n",
        " [ 0.7979798   0.33107355  0.          0.7979798 ]\n",
        " [ 0.80808081  0.30503312  0.          0.80808081]\n",
        " [ 0.81818182  0.27823691  0.          0.81818182]\n",
        " [ 0.82828283  0.25068493  0.          0.82828283]\n",
        " [ 0.83838384  0.22237716  0.          0.83838384]\n",
        " [ 0.84848485  0.19331361  0.          0.84848485]\n",
        " [ 0.85858586  0.16349428  0.          0.85858586]\n",
        " [ 0.86868687  0.13291917  0.          0.86868687]\n",
        " [ 0.87878788  0.10158827  0.          0.87878788]\n",
        " [ 0.88888889  0.0695016   0.          0.88888889]\n",
        " [ 0.86225432  0.03665915  0.          0.8989899 ]\n",
        " [ 0.83020285  0.00306091  0.          0.90909091]\n",
        " [ 0.79722385  0.          0.          0.91919192]\n",
        " [ 0.76331729  0.          0.          0.92929293]\n",
        " [ 0.72848318  0.          0.          0.93939394]\n",
        " [ 0.69272152  0.          0.          0.94949495]\n",
        " [ 0.65603232  0.          0.          0.95959596]\n",
        " [ 0.61841556  0.          0.          0.96969697]\n",
        " [ 0.57987126  0.          0.          0.97979798]\n",
        " [ 0.5403994   0.          0.          0.98989899]\n",
        " [ 0.5         0.          0.          1.        ]]\n"
       ]
      }
     ],
     "prompt_number": 19
    },
    {
     "cell_type": "code",
     "collapsed": false,
     "input": [
      "print '('+',\\n'.join(['({0},{1},{1})'.format(i[3],i[2]) for i in z])+')'"
     ],
     "language": "python",
     "metadata": {},
     "outputs": [
      {
       "output_type": "stream",
       "stream": "stdout",
       "text": [
        "((0.0,0.0,0.0),\n",
        "(0.010101010101,0.00551427961896,0.00551427961896),\n",
        "(0.020202020202,0.0119561083748,0.0119561083748),\n",
        "(0.030303030303,0.0193254862676,0.0193254862676),\n",
        "(0.040404040404,0.0276224132973,0.0276224132973),\n",
        "(0.0505050505051,0.036846889464,0.036846889464),\n",
        "(0.0606060606061,0.0469989147675,0.0469989147675),\n",
        "(0.0707070707071,0.058078489208,0.058078489208),\n",
        "(0.0808080808081,0.0700856127853,0.0700856127853),\n",
        "(0.0909090909091,0.0830202854996,0.0830202854996),\n",
        "(0.10101010101,0.0968825073508,0.0968825073508),\n",
        "(0.111111111111,0.111111111111,0.111111111111),\n",
        "(0.121212121212,0.121212121212,0.121212121212),\n",
        "(0.131313131313,0.131313131313,0.131313131313),\n",
        "(0.141414141414,0.141414141414,0.141414141414),\n",
        "(0.151515151515,0.151515151515,0.151515151515),\n",
        "(0.161616161616,0.161616161616,0.161616161616),\n",
        "(0.171717171717,0.171717171717,0.171717171717),\n",
        "(0.181818181818,0.181818181818,0.181818181818),\n",
        "(0.191919191919,0.191919191919,0.191919191919),\n",
        "(0.20202020202,0.20202020202,0.20202020202),\n",
        "(0.212121212121,0.212121212121,0.212121212121),\n",
        "(0.222222222222,0.222222222222,0.222222222222),\n",
        "(0.232323232323,0.232323232323,0.232323232323),\n",
        "(0.242424242424,0.242424242424,0.242424242424),\n",
        "(0.252525252525,0.252525252525,0.252525252525),\n",
        "(0.262626262626,0.262626262626,0.262626262626),\n",
        "(0.272727272727,0.272727272727,0.272727272727),\n",
        "(0.282828282828,0.282828282828,0.282828282828),\n",
        "(0.292929292929,0.292929292929,0.292929292929),\n",
        "(0.30303030303,0.30303030303,0.30303030303),\n",
        "(0.313131313131,0.313131313131,0.313131313131),\n",
        "(0.323232323232,0.323232323232,0.323232323232),\n",
        "(0.333333333333,0.333333333333,0.333333333333),\n",
        "(0.343434343434,0.339629596717,0.339629596717),\n",
        "(0.353535353535,0.338099140641,0.338099140641),\n",
        "(0.363636363636,0.335910423887,0.335910423887),\n",
        "(0.373737373737,0.333063446455,0.333063446455),\n",
        "(0.383838383838,0.329558208346,0.329558208346),\n",
        "(0.393939393939,0.325394709559,0.325394709559),\n",
        "(0.40404040404,0.320572950094,0.320572950094),\n",
        "(0.414141414141,0.315092929951,0.315092929951),\n",
        "(0.424242424242,0.308954649131,0.308954649131),\n",
        "(0.434343434343,0.302158107632,0.302158107632),\n",
        "(0.444444444444,0.294703305456,0.294703305456),\n",
        "(0.454545454545,0.286590242602,0.286590242602),\n",
        "(0.464646464646,0.27781891907,0.27781891907),\n",
        "(0.474747474747,0.26838933486,0.26838933486),\n",
        "(0.484848484848,0.258301489973,0.258301489973),\n",
        "(0.494949494949,0.247555384408,0.247555384408),\n",
        "(0.505050505051,0.236151018165,0.236151018165),\n",
        "(0.515151515152,0.224088391244,0.224088391244),\n",
        "(0.525252525253,0.211367503645,0.211367503645),\n",
        "(0.535353535354,0.197988355369,0.197988355369),\n",
        "(0.545454545455,0.183950946414,0.183950946414),\n",
        "(0.555555555556,0.169255276782,0.169255276782),\n",
        "(0.565656565657,0.153901346472,0.153901346472),\n",
        "(0.575757575758,0.137889155484,0.137889155484),\n",
        "(0.585858585859,0.121218703819,0.121218703819),\n",
        "(0.59595959596,0.103889991476,0.103889991476),\n",
        "(0.606060606061,0.0859030184543,0.0859030184543),\n",
        "(0.616161616162,0.0672577847553,0.0672577847553),\n",
        "(0.626262626263,0.0479542903785,0.0479542903785),\n",
        "(0.636363636364,0.0279925353239,0.0279925353239),\n",
        "(0.646464646465,0.00737251959148,0.00737251959148),\n",
        "(0.656565656566,0.0,0.0),\n",
        "(0.666666666667,0.0,0.0),\n",
        "(0.676767676768,0.0,0.0),\n",
        "(0.686868686869,0.0,0.0),\n",
        "(0.69696969697,0.0,0.0),\n",
        "(0.707070707071,0.0,0.0),\n",
        "(0.717171717172,0.0,0.0),\n",
        "(0.727272727273,0.0,0.0),\n",
        "(0.737373737374,0.0,0.0),\n",
        "(0.747474747475,0.0,0.0),\n",
        "(0.757575757576,0.0,0.0),\n",
        "(0.767676767677,0.0,0.0),\n",
        "(0.777777777778,0.0,0.0),\n",
        "(0.787878787879,0.0,0.0),\n",
        "(0.79797979798,0.0,0.0),\n",
        "(0.808080808081,0.0,0.0),\n",
        "(0.818181818182,0.0,0.0),\n",
        "(0.828282828283,0.0,0.0),\n",
        "(0.838383838384,0.0,0.0),\n",
        "(0.848484848485,0.0,0.0),\n",
        "(0.858585858586,0.0,0.0),\n",
        "(0.868686868687,0.0,0.0),\n",
        "(0.878787878788,0.0,0.0),\n",
        "(0.888888888889,0.0,0.0),\n",
        "(0.89898989899,0.0,0.0),\n",
        "(0.909090909091,0.0,0.0),\n",
        "(0.919191919192,0.0,0.0),\n",
        "(0.929292929293,0.0,0.0),\n",
        "(0.939393939394,0.0,0.0),\n",
        "(0.949494949495,0.0,0.0),\n",
        "(0.959595959596,0.0,0.0),\n",
        "(0.969696969697,0.0,0.0),\n",
        "(0.979797979798,0.0,0.0),\n",
        "(0.989898989899,0.0,0.0),\n",
        "(1.0,0.0,0.0))\n"
       ]
      }
     ],
     "prompt_number": 22
    },
    {
     "cell_type": "code",
     "collapsed": false,
     "input": [
      "jetcmap = cm.get_cmap(\"jet\", 10) #generate a jet map with 10 values \n",
      "jet_vals = jetcmap(np.arange(10)) #extract those values as an array \n",
      "jet_vals[0] = [0.1, 0, 0.1, 1] #change the first value \n",
      "newcmap = mpl.colors.LinearSegmentedColormap.from_list(\"newjet\", jet_vals) \n",
      "imshow(rand(18,20), cmap=newcmap, vmin=0, vmax=1, interpolation=\"nearest\") \n",
      "colorbar()"
     ],
     "language": "python",
     "metadata": {},
     "outputs": [
      {
       "metadata": {},
       "output_type": "pyout",
       "prompt_number": 1,
       "text": [
        "<matplotlib.colorbar.Colorbar instance at 0x00000000082C2F08>"
       ]
      },
      {
       "metadata": {},
       "output_type": "display_data",
       "png": "[encoded data removed]",
       "text": [
        "<matplotlib.figure.Figure at 0x828bba8>"
       ]
      }
     ],
     "prompt_number": 1
    },
    {
     "cell_type": "code",
     "collapsed": false,
     "input": [
      "jetcmap(1)"
     ],
     "language": "python",
     "metadata": {},
     "outputs": [
      {
       "metadata": {},
       "output_type": "pyout",
       "prompt_number": 5,
       "text": [
        "(0.0, 0.0, 1.0, 1.0)"
       ]
      }
     ],
     "prompt_number": 5
    },
    {
     "cell_type": "code",
     "collapsed": false,
     "input": [
      "X=linspace(0,1,11)\n",
      "cmap=[]\n",
      "for x in X:\n",
      "    r=(1-x/0.5)*x if x<0.5 else 0\n",
      "    b=((x-0.5)/0.5)*x if x>0.5 else 0\n",
      "    g=x-(r+b)\n",
      "    cmap.append([r,g,b])\n",
      "cmap=array(cmap)\n",
      "plot(cmap)"
     ],
     "language": "python",
     "metadata": {},
     "outputs": [
      {
       "metadata": {},
       "output_type": "pyout",
       "prompt_number": 25,
       "text": [
        "[<matplotlib.lines.Line2D at 0xc1cdba8>,\n",
        " <matplotlib.lines.Line2D at 0xc1cddd8>,\n",
        " <matplotlib.lines.Line2D at 0xc1cdfd0>]"
       ]
      },
      {
       "metadata": {},
       "output_type": "display_data",
       "png": "[encoded data removed]",
       "text": [
        "<matplotlib.figure.Figure at 0xbe5ac18>"
       ]
      }
     ],
     "prompt_number": 25
    },
    {
     "cell_type": "code",
     "collapsed": false,
     "input": [
      "X"
     ],
     "language": "python",
     "metadata": {},
     "outputs": [
      {
       "metadata": {},
       "output_type": "pyout",
       "prompt_number": 45,
       "text": [
        "array([ 0. ,  0.1,  0.2,  0.3,  0.4,  0.5,  0.6,  0.7,  0.8,  0.9,  1. ])"
       ]
      }
     ],
     "prompt_number": 45
    },
    {
     "cell_type": "code",
     "collapsed": false,
     "input": [
      "print '('+',\\n'.join(['({0},{1},{1})'.format(x,c) for (x,c) in zip(X,cmap.T[2])])+')'"
     ],
     "language": "python",
     "metadata": {},
     "outputs": [
      {
       "output_type": "stream",
       "stream": "stdout",
       "text": [
        "((0.0,0.0,0.0),\n",
        "(0.1,0.0,0.0),\n",
        "(0.2,0.0,0.0),\n",
        "(0.3,0.0,0.0),\n",
        "(0.4,0.0,0.0),\n",
        "(0.5,0.0,0.0),\n",
        "(0.6,0.12,0.12),\n",
        "(0.7,0.28,0.28),\n",
        "(0.8,0.48,0.48),\n",
        "(0.9,0.72,0.72),\n",
        "(1.0,1.0,1.0))\n"
       ]
      }
     ],
     "prompt_number": 28
    },
    {
     "cell_type": "code",
     "collapsed": false,
     "input": [
      "amax(cmap)"
     ],
     "language": "python",
     "metadata": {},
     "outputs": [
      {
       "metadata": {},
       "output_type": "pyout",
       "prompt_number": 68,
       "text": [
        "1.0"
       ]
      }
     ],
     "prompt_number": 68
    },
    {
     "cell_type": "code",
     "collapsed": false,
     "input": [
      "amax(cmap,axis=0)"
     ],
     "language": "python",
     "metadata": {},
     "outputs": [
      {
       "metadata": {},
       "output_type": "pyout",
       "prompt_number": 60,
       "text": [
        "array([ 0.12,  0.5 ,  1.  ])"
       ]
      }
     ],
     "prompt_number": 60
    },
    {
     "cell_type": "code",
     "collapsed": false,
     "input": [
      "c=numpy.array([cmap,cmap,cmap])"
     ],
     "language": "python",
     "metadata": {},
     "outputs": [],
     "prompt_number": 61
    },
    {
     "cell_type": "code",
     "collapsed": false,
     "input": [
      "c"
     ],
     "language": "python",
     "metadata": {},
     "outputs": [
      {
       "metadata": {},
       "output_type": "pyout",
       "prompt_number": 62,
       "text": [
        "array([[[ 0.  ,  0.  ,  0.  ],\n",
        "        [ 0.08,  0.02,  0.  ],\n",
        "        [ 0.12,  0.08,  0.  ],\n",
        "        [ 0.12,  0.18,  0.  ],\n",
        "        [ 0.08,  0.32,  0.  ],\n",
        "        [ 0.  ,  0.5 ,  0.  ],\n",
        "        [ 0.  ,  0.48,  0.12],\n",
        "        [ 0.  ,  0.42,  0.28],\n",
        "        [ 0.  ,  0.32,  0.48],\n",
        "        [ 0.  ,  0.18,  0.72],\n",
        "        [ 0.  ,  0.  ,  1.  ]],\n",
        "\n",
        "       [[ 0.  ,  0.  ,  0.  ],\n",
        "        [ 0.08,  0.02,  0.  ],\n",
        "        [ 0.12,  0.08,  0.  ],\n",
        "        [ 0.12,  0.18,  0.  ],\n",
        "        [ 0.08,  0.32,  0.  ],\n",
        "        [ 0.  ,  0.5 ,  0.  ],\n",
        "        [ 0.  ,  0.48,  0.12],\n",
        "        [ 0.  ,  0.42,  0.28],\n",
        "        [ 0.  ,  0.32,  0.48],\n",
        "        [ 0.  ,  0.18,  0.72],\n",
        "        [ 0.  ,  0.  ,  1.  ]],\n",
        "\n",
        "       [[ 0.  ,  0.  ,  0.  ],\n",
        "        [ 0.08,  0.02,  0.  ],\n",
        "        [ 0.12,  0.08,  0.  ],\n",
        "        [ 0.12,  0.18,  0.  ],\n",
        "        [ 0.08,  0.32,  0.  ],\n",
        "        [ 0.  ,  0.5 ,  0.  ],\n",
        "        [ 0.  ,  0.48,  0.12],\n",
        "        [ 0.  ,  0.42,  0.28],\n",
        "        [ 0.  ,  0.32,  0.48],\n",
        "        [ 0.  ,  0.18,  0.72],\n",
        "        [ 0.  ,  0.  ,  1.  ]]])"
       ]
      }
     ],
     "prompt_number": 62
    },
    {
     "cell_type": "code",
     "collapsed": false,
     "input": [
      "numpy.amax(c,axis=0)"
     ],
     "language": "python",
     "metadata": {},
     "outputs": [
      {
       "metadata": {},
       "output_type": "pyout",
       "prompt_number": 63,
       "text": [
        "array([[ 0.  ,  0.  ,  0.  ],\n",
        "       [ 0.08,  0.02,  0.  ],\n",
        "       [ 0.12,  0.08,  0.  ],\n",
        "       [ 0.12,  0.18,  0.  ],\n",
        "       [ 0.08,  0.32,  0.  ],\n",
        "       [ 0.  ,  0.5 ,  0.  ],\n",
        "       [ 0.  ,  0.48,  0.12],\n",
        "       [ 0.  ,  0.42,  0.28],\n",
        "       [ 0.  ,  0.32,  0.48],\n",
        "       [ 0.  ,  0.18,  0.72],\n",
        "       [ 0.  ,  0.  ,  1.  ]])"
       ]
      }
     ],
     "prompt_number": 63
    },
    {
     "cell_type": "code",
     "collapsed": false,
     "input": [
      "amax(c.reshape((3,c.shape[1]*c.shape[2])),axis=0)"
     ],
     "language": "python",
     "metadata": {},
     "outputs": [
      {
       "metadata": {},
       "output_type": "pyout",
       "prompt_number": 67,
       "text": [
        "array([ 0.  ,  0.  ,  0.  ,  0.08,  0.02,  0.  ,  0.12,  0.08,  0.  ,\n",
        "        0.12,  0.18,  0.  ,  0.08,  0.32,  0.  ,  0.  ,  0.5 ,  0.  ,\n",
        "        0.  ,  0.48,  0.12,  0.  ,  0.42,  0.28,  0.  ,  0.32,  0.48,\n",
        "        0.  ,  0.18,  0.72,  0.  ,  0.  ,  1.  ])"
       ]
      }
     ],
     "prompt_number": 67
    },
    {
     "cell_type": "code",
     "collapsed": false,
     "input": [
      "c"
     ],
     "language": "python",
     "metadata": {},
     "outputs": [
      {
       "metadata": {},
       "output_type": "pyout",
       "prompt_number": 65,
       "text": [
        "array([[[ 0.  ,  0.  ,  0.  ],\n",
        "        [ 0.08,  0.02,  0.  ],\n",
        "        [ 0.12,  0.08,  0.  ],\n",
        "        [ 0.12,  0.18,  0.  ],\n",
        "        [ 0.08,  0.32,  0.  ],\n",
        "        [ 0.  ,  0.5 ,  0.  ],\n",
        "        [ 0.  ,  0.48,  0.12],\n",
        "        [ 0.  ,  0.42,  0.28],\n",
        "        [ 0.  ,  0.32,  0.48],\n",
        "        [ 0.  ,  0.18,  0.72],\n",
        "        [ 0.  ,  0.  ,  1.  ]],\n",
        "\n",
        "       [[ 0.  ,  0.  ,  0.  ],\n",
        "        [ 0.08,  0.02,  0.  ],\n",
        "        [ 0.12,  0.08,  0.  ],\n",
        "        [ 0.12,  0.18,  0.  ],\n",
        "        [ 0.08,  0.32,  0.  ],\n",
        "        [ 0.  ,  0.5 ,  0.  ],\n",
        "        [ 0.  ,  0.48,  0.12],\n",
        "        [ 0.  ,  0.42,  0.28],\n",
        "        [ 0.  ,  0.32,  0.48],\n",
        "        [ 0.  ,  0.18,  0.72],\n",
        "        [ 0.  ,  0.  ,  1.  ]],\n",
        "\n",
        "       [[ 0.  ,  0.  ,  0.  ],\n",
        "        [ 0.08,  0.02,  0.  ],\n",
        "        [ 0.12,  0.08,  0.  ],\n",
        "        [ 0.12,  0.18,  0.  ],\n",
        "        [ 0.08,  0.32,  0.  ],\n",
        "        [ 0.  ,  0.5 ,  0.  ],\n",
        "        [ 0.  ,  0.48,  0.12],\n",
        "        [ 0.  ,  0.42,  0.28],\n",
        "        [ 0.  ,  0.32,  0.48],\n",
        "        [ 0.  ,  0.18,  0.72],\n",
        "        [ 0.  ,  0.  ,  1.  ]]])"
       ]
      }
     ],
     "prompt_number": 65
    },
    {
     "cell_type": "code",
     "collapsed": false,
     "input": [
      "a=numpy.arange(400).reshape((2,10,20))\n",
      "b=numpy.arange(2)\n"
     ],
     "language": "python",
     "metadata": {},
     "outputs": [],
     "prompt_number": 70
    },
    {
     "cell_type": "code",
     "collapsed": false,
     "input": [
      "numpy.arange(40).reshape((2,20))/(1+numpy.arange(2).reshape((2,1)))"
     ],
     "language": "python",
     "metadata": {},
     "outputs": [
      {
       "metadata": {},
       "output_type": "pyout",
       "prompt_number": 85,
       "text": [
        "array([[ 0,  1,  2,  3,  4,  5,  6,  7,  8,  9, 10, 11, 12, 13, 14, 15, 16,\n",
        "        17, 18, 19],\n",
        "       [10, 10, 11, 11, 12, 12, 13, 13, 14, 14, 15, 15, 16, 16, 17, 17, 18,\n",
        "        18, 19, 19]])"
       ]
      }
     ],
     "prompt_number": 85
    },
    {
     "cell_type": "code",
     "collapsed": false,
     "input": [
      "    order = [\n",
      "            [1,3,1],\n",
      "            [1,3,1,3,1,4,1,4,2,2,3,1,9,7,9,9,2,4,1,7,9,2,3,1,3,7,2,4,9,2,4,7,9,1,3,2,9,2,3,7,3,1,3,7,4,1,3,2,1,4,4,7,3,7,9,7,9,2,3],\n",
      "            [1,3,1,3,1,4,1,4,2,2,3,1,9,7,9,9,2,4,1,7,9,2,3,1,3,7,2,4,9,2,4,7,9,1,3,2,9,2,3,7,3,1,3,7,4,1,3,2,1,4,4,7,3,7,9,7,9,2,2,4,2,4,1,2,4,1,1,4,1,3,2,4,9,7,3,7,1,4,1,2,4,1,4,1,3,2,2,3,1,2,4,1,9,1,1,1,4,1,2,4,3,2,1,4,4,7,9,1,2,4,2,3,2,2,4,1,9,2,3,2,2,4,3,7,4],\n",
      "            [1,3,1,3,1,4,1,4,2,2,3,1,9,7,9,9,2,4,1,7,9,2,3,1,3,7,2,4,9,2,4,7,9,1,3,2,9,2,3,7,3,1,3,7,4,1,3,2,1,4,4,7,3,7,9,7,9,2,2,4,2,4,1,2,4,1,1,4,1,3,2,4,9,7,3,7,1,4,1,2,4,1,4,1,3,2,2,3,1,2,4,1,9,1,1,1,4,1,2,4,3,2,1,4,4,7,9,1,2,4,2,3,2,2,4,1,9,2,3,2,2,4,3,7,9,2,4,2,1,4,2,2,2,4,7,2,4,1,3,1,7,3,7,1,4,1,3,2,4,2,7,4,1,9,7,2,3,1,3,1,1,3,9,2,2,4,1,1,4,1,2,3,9,1,1,4,3,7,4,7,9,7,9,2,4,1],\n",
      "            [1,3,1,3,1,4,1,4,2,2,3,1,9,7,9,9,2,4,1,7,9,2,3,1,3,7,2,4,9,2,4,7,9,1,3,2,9,2,3,7,3,1,3,7,4,1,3,2,1,4,4,7,3,7,9,7,9,2,2,4,2,4,1,2,4,1,1,4,1,3,2,4,9,7,3,7,1,4,1,2,4,1,4,1,3,2,2,3,1,2,4,1,9,1,1,1,4,1,2,4,3,2,1,4,4,7,9,1,2,4,2,3,2,2,4,1,9,2,3,2,2,4,3,7,9,2,4,2,1,4,2,2,2,4,7,2,4,1,3,1,7,3,7,1,4,1,3,2,4,2,7,4,1,9,7,2,3,1,3,1,1,3,9,2,2,4,1,1,4,1,2,3,9,1,1,4,3,7,4,7,9,7,9,2,4,2,4,1,4,7,1,4,1,1,3,1,2,4,2,4,1,4,1,4,4,7,2,3,1,4,1,1,3,1,2,4,1,2,3,1,4,1,1,3,9,2,2,4,2,7,4,7,2,3,2,4,2,4,1,3,7,4,1,1,3,1,9,4,7,4,4,1,2],\n",
      "            [1,3,1,3,1,4,1,4,2,2,3,1,9,7,9,9,2,4,1,7,9,2,3,1,3,7,2,4,9,2,4,7,9,1,3,2,9,2,3,7,3,1,3,7,4,1,3,2,1,4,4,7,3,7,9,7,9,2,2,4,2,4,1,2,4,1,1,4,1,3,2,4,9,7,3,7,1,4,1,2,4,1,4,1,3,2,2,3,1,2,4,1,9,1,1,1,4,1,2,4,3,2,1,4,4,7,9,1,2,4,2,3,2,2,4,1,9,2,3,2,2,4,3,7,9,2,4,2,1,4,2,2,2,4,7,2,4,1,3,1,7,3,7,1,4,1,3,2,4,2,7,4,1,9,7,2,3,1,3,1,1,3,9,2,2,4,1,1,4,1,2,3,9,1,1,4,3,7,4,7,9,7,9,2,4,2,4,1,4,7,1,4,1,1,3,1,2,4,2,4,1,4,1,4,4,7,2,3,1,4,1,1,3,1,2,4,1,2,3,1,4,1,1,3,9,2,2,4,2,7,4,7,2,3,2,4,2,4,1,3,7,4,1,1,3,1,9,4,7,4,4,1,3,2,4,2,1,4,1,1,4,1,3,2,1,3,1,9,1,2,9,7,1,4,2,3,3,3,1,2,4,3,3,3,3,7,4,2,1,4,1,4,9,2,4,7,3,4,9,4,7,2,4,2,4,1,2,4,1],\n",
      "            [1,3,1,3,1,4,1,4,2,2,3,1,9,7,9,9,2,4,1,7,9,2,3,1,3,7,2,4,9,2,4,7,9,1,3,2,9,2,3,7,3,1,3,7,4,1,3,2,1,4,4,7,3,7,9,7,9,2,2,4,2,4,1,2,4,1,1,4,1,3,2,4,9,7,3,7,1,4,1,2,4,1,4,1,3,2,2,3,1,2,4,1,9,1,1,1,4,1,2,4,3,2,1,4,4,7,9,1,2,4,2,3,2,2,4,1,9,2,3,2,2,4,3,7,9,2,4,2,1,4,2,2,2,4,7,2,4,1,3,1,7,3,7,1,4,1,3,2,4,2,7,4,1,9,7,2,3,1,3,1,1,3,9,2,2,4,1,1,4,1,2,3,9,1,1,4,3,7,4,7,9,7,9,2,4,2,4,1,4,7,1,4,1,1,3,1,2,4,2,4,1,4,1,4,4,7,2,3,1,4,1,1,3,1,2,4,1,2,3,1,4,1,1,3,9,2,2,4,2,7,4,7,2,3,2,4,2,4,1,3,7,4,1,1,3,1,9,4,7,4,4,1,3,2,4,2,1,4,1,1,4,1,3,2,1,3,1,9,1,2,9,7,1,4,2,3,3,3,1,2,4,3,3,3,3,7,4,2,1,4,1,4,9,2,4,7,3,4,9,4,7,2,4,2,4,1,2,4,2,4,2,3,1,9,7,1,4,1,3,1,3,9,2,7,4,7,2,1,3,1,1,3,1,3,2,4,1,9,2,1,4,1,1,3,1,3,2,1,4,1,4,7,1,4,2,2,3,9,1,2,4,1,1,7,9,1,2,3,1,2,3,2,4,1,7],\n",
      "            [1,3,1,3,1,4,1,4,2,2,3,1,9,7,9,9,2,4,1,7,9,2,3,1,3,7,2,4,9,2,4,7,9,1,3,2,9,2,3,7,3,1,3,7,4,1,3,2,1,4,4,7,3,7,9,7,9,2,2,4,2,4,1,2,4,1,1,4,1,3,2,4,9,7,3,7,1,4,1,2,4,1,4,1,3,2,2,3,1,2,4,1,9,1,1,1,4,1,2,4,3,2,1,4,4,7,9,1,2,4,2,3,2,2,4,1,9,2,3,2,2,4,3,7,9,2,4,2,1,4,2,2,2,4,7,2,4,1,3,1,7,3,7,1,4,1,3,2,4,2,7,4,1,9,7,2,3,1,3,1,1,3,9,2,2,4,1,1,4,1,2,3,9,1,1,4,3,7,4,7,9,7,9,2,4,2,4,1,4,7,1,4,1,1,3,1,2,4,2,4,1,4,1,4,4,7,2,3,1,4,1,1,3,1,2,4,1,2,3,1,4,1,1,3,9,2,2,4,2,7,4,7,2,3,2,4,2,4,1,3,7,4,1,1,3,1,9,4,7,4,4,1,3,2,4,2,1,4,1,1,4,1,3,2,1,3,1,9,1,2,9,7,1,4,2,3,3,3,1,2,4,3,3,3,3,7,4,2,1,4,1,4,9,2,4,7,3,4,9,4,7,2,4,2,4,1,2,4,2,4,2,3,1,9,7,1,4,1,3,1,3,9,2,7,4,7,2,1,3,1,1,3,1,3,2,4,1,9,2,1,4,1,1,3,1,3,2,1,4,1,4,7,1,4,2,2,3,9,1,2,4,1,1,7,9,1,2,3,1,2,3,2,4,1,4,1,1,3,2,4,2,2,4,1,4,2,2,4,9,1,1,4,2,1,3,7,4,2,3,2,9,2,4,2,3,1,4,2,4,4,1,1,3,1,3,1,1,1,4,1,9,2,9,2,3,2,4,1,2,3,1,4,1,3,2,3,1,1,3,1,1],\n",
      "            [1,3,1,3,1,4,1,4,2,2,3,1,9,7,9,9,2,4,1,7,9,2,3,1,3,7,2,4,9,2,4,7,9,1,3,2,9,2,3,7,3,1,3,7,4,1,3,2,1,4,4,7,3,7,9,7,9,2,2,4,2,4,1,2,4,1,1,4,1,3,2,4,9,7,3,7,1,4,1,2,4,1,4,1,3,2,2,3,1,2,4,1,9,1,1,1,4,1,2,4,3,2,1,4,4,7,9,1,2,4,2,3,2,2,4,1,9,2,3,2,2,4,3,7,9,2,4,2,1,4,2,2,2,4,7,2,4,1,3,1,7,3,7,1,4,1,3,2,4,2,7,4,1,9,7,2,3,1,3,1,1,3,9,2,2,4,1,1,4,1,2,3,9,1,1,4,3,7,4,7,9,7,9,2,4,2,4,1,4,7,1,4,1,1,3,1,2,4,2,4,1,4,1,4,4,7,2,3,1,4,1,1,3,1,2,4,1,2,3,1,4,1,1,3,9,2,2,4,2,7,4,7,2,3,2,4,2,4,1,3,7,4,1,1,3,1,9,4,7,4,4,1,3,2,4,2,1,4,1,1,4,1,3,2,1,3,1,9,1,2,9,7,1,4,2,3,3,3,1,2,4,3,3,3,3,7,4,2,1,4,1,4,9,2,4,7,3,4,9,4,7,2,4,2,4,1,2,4,2,4,2,3,1,9,7,1,4,1,3,1,3,9,2,7,4,7,2,1,3,1,1,3,1,3,2,4,1,9,2,1,4,1,1,3,1,3,2,1,4,1,4,7,1,4,2,2,3,9,1,2,4,1,1,7,9,1,2,3,1,2,3,2,4,1,4,1,1,3,2,4,2,2,4,1,4,2,2,4,9,1,1,4,2,1,3,7,4,2,3,2,9,2,4,2,3,1,4,2,4,4,1,1,3,1,3,1,1,1,4,1,9,2,9,2,3,2,4,1,2,3,1,4,1,3,2,3,1,1,3,1,4,1,2,3,1,2,1,3,7,2,2,9,4,2,1,3,3,1,4,3,2,2,3,1,2,3,1,4,7,4,4,3,1,3,2,3,7,1,3,1,9,2,1,3,7,2,3,1,2,3,1,4,1,3,1,2,4,2,4,3,7,1],\n",
      "            [1,3,1,3,1,4,1,4,2,2,3,1,9,7,9,9,2,4,1,7,9,2,3,1,3,7,2,4,9,2,4,7,9,1,3,2,9,2,3,7,3,1,3,7,4,1,3,2,1,4,4,7,3,7,9,7,9,2,2,4,2,4,1,2,4,1,1,4,1,3,2,4,9,7,3,7,1,4,1,2,4,1,4,1,3,2,2,3,1,2,4,1,9,1,1,1,4,1,2,4,3,2,1,4,4,7,9,1,2,4,2,3,2,2,4,1,9,2,3,2,2,4,3,7,9,2,4,2,1,4,2,2,2,4,7,2,4,1,3,1,7,3,7,1,4,1,3,2,4,2,7,4,1,9,7,2,3,1,3,1,1,3,9,2,2,4,1,1,4,1,2,3,9,1,1,4,3,7,4,7,9,7,9,2,4,2,4,1,4,7,1,4,1,1,3,1,2,4,2,4,1,4,1,4,4,7,2,3,1,4,1,1,3,1,2,4,1,2,3,1,4,1,1,3,9,2,2,4,2,7,4,7,2,3,2,4,2,4,1,3,7,4,1,1,3,1,9,4,7,4,4,1,3,2,4,2,1,4,1,1,4,1,3,2,1,3,1,9,1,2,9,7,1,4,2,3,3,3,1,2,4,3,3,3,3,7,4,2,1,4,1,4,9,2,4,7,3,4,9,4,7,2,4,2,4,1,2,4,2,4,2,3,1,9,7,1,4,1,3,1,3,9,2,7,4,7,2,1,3,1,1,3,1,3,2,4,1,9,2,1,4,1,1,3,1,3,2,1,4,1,4,7,1,4,2,2,3,9,1,2,4,1,1,7,9,1,2,3,1,2,3,2,4,1,4,1,1,3,2,4,2,2,4,1,4,2,2,4,9,1,1,4,2,1,3,7,4,2,3,2,9,2,4,2,3,1,4,2,4,4,1,1,3,1,3,1,1,1,4,1,9,2,9,2,3,2,4,1,2,3,1,4,1,3,2,3,1,1,3,1,4,1,2,3,1,2,1,3,7,2,2,9,4,2,1,3,3,1,4,3,2,2,3,1,2,3,1,4,7,4,4,3,1,3,2,3,7,1,3,1,9,2,1,3,7,2,3,1,2,3,1,4,1,3,1,2,4,2,4,3,7,4,7,4,7,2,4,2,3,4,9,1,4,2,7,3,1,1,3,1,2,9,2,1,4,1,4,1,9,1,9,2,1,4,2,3,1,3,1,3,3,1,9,2,4,7,2,3,1,3,1,4,1,1,4,1,2,4,1,3,2,3,7,3]\n",
      "            ]\n",
      "    print [len(i) for i in order]"
     ],
     "language": "python",
     "metadata": {},
     "outputs": [
      {
       "output_type": "stream",
       "stream": "stdout",
       "text": [
        "[3, 59, 125, 186, 253, 309, 375, 441, 502, 564]\n"
       ]
      }
     ],
     "prompt_number": 86
    },
    {
     "cell_type": "code",
     "collapsed": false,
     "input": [
      "order[9][:3]"
     ],
     "language": "python",
     "metadata": {},
     "outputs": [
      {
       "metadata": {},
       "output_type": "pyout",
       "prompt_number": 89,
       "text": [
        "[1, 3, 1]"
       ]
      }
     ],
     "prompt_number": 89
    },
    {
     "cell_type": "code",
     "collapsed": false,
     "input": [
      "x=arange(10)\n",
      "plot(sin(x),'bo')"
     ],
     "language": "python",
     "metadata": {},
     "outputs": [
      {
       "metadata": {},
       "output_type": "pyout",
       "prompt_number": 91,
       "text": [
        "[<matplotlib.lines.Line2D at 0xb94f4a8>]"
       ]
      },
      {
       "metadata": {},
       "output_type": "display_data",
       "png": "[encoded data removed]",
       "text": [
        "<matplotlib.figure.Figure at 0xb804e48>"
       ]
      }
     ],
     "prompt_number": 91
    },
    {
     "cell_type": "code",
     "collapsed": false,
     "input": [],
     "language": "python",
     "metadata": {},
     "outputs": []
    }
   ],
   "metadata": {}
  }
 ]
}