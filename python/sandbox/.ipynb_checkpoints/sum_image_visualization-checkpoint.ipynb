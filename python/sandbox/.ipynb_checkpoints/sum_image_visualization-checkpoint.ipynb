{
 "metadata": {
  "name": "",
  "signature": "sha256:3d4625b25f2194c9ceb7c680b7eaa0a34121e44bc7f6fdf2581b323244709164"
 },
 "nbformat": 3,
 "nbformat_minor": 0,
 "worksheets": []
}