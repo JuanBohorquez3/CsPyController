{
 "metadata": {
  "name": "",
  "signature": "sha256:919962b2f747fadf0f744e4c4c48b517c597abf7fd4fc4de3f59995cb83b24b3"
 },
 "nbformat": 3,
 "nbformat_minor": 0,
 "worksheets": [
  {
   "cells": [
    {
     "cell_type": "markdown",
     "metadata": {},
     "source": [
      "<h2>Import ROIs into an hdf5 file</h2>"
     ]
    },
    {
     "cell_type": "code",
     "collapsed": false,
     "input": [
      "# copy and paste the new ROIs here, left top right bottom, tab separated, with each ROI on a new line\n",
      "\n",
      "s='''19\t5\t22\t8\n",
      "25\t5\t28\t8\n",
      "33\t6\t36\t9\n",
      "39\t6\t42\t9\n",
      "45\t6\t48\t9\n",
      "52\t7\t55\t10\n",
      "58\t6\t61\t9\n",
      "20\t12\t23\t15\n",
      "26\t11\t29\t14\n",
      "32\t12\t35\t15\n",
      "39\t13\t42\t16\n",
      "45\t12\t48\t15\n",
      "52\t12\t55\t15\n",
      "57\t12\t60\t15\n",
      "19\t18\t22\t21\n",
      "25\t19\t28\t22\n",
      "32\t19\t35\t22\n",
      "38\t18\t41\t21\n",
      "45\t19\t48\t22\n",
      "51\t19\t54\t22\n",
      "58\t19\t61\t22\n",
      "19\t24\t22\t27\n",
      "26\t25\t29\t28\n",
      "32\t25\t35\t28\n",
      "39\t25\t42\t28\n",
      "44\t25\t47\t28\n",
      "51\t26\t54\t29\n",
      "57\t26\t60\t29\n",
      "19\t31\t22\t34\n",
      "25\t31\t28\t34\n",
      "32\t31\t35\t34\n",
      "38\t32\t41\t35\n",
      "44\t31\t47\t34\n",
      "51\t31\t54\t34\n",
      "57\t31\t60\t34\n",
      "19\t37\t22\t40\n",
      "25\t37\t28\t40\n",
      "32\t37\t35\t40\n",
      "38\t38\t41\t41\n",
      "45\t37\t48\t40\n",
      "52\t38\t55\t41\n",
      "57\t38\t60\t41\n",
      "19\t44\t22\t47\n",
      "25\t44\t28\t47\n",
      "31\t45\t34\t48\n",
      "38\t44\t41\t47\n",
      "45\t44\t48\t47\n",
      "50\t44\t53\t47\n",
      "57\t44\t60\t47'''"
     ],
     "language": "python",
     "metadata": {},
     "outputs": [],
     "prompt_number": 1
    },
    {
     "cell_type": "code",
     "collapsed": false,
     "input": [
      "# or load new ROIs from a file\n",
      "with open(r'rois.txt','r') as f:\n",
      "    s=f.read()\n",
      "print s"
     ],
     "language": "python",
     "metadata": {},
     "outputs": [],
     "prompt_number": 1
    },
    {
     "cell_type": "code",
     "collapsed": false,
     "input": [
      "# convert to a numpy array\n",
      "r=numpy.array([[int(j) for j in i.split('\\t')] for i in s.split('\\n')])\n",
      "print r.shape\n",
      "print r"
     ],
     "language": "python",
     "metadata": {},
     "outputs": [],
     "prompt_number": 3
    },
    {
     "cell_type": "code",
     "collapsed": false,
     "input": [
      "# load the setting file you want to modify\n",
      "import h5py\n",
      "f = h5py.File(r'C:\\Users\\Saffmanlab\\Documents\\git\\CsPyController\\python\\settings.hdf5','a')"
     ],
     "language": "python",
     "metadata": {},
     "outputs": [],
     "prompt_number": 5
    },
    {
     "cell_type": "code",
     "collapsed": false,
     "input": [
      "# show the old settings\n",
      "f['settings/experiment/squareROIAnalysis/ROIs'].value"
     ],
     "language": "python",
     "metadata": {},
     "outputs": [
      {
       "metadata": {},
       "output_type": "pyout",
       "prompt_number": 7,
       "text": [
        "array([(19, 5, 22, 8, 17000L), (25, 5, 28, 8, 17000L),\n",
        "       (33, 6, 36, 9, 17000L), (39, 6, 42, 9, 17000L),\n",
        "       (45, 6, 48, 9, 17000L), (52, 7, 55, 10, 17000L),\n",
        "       (58, 6, 61, 9, 17000L), (20, 12, 23, 15, 17000L),\n",
        "       (26, 11, 29, 14, 17000L), (32, 12, 35, 15, 20000L),\n",
        "       (39, 13, 42, 16, 17000L), (45, 12, 48, 15, 17000L),\n",
        "       (52, 12, 55, 15, 17000L), (57, 12, 60, 15, 17000L),\n",
        "       (19, 18, 22, 21, 17000L), (25, 19, 28, 22, 18000L),\n",
        "       (32, 19, 35, 22, 17000L), (38, 18, 41, 21, 17000L),\n",
        "       (45, 19, 48, 22, 17000L), (51, 19, 54, 22, 17000L),\n",
        "       (58, 19, 61, 22, 17000L), (19, 24, 22, 27, 17000L),\n",
        "       (26, 25, 29, 28, 17000L), (32, 25, 35, 28, 17000L),\n",
        "       (36, 27, 39, 30, 17000L), (44, 25, 47, 28, 17000L),\n",
        "       (51, 26, 54, 29, 17000L), (57, 26, 60, 29, 17000L),\n",
        "       (19, 31, 22, 34, 17000L), (25, 31, 28, 34, 17000L),\n",
        "       (32, 31, 35, 34, 17000L), (38, 32, 41, 35, 17000L),\n",
        "       (44, 31, 47, 34, 17000L), (51, 31, 54, 34, 17000L),\n",
        "       (57, 31, 60, 34, 17000L), (19, 37, 22, 40, 17000L),\n",
        "       (25, 37, 28, 40, 17000L), (32, 37, 35, 40, 17000L),\n",
        "       (38, 38, 41, 41, 17000L), (45, 37, 48, 40, 17000L),\n",
        "       (52, 38, 55, 41, 17000L), (57, 38, 60, 41, 17000L),\n",
        "       (19, 44, 22, 47, 17000L), (25, 44, 28, 47, 17000L),\n",
        "       (31, 45, 34, 48, 17000L), (38, 44, 41, 47, 17000L),\n",
        "       (45, 44, 48, 47, 17000L), (50, 44, 53, 47, 17000L),\n",
        "       (57, 44, 60, 47, 17000L)], \n",
        "      dtype=[('left', '<u2'), ('top', '<u2'), ('right', '<u2'), ('bottom', '<u2'), ('threshold', '<u4')])"
       ]
      }
     ],
     "prompt_number": 7
    },
    {
     "cell_type": "code",
     "collapsed": false,
     "input": [
      "# update the ROIs in the file\n",
      "f['settings/experiment/squareROIAnalysis/ROIs']['left']=r[:,0]\n",
      "f['settings/experiment/squareROIAnalysis/ROIs']['top']=r[:,1]\n",
      "f['settings/experiment/squareROIAnalysis/ROIs']['right']=r[:,2]\n",
      "f['settings/experiment/squareROIAnalysis/ROIs']['bottom']=r[:,3]"
     ],
     "language": "python",
     "metadata": {},
     "outputs": [],
     "prompt_number": 8
    },
    {
     "cell_type": "code",
     "collapsed": false,
     "input": [
      "# confirm the new ROIs in the file\n",
      "f['settings/experiment/squareROIAnalysis/ROIs'].value"
     ],
     "language": "python",
     "metadata": {},
     "outputs": [
      {
       "metadata": {},
       "output_type": "pyout",
       "prompt_number": 9,
       "text": [
        "array([(21, 7, 24, 10, 17000L), (27, 7, 30, 10, 17000L),\n",
        "       (33, 6, 36, 9, 17000L), (40, 7, 43, 10, 17000L),\n",
        "       (46, 8, 49, 11, 17000L), (52, 7, 55, 10, 17000L),\n",
        "       (59, 7, 62, 10, 17000L), (19, 12, 22, 15, 17000L),\n",
        "       (26, 13, 29, 16, 17000L), (32, 13, 35, 16, 20000L),\n",
        "       (39, 13, 42, 16, 17000L), (46, 14, 49, 17, 17000L),\n",
        "       (52, 13, 55, 16, 17000L), (58, 13, 61, 16, 17000L),\n",
        "       (19, 19, 22, 22, 17000L), (27, 19, 30, 22, 18000L),\n",
        "       (33, 20, 36, 23, 17000L), (39, 19, 42, 22, 17000L),\n",
        "       (45, 19, 48, 22, 17000L), (52, 20, 55, 23, 17000L),\n",
        "       (58, 21, 61, 24, 17000L), (18, 25, 21, 28, 17000L),\n",
        "       (25, 25, 28, 28, 17000L), (31, 25, 34, 28, 17000L),\n",
        "       (39, 26, 42, 29, 17000L), (44, 25, 47, 28, 17000L),\n",
        "       (51, 26, 54, 29, 17000L), (57, 26, 60, 29, 17000L),\n",
        "       (19, 31, 22, 34, 17000L), (26, 32, 29, 35, 17000L),\n",
        "       (32, 32, 35, 35, 17000L), (38, 32, 41, 35, 17000L),\n",
        "       (45, 32, 48, 35, 17000L), (51, 32, 54, 35, 17000L),\n",
        "       (58, 32, 61, 35, 17000L), (18, 38, 21, 41, 17000L),\n",
        "       (25, 38, 28, 41, 17000L), (31, 38, 34, 41, 17000L),\n",
        "       (37, 38, 40, 41, 17000L), (44, 38, 47, 41, 17000L),\n",
        "       (50, 38, 53, 41, 17000L), (57, 39, 60, 42, 17000L),\n",
        "       (18, 44, 21, 47, 17000L), (25, 44, 28, 47, 17000L),\n",
        "       (32, 44, 35, 47, 17000L), (38, 45, 41, 48, 17000L),\n",
        "       (45, 45, 48, 48, 17000L), (51, 45, 54, 48, 17000L),\n",
        "       (57, 45, 60, 48, 17000L)], \n",
        "      dtype=[('left', '<u2'), ('top', '<u2'), ('right', '<u2'), ('bottom', '<u2'), ('threshold', '<u4')])"
       ]
      }
     ],
     "prompt_number": 9
    },
    {
     "cell_type": "code",
     "collapsed": false,
     "input": [
      "# close the settings file\n",
      "f.flush()\n",
      "f.close()"
     ],
     "language": "python",
     "metadata": {},
     "outputs": [],
     "prompt_number": 10
    }
   ],
   "metadata": {}
  }
 ]
}