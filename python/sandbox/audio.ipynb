{
 "metadata": {
  "name": "",
  "signature": "sha256:03d956605dd0d3770c41ab3538207c24c8ae77d4dcb0c3255e14d28f02f29903"
 },
 "nbformat": 3,
 "nbformat_minor": 0,
 "worksheets": [
  {
   "cells": [
    {
     "cell_type": "code",
     "collapsed": false,
     "input": [
      "import wave"
     ],
     "language": "python",
     "metadata": {},
     "outputs": [],
     "prompt_number": 1
    },
    {
     "cell_type": "code",
     "collapsed": false,
     "input": [
      "import pyaudio"
     ],
     "language": "python",
     "metadata": {},
     "outputs": [],
     "prompt_number": 2
    },
    {
     "cell_type": "code",
     "collapsed": false,
     "input": [
      "import pyaudio\n",
      "import wave\n",
      "import sys\n",
      "\n",
      "def play(soundfile):\n",
      "    CHUNK = 1024\n",
      "    \n",
      "    wf = wave.open(soundfile, 'rb')\n",
      "    \n",
      "    p = pyaudio.PyAudio()\n",
      "    \n",
      "    stream = p.open(format=p.get_format_from_width(wf.getsampwidth()),\n",
      "                    channels=wf.getnchannels(),\n",
      "                    rate=wf.getframerate(),\n",
      "                    output=True)\n",
      "    \n",
      "    data = wf.readframes(CHUNK)\n",
      "    \n",
      "    while data != '':\n",
      "        stream.write(data)\n",
      "        data = wf.readframes(CHUNK)\n",
      "    \n",
      "    stream.stop_stream()\n",
      "    stream.close()\n",
      "    \n",
      "    p.terminate()"
     ],
     "language": "python",
     "metadata": {},
     "outputs": [],
     "prompt_number": 4
    },
    {
     "cell_type": "code",
     "collapsed": false,
     "input": [],
     "language": "python",
     "metadata": {},
     "outputs": []
    }
   ],
   "metadata": {}
  }
 ]
}