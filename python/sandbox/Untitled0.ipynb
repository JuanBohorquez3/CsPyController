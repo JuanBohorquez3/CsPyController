{
 "metadata": {
  "name": "",
  "signature": "sha256:e5f1fbe9b2474af6151aed02b9cde4c221bf56675b88d79c651cb24b5fcfa1c8"
 },
 "nbformat": 3,
 "nbformat_minor": 0,
 "worksheets": [
  {
   "cells": [
    {
     "cell_type": "code",
     "collapsed": false,
     "input": [
      "import numpy as np\n"
     ],
     "language": "python",
     "metadata": {},
     "outputs": [
      {
       "output_type": "stream",
       "stream": "stdout",
       "text": [
        "[ 0.46819183  0.33419853  0.22584075  0.79638301  0.00678735  0.21969502\n",
        "  0.08143738  0.77396968  0.98202808  0.59587249]\n"
       ]
      }
     ],
     "prompt_number": 2
    },
    {
     "cell_type": "code",
     "collapsed": false,
     "input": [
      "a = np.random.rand(4,4)\n",
      "print a"
     ],
     "language": "python",
     "metadata": {},
     "outputs": [
      {
       "output_type": "stream",
       "stream": "stdout",
       "text": [
        "[[ 0.52358745  0.66592202  0.50324617  0.59408786]\n",
        " [ 0.04353263  0.94990558  0.93274622  0.1388299 ]\n",
        " [ 0.20004398  0.89547456  0.98547262  0.65916179]\n",
        " [ 0.97580254  0.8169379   0.92389463  0.01883361]]\n"
       ]
      }
     ],
     "prompt_number": 7
    },
    {
     "cell_type": "code",
     "collapsed": false,
     "input": [
      "a < .5"
     ],
     "language": "python",
     "metadata": {},
     "outputs": [
      {
       "metadata": {},
       "output_type": "pyout",
       "prompt_number": 8,
       "text": [
        "array([[False, False, False, False],\n",
        "       [ True, False, False,  True],\n",
        "       [ True, False, False, False],\n",
        "       [False, False, False,  True]], dtype=bool)"
       ]
      }
     ],
     "prompt_number": 8
    },
    {
     "cell_type": "code",
     "collapsed": false,
     "input": [
      "np.sum(a<.5)"
     ],
     "language": "python",
     "metadata": {},
     "outputs": [
      {
       "metadata": {},
       "output_type": "pyout",
       "prompt_number": 9,
       "text": [
        "4"
       ]
      }
     ],
     "prompt_number": 9
    },
    {
     "cell_type": "code",
     "collapsed": false,
     "input": [
      "a[a<.5]"
     ],
     "language": "python",
     "metadata": {},
     "outputs": [
      {
       "metadata": {},
       "output_type": "pyout",
       "prompt_number": 10,
       "text": [
        "array([ 0.04353263,  0.1388299 ,  0.20004398,  0.01883361])"
       ]
      }
     ],
     "prompt_number": 10
    },
    {
     "cell_type": "code",
     "collapsed": false,
     "input": [],
     "language": "python",
     "metadata": {},
     "outputs": []
    }
   ],
   "metadata": {}
  }
 ]
}