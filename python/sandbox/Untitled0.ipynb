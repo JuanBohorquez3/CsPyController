{
 "metadata": {
  "name": "",
  "signature": "sha256:777a5ae525f4fdfe912584af7903cd9d4e258df2a9a7b2157bf140833cf32f1e"
 },
 "nbformat": 3,
 "nbformat_minor": 0,
 "worksheets": [
  {
   "cells": [
    {
     "cell_type": "code",
     "collapsed": false,
     "input": [
      "from __future__ import division"
     ],
     "language": "python",
     "metadata": {},
     "outputs": [],
     "prompt_number": 3
    },
    {
     "cell_type": "code",
     "collapsed": false,
     "input": [
      "240600*2.206*1/(2*sqrt(6))*sqrt(.0395*8.5)/(89**(3/2)*3*3.72)"
     ],
     "language": "python",
     "metadata": {},
     "outputs": [
      {
       "metadata": {},
       "output_type": "pyout",
       "prompt_number": 4,
       "text": [
        "6.6996839580179905"
       ]
      }
     ],
     "prompt_number": 4
    },
    {
     "cell_type": "code",
     "collapsed": false,
     "input": [
      "int(1.5/(1/2))"
     ],
     "language": "python",
     "metadata": {},
     "outputs": [
      {
       "metadata": {},
       "output_type": "pyout",
       "prompt_number": 9,
       "text": [
        "3"
       ]
      }
     ],
     "prompt_number": 9
    },
    {
     "cell_type": "code",
     "collapsed": false,
     "input": [
      "def asHalf(f):\n",
      "    n=int(f*2)\n",
      "    if (n%2) == 0:\n",
      "        return str(int(f))\n",
      "    else:\n",
      "        return str(n)+'/2'\n",
      "    "
     ],
     "language": "python",
     "metadata": {},
     "outputs": [],
     "prompt_number": 15
    },
    {
     "cell_type": "code",
     "collapsed": false,
     "input": [
      "asHalf(-1.5)"
     ],
     "language": "python",
     "metadata": {},
     "outputs": [
      {
       "metadata": {},
       "output_type": "pyout",
       "prompt_number": 19,
       "text": [
        "'-3/2'"
       ]
      }
     ],
     "prompt_number": 19
    },
    {
     "cell_type": "code",
     "collapsed": false,
     "input": [
      "eval('')"
     ],
     "language": "python",
     "metadata": {},
     "outputs": [
      {
       "metadata": {},
       "output_type": "pyout",
       "prompt_number": 23,
       "text": [
        "5"
       ]
      }
     ],
     "prompt_number": 23
    },
    {
     "cell_type": "code",
     "collapsed": false,
     "input": [
      "toStr=numpy.vectorize(str)"
     ],
     "language": "python",
     "metadata": {},
     "outputs": [],
     "prompt_number": 1
    },
    {
     "cell_type": "code",
     "collapsed": false,
     "input": [
      "a=numpy.random.random((5,5))"
     ],
     "language": "python",
     "metadata": {},
     "outputs": [],
     "prompt_number": 6
    },
    {
     "cell_type": "code",
     "collapsed": false,
     "input": [
      "a"
     ],
     "language": "python",
     "metadata": {},
     "outputs": [
      {
       "metadata": {},
       "output_type": "pyout",
       "prompt_number": 7,
       "text": [
        "array([[ 0.85267127,  0.63693865,  0.61247012,  0.10031099,  0.5835974 ],\n",
        "       [ 0.06491405,  0.76141378,  0.95554306,  0.31356296,  0.99780019],\n",
        "       [ 0.11828933,  0.29350273,  0.69719446,  0.0210058 ,  0.41250691],\n",
        "       [ 0.31596796,  0.35379747,  0.92995477,  0.27427639,  0.28292053],\n",
        "       [ 0.35715981,  0.82986686,  0.53556351,  0.37585371,  0.97231327]])"
       ]
      }
     ],
     "prompt_number": 7
    },
    {
     "cell_type": "code",
     "collapsed": false,
     "input": [
      "toStr(a)"
     ],
     "language": "python",
     "metadata": {},
     "outputs": [
      {
       "metadata": {},
       "output_type": "pyout",
       "prompt_number": 8,
       "text": [
        "array([['0.852671265646', '0.636938648603', '0.612470124357',\n",
        "        '0.100310986228', '0.583597401842'],\n",
        "       ['0.0649140469931', '0.761413775378', '0.955543058294',\n",
        "        '0.313562962107', '0.997800185844'],\n",
        "       ['0.118289326435', '0.293502729918', '0.697194458158',\n",
        "        '0.0210058038124', '0.412506908242'],\n",
        "       ['0.31596795676', '0.353797467174', '0.929954769375',\n",
        "        '0.274276390247', '0.282920534773'],\n",
        "       ['0.357159805469', '0.829866863066', '0.535563510526',\n",
        "        '0.375853714411', '0.972313270463']], \n",
        "      dtype='|S15')"
       ]
      }
     ],
     "prompt_number": 8
    },
    {
     "cell_type": "code",
     "collapsed": false,
     "input": [
      "a=numpy.zeros(0,dtype=numpy.float64)"
     ],
     "language": "python",
     "metadata": {},
     "outputs": [],
     "prompt_number": 9
    },
    {
     "cell_type": "code",
     "collapsed": false,
     "input": [
      "a"
     ],
     "language": "python",
     "metadata": {},
     "outputs": [
      {
       "metadata": {},
       "output_type": "pyout",
       "prompt_number": 10,
       "text": [
        "array([], dtype=float64)"
       ]
      }
     ],
     "prompt_number": 10
    },
    {
     "cell_type": "code",
     "collapsed": false,
     "input": [
      "toStr(a)"
     ],
     "language": "python",
     "metadata": {},
     "outputs": [
      {
       "ename": "IndexError",
       "evalue": "index 0 is out of bounds for axis 0 with size 0",
       "output_type": "pyerr",
       "traceback": [
        "\u001b[1;31m---------------------------------------------------------------------------\u001b[0m\n\u001b[1;31mIndexError\u001b[0m                                Traceback (most recent call last)",
        "\u001b[1;32m<ipython-input-11-c8e6fe545fdf>\u001b[0m in \u001b[0;36m<module>\u001b[1;34m()\u001b[0m\n\u001b[1;32m----> 1\u001b[1;33m \u001b[0mtoStr\u001b[0m\u001b[1;33m(\u001b[0m\u001b[0ma\u001b[0m\u001b[1;33m)\u001b[0m\u001b[1;33m\u001b[0m\u001b[0m\n\u001b[0m",
        "\u001b[1;32mC:\\Users\\Saffmanlab\\AppData\\Local\\Enthought\\Canopy\\User\\lib\\site-packages\\numpy\\lib\\function_base.pyc\u001b[0m in \u001b[0;36m__call__\u001b[1;34m(self, *args, **kwargs)\u001b[0m\n\u001b[0;32m   1570\u001b[0m             \u001b[0mvargs\u001b[0m\u001b[1;33m.\u001b[0m\u001b[0mextend\u001b[0m\u001b[1;33m(\u001b[0m\u001b[1;33m[\u001b[0m\u001b[0mkwargs\u001b[0m\u001b[1;33m[\u001b[0m\u001b[0m_n\u001b[0m\u001b[1;33m]\u001b[0m \u001b[1;32mfor\u001b[0m \u001b[0m_n\u001b[0m \u001b[1;32min\u001b[0m \u001b[0mnames\u001b[0m\u001b[1;33m]\u001b[0m\u001b[1;33m)\u001b[0m\u001b[1;33m\u001b[0m\u001b[0m\n\u001b[0;32m   1571\u001b[0m \u001b[1;33m\u001b[0m\u001b[0m\n\u001b[1;32m-> 1572\u001b[1;33m         \u001b[1;32mreturn\u001b[0m \u001b[0mself\u001b[0m\u001b[1;33m.\u001b[0m\u001b[0m_vectorize_call\u001b[0m\u001b[1;33m(\u001b[0m\u001b[0mfunc\u001b[0m\u001b[1;33m=\u001b[0m\u001b[0mfunc\u001b[0m\u001b[1;33m,\u001b[0m \u001b[0margs\u001b[0m\u001b[1;33m=\u001b[0m\u001b[0mvargs\u001b[0m\u001b[1;33m)\u001b[0m\u001b[1;33m\u001b[0m\u001b[0m\n\u001b[0m\u001b[0;32m   1573\u001b[0m \u001b[1;33m\u001b[0m\u001b[0m\n\u001b[0;32m   1574\u001b[0m     \u001b[1;32mdef\u001b[0m \u001b[0m_get_ufunc_and_otypes\u001b[0m\u001b[1;33m(\u001b[0m\u001b[0mself\u001b[0m\u001b[1;33m,\u001b[0m \u001b[0mfunc\u001b[0m\u001b[1;33m,\u001b[0m \u001b[0margs\u001b[0m\u001b[1;33m)\u001b[0m\u001b[1;33m:\u001b[0m\u001b[1;33m\u001b[0m\u001b[0m\n",
        "\u001b[1;32mC:\\Users\\Saffmanlab\\AppData\\Local\\Enthought\\Canopy\\User\\lib\\site-packages\\numpy\\lib\\function_base.pyc\u001b[0m in \u001b[0;36m_vectorize_call\u001b[1;34m(self, func, args)\u001b[0m\n\u001b[0;32m   1630\u001b[0m             \u001b[0m_res\u001b[0m \u001b[1;33m=\u001b[0m \u001b[0mfunc\u001b[0m\u001b[1;33m(\u001b[0m\u001b[1;33m)\u001b[0m\u001b[1;33m\u001b[0m\u001b[0m\n\u001b[0;32m   1631\u001b[0m         \u001b[1;32melse\u001b[0m\u001b[1;33m:\u001b[0m\u001b[1;33m\u001b[0m\u001b[0m\n\u001b[1;32m-> 1632\u001b[1;33m             \u001b[0mufunc\u001b[0m\u001b[1;33m,\u001b[0m \u001b[0motypes\u001b[0m \u001b[1;33m=\u001b[0m \u001b[0mself\u001b[0m\u001b[1;33m.\u001b[0m\u001b[0m_get_ufunc_and_otypes\u001b[0m\u001b[1;33m(\u001b[0m\u001b[0mfunc\u001b[0m\u001b[1;33m=\u001b[0m\u001b[0mfunc\u001b[0m\u001b[1;33m,\u001b[0m \u001b[0margs\u001b[0m\u001b[1;33m=\u001b[0m\u001b[0margs\u001b[0m\u001b[1;33m)\u001b[0m\u001b[1;33m\u001b[0m\u001b[0m\n\u001b[0m\u001b[0;32m   1633\u001b[0m \u001b[1;33m\u001b[0m\u001b[0m\n\u001b[0;32m   1634\u001b[0m             \u001b[1;31m# Convert args to object arrays first\u001b[0m\u001b[1;33m\u001b[0m\u001b[1;33m\u001b[0m\u001b[0m\n",
        "\u001b[1;32mC:\\Users\\Saffmanlab\\AppData\\Local\\Enthought\\Canopy\\User\\lib\\site-packages\\numpy\\lib\\function_base.pyc\u001b[0m in \u001b[0;36m_get_ufunc_and_otypes\u001b[1;34m(self, func, args)\u001b[0m\n\u001b[0;32m   1593\u001b[0m             \u001b[1;31m# Assumes that ufunc first evaluates the 0th elements in the input\u001b[0m\u001b[1;33m\u001b[0m\u001b[1;33m\u001b[0m\u001b[0m\n\u001b[0;32m   1594\u001b[0m             \u001b[1;31m# arrays (the input values are not checked to ensure this)\u001b[0m\u001b[1;33m\u001b[0m\u001b[1;33m\u001b[0m\u001b[0m\n\u001b[1;32m-> 1595\u001b[1;33m             \u001b[0minputs\u001b[0m \u001b[1;33m=\u001b[0m \u001b[1;33m[\u001b[0m\u001b[0masarray\u001b[0m\u001b[1;33m(\u001b[0m\u001b[0m_a\u001b[0m\u001b[1;33m)\u001b[0m\u001b[1;33m.\u001b[0m\u001b[0mflat\u001b[0m\u001b[1;33m[\u001b[0m\u001b[1;36m0\u001b[0m\u001b[1;33m]\u001b[0m \u001b[1;32mfor\u001b[0m \u001b[0m_a\u001b[0m \u001b[1;32min\u001b[0m \u001b[0margs\u001b[0m\u001b[1;33m]\u001b[0m\u001b[1;33m\u001b[0m\u001b[0m\n\u001b[0m\u001b[0;32m   1596\u001b[0m             \u001b[0moutputs\u001b[0m \u001b[1;33m=\u001b[0m \u001b[0mfunc\u001b[0m\u001b[1;33m(\u001b[0m\u001b[1;33m*\u001b[0m\u001b[0minputs\u001b[0m\u001b[1;33m)\u001b[0m\u001b[1;33m\u001b[0m\u001b[0m\n\u001b[0;32m   1597\u001b[0m \u001b[1;33m\u001b[0m\u001b[0m\n",
        "\u001b[1;31mIndexError\u001b[0m: index 0 is out of bounds for axis 0 with size 0"
       ]
      }
     ],
     "prompt_number": 11
    },
    {
     "cell_type": "code",
     "collapsed": false,
     "input": [
      "b=numpy.zeros(0,dtype='S1')"
     ],
     "language": "python",
     "metadata": {},
     "outputs": [],
     "prompt_number": 14
    },
    {
     "cell_type": "code",
     "collapsed": false,
     "input": [
      "b"
     ],
     "language": "python",
     "metadata": {},
     "outputs": [
      {
       "metadata": {},
       "output_type": "pyout",
       "prompt_number": 15,
       "text": [
        "array([], \n",
        "      dtype='|S1')"
       ]
      }
     ],
     "prompt_number": 15
    },
    {
     "cell_type": "code",
     "collapsed": false,
     "input": [
      "float(None)"
     ],
     "language": "python",
     "metadata": {},
     "outputs": [
      {
       "ename": "TypeError",
       "evalue": "float() argument must be a string or a number",
       "output_type": "pyerr",
       "traceback": [
        "\u001b[1;31m---------------------------------------------------------------------------\u001b[0m\n\u001b[1;31mTypeError\u001b[0m                                 Traceback (most recent call last)",
        "\u001b[1;32m<ipython-input-16-17c61634473f>\u001b[0m in \u001b[0;36m<module>\u001b[1;34m()\u001b[0m\n\u001b[1;32m----> 1\u001b[1;33m \u001b[0mfloat\u001b[0m\u001b[1;33m(\u001b[0m\u001b[0mNone\u001b[0m\u001b[1;33m)\u001b[0m\u001b[1;33m\u001b[0m\u001b[0m\n\u001b[0m",
        "\u001b[1;31mTypeError\u001b[0m: float() argument must be a string or a number"
       ]
      }
     ],
     "prompt_number": 16
    },
    {
     "cell_type": "code",
     "collapsed": false,
     "input": [
      "float(z)"
     ],
     "language": "python",
     "metadata": {},
     "outputs": [
      {
       "ename": "NameError",
       "evalue": "name 'z' is not defined",
       "output_type": "pyerr",
       "traceback": [
        "\u001b[1;31m---------------------------------------------------------------------------\u001b[0m\n\u001b[1;31mNameError\u001b[0m                                 Traceback (most recent call last)",
        "\u001b[1;32m<ipython-input-18-2bb3cae02301>\u001b[0m in \u001b[0;36m<module>\u001b[1;34m()\u001b[0m\n\u001b[1;32m----> 1\u001b[1;33m \u001b[0mfloat\u001b[0m\u001b[1;33m(\u001b[0m\u001b[0mz\u001b[0m\u001b[1;33m)\u001b[0m\u001b[1;33m\u001b[0m\u001b[0m\n\u001b[0m",
        "\u001b[1;31mNameError\u001b[0m: name 'z' is not defined"
       ]
      }
     ],
     "prompt_number": 18
    },
    {
     "cell_type": "code",
     "collapsed": false,
     "input": [
      "numpy.float64(None)"
     ],
     "language": "python",
     "metadata": {},
     "outputs": [
      {
       "metadata": {},
       "output_type": "pyout",
       "prompt_number": 19,
       "text": [
        "nan"
       ]
      }
     ],
     "prompt_number": 19
    },
    {
     "cell_type": "code",
     "collapsed": false,
     "input": [
      "a"
     ],
     "language": "python",
     "metadata": {},
     "outputs": [
      {
       "metadata": {},
       "output_type": "pyout",
       "prompt_number": 20,
       "text": [
        "array([], dtype=float64)"
       ]
      }
     ],
     "prompt_number": 20
    },
    {
     "cell_type": "code",
     "collapsed": false,
     "input": [
      "a.size"
     ],
     "language": "python",
     "metadata": {},
     "outputs": [
      {
       "metadata": {},
       "output_type": "pyout",
       "prompt_number": 21,
       "text": [
        "0"
       ]
      }
     ],
     "prompt_number": 21
    },
    {
     "cell_type": "code",
     "collapsed": false,
     "input": [
      "l=eval('[(1,2),(3,4)]')"
     ],
     "language": "python",
     "metadata": {},
     "outputs": [],
     "prompt_number": 1
    },
    {
     "cell_type": "code",
     "collapsed": false,
     "input": [
      "l"
     ],
     "language": "python",
     "metadata": {},
     "outputs": [
      {
       "metadata": {},
       "output_type": "pyout",
       "prompt_number": 2,
       "text": [
        "[(1, 2), (3, 4)]"
       ]
      }
     ],
     "prompt_number": 2
    },
    {
     "cell_type": "code",
     "collapsed": false,
     "input": [
      "fig=figure()\n",
      "ax=fig.add_subplot(111)\n",
      "ax.plot([1,2,3,4],[3,3,2,2],'-o',label='hi')\n",
      "ax.plot([1,2,3,4],[3,4,5,6],'-o',label='hey')\n",
      "legend()"
     ],
     "language": "python",
     "metadata": {},
     "outputs": [
      {
       "metadata": {},
       "output_type": "pyout",
       "prompt_number": 15,
       "text": [
        "<matplotlib.legend.Legend at 0xb1734a8>"
       ]
      },
      {
       "metadata": {},
       "output_type": "display_data",
       "png": "[encoded data removed]",
       "text": [
        "<matplotlib.figure.Figure at 0xaf2d4e0>"
       ]
      }
     ],
     "prompt_number": 15
    },
    {
     "cell_type": "code",
     "collapsed": false,
     "input": [
      "2**16"
     ],
     "language": "python",
     "metadata": {},
     "outputs": [
      {
       "metadata": {},
       "output_type": "pyout",
       "prompt_number": 16,
       "text": [
        "65536"
       ]
      }
     ],
     "prompt_number": 16
    },
    {
     "cell_type": "code",
     "collapsed": false,
     "input": [
      "import os\n",
      "os.getcwd()"
     ],
     "language": "python",
     "metadata": {},
     "outputs": [
      {
       "metadata": {},
       "output_type": "pyout",
       "prompt_number": 17,
       "text": [
        "'C:\\\\Users\\\\Saffmanlab\\\\Documents\\\\git\\\\DevPyControler\\\\python\\\\sandbox'"
       ]
      }
     ],
     "prompt_number": 17
    },
    {
     "cell_type": "code",
     "collapsed": false,
     "input": [
      "import h5py\n",
      "f=h5py.File(r'D:\\data\\2014_05_01\\2014_05_01_12_58_26_Ryd_Blockade_15on17\\results.hdf5','r')"
     ],
     "language": "python",
     "metadata": {},
     "outputs": [],
     "prompt_number": 18
    },
    {
     "cell_type": "code",
     "collapsed": false,
     "input": [
      "a=f['iterations/0/measurements/0/analysis/squareROIsums']"
     ],
     "language": "python",
     "metadata": {},
     "outputs": [],
     "prompt_number": 23
    },
    {
     "cell_type": "code",
     "collapsed": false,
     "input": [
      "b=eval('a[1,17]<30000',{'a':a})"
     ],
     "language": "python",
     "metadata": {},
     "outputs": [],
     "prompt_number": 28
    },
    {
     "cell_type": "code",
     "collapsed": false,
     "input": [
      "b"
     ],
     "language": "python",
     "metadata": {},
     "outputs": [
      {
       "metadata": {},
       "output_type": "pyout",
       "prompt_number": 26,
       "text": [
        "True"
       ]
      }
     ],
     "prompt_number": 26
    },
    {
     "cell_type": "code",
     "collapsed": false,
     "input": [
      "a"
     ],
     "language": "python",
     "metadata": {},
     "outputs": [
      {
       "metadata": {},
       "output_type": "pyout",
       "prompt_number": 29,
       "text": [
        "<HDF5 dataset \"squareROIsums\": shape (2, 49), type \"<u4\">"
       ]
      }
     ],
     "prompt_number": 29
    },
    {
     "cell_type": "code",
     "collapsed": false,
     "input": [
      "istype"
     ],
     "language": "python",
     "metadata": {},
     "outputs": [
      {
       "ename": "NameError",
       "evalue": "name 'istype' is not defined",
       "output_type": "pyerr",
       "traceback": [
        "\u001b[1;31m---------------------------------------------------------------------------\u001b[0m\n\u001b[1;31mNameError\u001b[0m                                 Traceback (most recent call last)",
        "\u001b[1;32m<ipython-input-1-a03e225a7689>\u001b[0m in \u001b[0;36m<module>\u001b[1;34m()\u001b[0m\n\u001b[1;32m----> 1\u001b[1;33m \u001b[0mistype\u001b[0m\u001b[1;33m\u001b[0m\u001b[0m\n\u001b[0m",
        "\u001b[1;31mNameError\u001b[0m: name 'istype' is not defined"
       ]
      }
     ],
     "prompt_number": 1
    },
    {
     "cell_type": "code",
     "collapsed": false,
     "input": [
      "True.type"
     ],
     "language": "python",
     "metadata": {},
     "outputs": [
      {
       "ename": "AttributeError",
       "evalue": "'bool' object has no attribute 'type'",
       "output_type": "pyerr",
       "traceback": [
        "\u001b[1;31m---------------------------------------------------------------------------\u001b[0m\n\u001b[1;31mAttributeError\u001b[0m                            Traceback (most recent call last)",
        "\u001b[1;32m<ipython-input-2-b8d173e00adb>\u001b[0m in \u001b[0;36m<module>\u001b[1;34m()\u001b[0m\n\u001b[1;32m----> 1\u001b[1;33m \u001b[0mTrue\u001b[0m\u001b[1;33m.\u001b[0m\u001b[0mtype\u001b[0m\u001b[1;33m\u001b[0m\u001b[0m\n\u001b[0m",
        "\u001b[1;31mAttributeError\u001b[0m: 'bool' object has no attribute 'type'"
       ]
      }
     ],
     "prompt_number": 2
    },
    {
     "cell_type": "code",
     "collapsed": false,
     "input": [
      "'' == False"
     ],
     "language": "python",
     "metadata": {},
     "outputs": [
      {
       "metadata": {},
       "output_type": "pyout",
       "prompt_number": 8,
       "text": [
        "False"
       ]
      }
     ],
     "prompt_number": 8
    },
    {
     "cell_type": "code",
     "collapsed": false,
     "input": [
      "type(True) == bool"
     ],
     "language": "python",
     "metadata": {},
     "outputs": [
      {
       "metadata": {},
       "output_type": "pyout",
       "prompt_number": 12,
       "text": [
        "True"
       ]
      }
     ],
     "prompt_number": 12
    },
    {
     "cell_type": "code",
     "collapsed": false,
     "input": [
      "type(False) == bool"
     ],
     "language": "python",
     "metadata": {},
     "outputs": [
      {
       "metadata": {},
       "output_type": "pyout",
       "prompt_number": 11,
       "text": [
        "True"
       ]
      }
     ],
     "prompt_number": 11
    },
    {
     "cell_type": "code",
     "collapsed": false,
     "input": [
      "numpy"
     ],
     "language": "python",
     "metadata": {},
     "outputs": [
      {
       "metadata": {},
       "output_type": "pyout",
       "prompt_number": 13,
       "text": [
        "<module 'numpy' from 'C:\\Users\\Saffmanlab\\AppData\\Local\\Enthought\\Canopy\\User\\lib\\site-packages\\numpy\\__init__.pyc'>"
       ]
      }
     ],
     "prompt_number": 13
    },
    {
     "cell_type": "code",
     "collapsed": false,
     "input": [
      "numpy.std(numpy.arange(0),keepdims=True)"
     ],
     "language": "python",
     "metadata": {},
     "outputs": [
      {
       "metadata": {},
       "output_type": "pyout",
       "prompt_number": 24,
       "text": [
        "array([ nan])"
       ]
      }
     ],
     "prompt_number": 24
    },
    {
     "cell_type": "code",
     "collapsed": false,
     "input": [
      "arange(2)"
     ],
     "language": "python",
     "metadata": {},
     "outputs": [
      {
       "metadata": {},
       "output_type": "pyout",
       "prompt_number": 22,
       "text": [
        "array([0, 1])"
       ]
      }
     ],
     "prompt_number": 22
    },
    {
     "cell_type": "code",
     "collapsed": false,
     "input": [
      "#!/usr/bin/env python\n",
      "import numpy as np\n",
      "import matplotlib.pyplot as plt\n",
      "\n",
      "# example data\n",
      "x = np.arange(0.1, 4, 0.5)\n",
      "y = np.exp(-x)\n",
      "\n",
      "# example variable error bar values\n",
      "yerr = 0.1 + 0.2*np.sqrt(x)\n",
      "xerr = 0.1 + yerr\n",
      "\n",
      "# First illustrate basic pyplot interface, using defaults where possible.\n",
      "plt.figure()\n",
      "plt.errorbar(x, y, xerr=0.2, yerr=0.4)\n",
      "plt.title(\"Simplest errorbars, 0.2 in x, 0.4 in y\")\n",
      "\n",
      "# Now switch to a more OO interface to exercise more features.\n",
      "fig, axs = plt.subplots(nrows=2, ncols=2, sharex=True)\n",
      "ax = axs[0,0]\n",
      "ax.errorbar(x, y, yerr=yerr, fmt='o')\n",
      "ax.set_title('Vert. symmetric')\n",
      "\n",
      "# With 4 subplots, reduce the number of axis ticks to avoid crowding.\n",
      "ax.locator_params(nbins=4)\n",
      "\n",
      "ax = axs[0,1]\n",
      "ax.errorbar(x, y, xerr=xerr, fmt='o')\n",
      "ax.set_title('Hor. symmetric')\n",
      "\n",
      "ax = axs[1,0]\n",
      "ax.errorbar(x, y, yerr=[yerr, 2*yerr], xerr=[xerr, 2*xerr], fmt='--o')\n",
      "ax.set_title('H, V asymmetric')\n",
      "\n",
      "ax = axs[1,1]\n",
      "ax.set_yscale('log')\n",
      "# Here we have to be careful to keep all y values positive:\n",
      "ylower = np.maximum(1e-2, y - yerr)\n",
      "yerr_lower = y - ylower\n",
      "\n",
      "ax.errorbar(x, y, yerr=[yerr_lower, 2*yerr], xerr=xerr,\n",
      "            fmt='o', ecolor='g', capthick=2)\n",
      "ax.set_title('Mixed sym., log y')\n",
      "\n",
      "fig.suptitle('Variable errorbars')\n",
      "\n",
      "plt.show()"
     ],
     "language": "python",
     "metadata": {},
     "outputs": [
      {
       "metadata": {},
       "output_type": "display_data",
       "png": "[encoded data removed]",
       "text": [
        "<matplotlib.figure.Figure at 0x8247128>"
       ]
      },
      {
       "metadata": {},
       "output_type": "display_data",
       "png": "[encoded data removed]",
       "text": [
        "<matplotlib.figure.Figure at 0x8250128>"
       ]
      }
     ],
     "prompt_number": 25
    },
    {
     "cell_type": "code",
     "collapsed": false,
     "input": [
      "mean = arange(10)\n",
      "sigma = ones(10)\n",
      "fig=figure()\n",
      "ax = fig.add_subplot(111)\n",
      "ax.errorbar(arange(10), mean,yerr=sigma)"
     ],
     "language": "python",
     "metadata": {},
     "outputs": [
      {
       "metadata": {},
       "output_type": "pyout",
       "prompt_number": 28,
       "text": [
        "<Container object of 3 artists>"
       ]
      },
      {
       "metadata": {},
       "output_type": "display_data",
       "png": "[encoded data removed]",
       "text": [
        "<matplotlib.figure.Figure at 0xa7f1828>"
       ]
      }
     ],
     "prompt_number": 28
    },
    {
     "cell_type": "code",
     "collapsed": false,
     "input": [
      "type(True) == bool"
     ],
     "language": "python",
     "metadata": {},
     "outputs": [
      {
       "metadata": {},
       "output_type": "pyout",
       "prompt_number": 29,
       "text": [
        "True"
       ]
      }
     ],
     "prompt_number": 29
    },
    {
     "cell_type": "code",
     "collapsed": false,
     "input": [
      "d2=numpy.array([numpy.random.random((2,49))])"
     ],
     "language": "python",
     "metadata": {},
     "outputs": [],
     "prompt_number": 43
    },
    {
     "cell_type": "code",
     "collapsed": false,
     "input": [
      "numpy.append(d,d2,axis=0)"
     ],
     "language": "python",
     "metadata": {},
     "outputs": [
      {
       "metadata": {},
       "output_type": "pyout",
       "prompt_number": 45,
       "text": [
        "array([[[  7.49892607e-01,   4.60531649e-01,   8.49759609e-01,\n",
        "           8.18576844e-01,   7.23908816e-01,   7.73183836e-01,\n",
        "           1.94041332e-01,   2.44543787e-01,   7.94170267e-01,\n",
        "           2.39686817e-01,   1.10865473e-01,   9.27926660e-01,\n",
        "           9.89426237e-01,   1.44336028e-01,   4.64983952e-01,\n",
        "           3.93740778e-01,   2.07158373e-01,   1.47713725e-02,\n",
        "           2.13870288e-01,   4.35240860e-01,   8.94972022e-01,\n",
        "           7.70246744e-01,   5.69372774e-01,   5.24624790e-01,\n",
        "           3.50889950e-01,   8.27852293e-01,   9.61924537e-01,\n",
        "           4.06710739e-02,   1.15961049e-01,   3.53742529e-01,\n",
        "           5.89018215e-01,   2.04943345e-01,   2.16808349e-01,\n",
        "           5.06253325e-01,   8.90491333e-01,   9.27374832e-01,\n",
        "           1.24108155e-01,   3.04416832e-01,   3.71540275e-02,\n",
        "           4.13288455e-02,   7.42037882e-01,   9.14385554e-01,\n",
        "           5.25102503e-01,   7.82275093e-01,   4.05561249e-01,\n",
        "           6.02640829e-01,   5.36266556e-01,   2.12418898e-01,\n",
        "           2.53814452e-01],\n",
        "        [  9.27154780e-05,   7.88789707e-01,   7.39178158e-01,\n",
        "           6.14052725e-01,   4.59118318e-01,   9.86279788e-01,\n",
        "           9.05022842e-01,   3.98502418e-01,   9.95718066e-01,\n",
        "           8.68021994e-01,   9.35600236e-01,   5.11010067e-01,\n",
        "           3.48181658e-01,   9.65185028e-01,   5.74149696e-01,\n",
        "           4.83196249e-01,   4.51870457e-01,   8.87013520e-01,\n",
        "           2.75142744e-01,   3.47614081e-01,   8.53233703e-01,\n",
        "           2.57109380e-01,   3.76984092e-01,   8.29342905e-03,\n",
        "           9.45673248e-01,   3.20742805e-01,   9.49309943e-02,\n",
        "           9.03653132e-01,   8.75235073e-01,   4.84125890e-01,\n",
        "           7.44732468e-01,   8.80410990e-01,   9.54304210e-01,\n",
        "           7.33186363e-01,   9.54542966e-02,   6.66533836e-01,\n",
        "           1.21533967e-01,   2.19382967e-01,   8.71340404e-01,\n",
        "           9.59065565e-01,   4.31397503e-01,   2.76060714e-01,\n",
        "           3.99941492e-01,   5.65312566e-01,   4.05736660e-01,\n",
        "           7.15249336e-01,   2.86730049e-01,   2.74781227e-01,\n",
        "           8.57501906e-01]],\n",
        "\n",
        "       [[  4.78132921e-01,   3.15847028e-01,   5.99969305e-01,\n",
        "           7.23715218e-01,   7.46035302e-01,   5.97741105e-01,\n",
        "           8.23469122e-01,   8.10599064e-01,   5.35425491e-01,\n",
        "           6.50818639e-01,   3.38305736e-01,   9.12709059e-01,\n",
        "           7.20967285e-01,   4.07073148e-01,   8.14411714e-01,\n",
        "           1.29868162e-01,   3.66102102e-01,   4.95809672e-01,\n",
        "           7.09717356e-01,   5.74980726e-01,   2.53122550e-01,\n",
        "           3.66644065e-02,   3.74749118e-01,   1.83119088e-01,\n",
        "           7.04341149e-01,   2.35212713e-02,   1.80853795e-01,\n",
        "           8.85110995e-01,   1.02144639e-01,   1.88420543e-01,\n",
        "           9.08966519e-01,   3.58769769e-01,   7.34144675e-01,\n",
        "           1.25178739e-01,   8.37379083e-01,   8.37077780e-01,\n",
        "           6.96034387e-01,   7.41246820e-01,   9.43078595e-01,\n",
        "           3.74166760e-01,   3.69750310e-01,   1.08810531e-01,\n",
        "           7.13228338e-01,   1.77863710e-01,   6.54879198e-01,\n",
        "           4.67358252e-01,   5.08645071e-01,   7.05782245e-01,\n",
        "           9.71503132e-01],\n",
        "        [  1.04944226e-01,   1.81860671e-01,   7.90506625e-01,\n",
        "           6.33263395e-01,   2.20711077e-02,   5.96538437e-01,\n",
        "           7.44033418e-01,   7.55611064e-01,   8.43972792e-01,\n",
        "           3.21565487e-01,   5.94232348e-01,   2.13830650e-01,\n",
        "           9.01998286e-01,   4.86252811e-01,   2.57822781e-02,\n",
        "           1.22356523e-01,   9.06617054e-01,   1.57849047e-01,\n",
        "           1.02710591e-01,   7.85411906e-01,   8.38523671e-02,\n",
        "           8.82912223e-01,   3.09833097e-01,   9.63347349e-02,\n",
        "           1.72078279e-02,   2.89389059e-01,   5.87604845e-01,\n",
        "           4.83384088e-01,   9.32295550e-02,   5.73656885e-01,\n",
        "           5.69258375e-01,   8.10337334e-01,   6.47010112e-01,\n",
        "           1.57187510e-01,   8.41063682e-01,   5.82485528e-01,\n",
        "           7.48380679e-01,   6.87841689e-01,   1.76632186e-01,\n",
        "           3.67912530e-01,   5.55771210e-01,   9.02383427e-01,\n",
        "           4.30698299e-01,   4.29108429e-01,   7.86762282e-02,\n",
        "           6.61666733e-01,   8.07593130e-02,   1.04551718e-01,\n",
        "           3.68264406e-01]]])"
       ]
      }
     ],
     "prompt_number": 45
    },
    {
     "cell_type": "code",
     "collapsed": false,
     "input": [
      "d.shape"
     ],
     "language": "python",
     "metadata": {},
     "outputs": [
      {
       "metadata": {},
       "output_type": "pyout",
       "prompt_number": 46,
       "text": [
        "(1L, 2L, 49L)"
       ]
      }
     ],
     "prompt_number": 46
    },
    {
     "cell_type": "code",
     "collapsed": false,
     "input": [
      "sigma=numpy.std(d,axis=0,keepdims=True)"
     ],
     "language": "python",
     "metadata": {},
     "outputs": [],
     "prompt_number": 41
    },
    {
     "cell_type": "code",
     "collapsed": false,
     "input": [
      "sigma"
     ],
     "language": "python",
     "metadata": {},
     "outputs": [
      {
       "metadata": {},
       "output_type": "pyout",
       "prompt_number": 42,
       "text": [
        "array([[[ 0.,  0.,  0.,  0.,  0.,  0.,  0.,  0.,  0.,  0.,  0.,  0.,  0.,\n",
        "          0.,  0.,  0.,  0.,  0.,  0.,  0.,  0.,  0.,  0.,  0.,  0.,  0.,\n",
        "          0.,  0.,  0.,  0.,  0.,  0.,  0.,  0.,  0.,  0.,  0.,  0.,  0.,\n",
        "          0.,  0.,  0.,  0.,  0.,  0.,  0.,  0.,  0.,  0.],\n",
        "        [ 0.,  0.,  0.,  0.,  0.,  0.,  0.,  0.,  0.,  0.,  0.,  0.,  0.,\n",
        "          0.,  0.,  0.,  0.,  0.,  0.,  0.,  0.,  0.,  0.,  0.,  0.,  0.,\n",
        "          0.,  0.,  0.,  0.,  0.,  0.,  0.,  0.,  0.,  0.,  0.,  0.,  0.,\n",
        "          0.,  0.,  0.,  0.,  0.,  0.,  0.,  0.,  0.,  0.]]])"
       ]
      }
     ],
     "prompt_number": 42
    },
    {
     "cell_type": "code",
     "collapsed": false,
     "input": [
      "sigma.shape"
     ],
     "language": "python",
     "metadata": {},
     "outputs": [
      {
       "metadata": {},
       "output_type": "pyout",
       "prompt_number": 47,
       "text": [
        "(1L, 2L, 49L)"
       ]
      }
     ],
     "prompt_number": 47
    },
    {
     "cell_type": "code",
     "collapsed": false,
     "input": [
      "import h5py"
     ],
     "language": "python",
     "metadata": {},
     "outputs": [],
     "prompt_number": 48
    },
    {
     "cell_type": "code",
     "collapsed": false,
     "input": [
      "f=h5py.File('f.hdf5','a')"
     ],
     "language": "python",
     "metadata": {},
     "outputs": [],
     "prompt_number": 50
    },
    {
     "cell_type": "code",
     "collapsed": false,
     "input": [
      "f.keys()"
     ],
     "language": "python",
     "metadata": {},
     "outputs": [
      {
       "metadata": {},
       "output_type": "pyout",
       "prompt_number": 51,
       "text": [
        "[u'a', u'b', u'c', u's1', u's2', u's3']"
       ]
      }
     ],
     "prompt_number": 51
    },
    {
     "cell_type": "code",
     "collapsed": false,
     "input": [
      "f['e']=False"
     ],
     "language": "python",
     "metadata": {},
     "outputs": [],
     "prompt_number": 55
    },
    {
     "cell_type": "code",
     "collapsed": false,
     "input": [
      "if f['e'].value:\n",
      "    print 'hi'"
     ],
     "language": "python",
     "metadata": {},
     "outputs": [],
     "prompt_number": 57
    },
    {
     "cell_type": "code",
     "collapsed": false,
     "input": [],
     "language": "python",
     "metadata": {},
     "outputs": []
    }
   ],
   "metadata": {}
  }
 ]
}