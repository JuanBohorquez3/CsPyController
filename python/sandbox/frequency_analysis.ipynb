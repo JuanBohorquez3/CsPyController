{
 "metadata": {
  "name": "",
  "signature": "sha256:cc9f759a617b955f08985d9c090b821d06a31c5d1f45afa1e7c986eb66f75a39"
 },
 "nbformat": 3,
 "nbformat_minor": 0,
 "worksheets": [
  {
   "cells": [
    {
     "cell_type": "code",
     "collapsed": false,
     "input": [
      "def freq(a):\n",
      "    f = zeros(26)\n",
      "    for i in a:\n",
      "        n = ord(i.lower())-97\n",
      "        if 0<=n<=25:\n",
      "            f[n]+=1\n",
      "    return f"
     ],
     "language": "python",
     "metadata": {},
     "outputs": [],
     "prompt_number": 123
    },
    {
     "cell_type": "code",
     "collapsed": false,
     "input": [
      "a='tpfccdlfdtte pcaccplircdt dklpcfrp?qeiq lhpqlipqeodf gpwafopwprti izxndkiqpkii krirrifcapnc dxkdciqcafmd vkfpcadf.'\n",
      "f = freq(a)"
     ],
     "language": "python",
     "metadata": {},
     "outputs": [],
     "prompt_number": 124
    },
    {
     "cell_type": "code",
     "collapsed": false,
     "input": [
      "plot(f)"
     ],
     "language": "python",
     "metadata": {},
     "outputs": [
      {
       "metadata": {},
       "output_type": "pyout",
       "prompt_number": 125,
       "text": [
        "[<matplotlib.lines.Line2D at 0xbd176d8>]"
       ]
      },
      {
       "metadata": {},
       "output_type": "display_data",
       "png": "[encoded data removed]",
       "text": [
        "<matplotlib.figure.Figure at 0xba56e48>"
       ]
      }
     ],
     "prompt_number": 125
    },
    {
     "cell_type": "code",
     "collapsed": false,
     "input": [
      "test = '''SECTIONSHOMESEARCHSKIP TO CONTENTSKIP TO NAVIGATION\n",
      "MAGAZINE|Masala Dosa to Die For\n",
      "SHARE\n",
      "Subscribe to Home Delivery\n",
      "mlichtman  98 SETTINGS\n",
      "\n",
      "House Holds Ex-I.R.S. Official in Contempt in Tea Party Case\n",
      "\n",
      "Putin Announces Pullback From Ukraine Border\n",
      "\n",
      "Masala Dosa to Die For\n",
      "Islamist Militants Kill Hundreds in Northeastern Nigeria\n",
      "\n",
      "NBC Extends Olympic TV Deal Through 2032\n",
      "\n",
      "Syrian Rebels Depart Homs District Under Deal\n",
      "\n",
      "Public Library Abandons Plan to Revamp 42nd Street Building\n",
      "Researchers Report Breakthrough in Creating Artificial Genetic Code\n",
      "\n",
      "An Open Garage, a Dead Exchange Student and a New Debate on Self-Defense\n",
      "Connecticut Students Show Gains in National Tests\n",
      "\n",
      "City Councilman Ruben Wills Is Arrested\n",
      "\n",
      "Yellen Won\u2019t Be Pinned Down on Plans\n",
      "\n",
      "Court Orders Thai Leader Removed From Office\n",
      "\n",
      "South Africans Vote as Zuma Seeks Second Term as President\n",
      "View Slideshow\n",
      "SCENE CITY\n",
      "Inside the Met Ball: Sculptures in Silk\n",
      "Bank of England to Stick With Low Rates Even as Recovery Builds\n",
      "GM Brings Back Top Spokesman to Help Allay Ignition Switch Woes\n",
      "Man Accused in Fla. Gold Theft Caught in Belize\n",
      "U.S. House Votes Ex-IRS Official Lois Lerner in Contempt of Congress\n",
      "Boston College Says It Will Return Interviews About Northern Ireland\n",
      "Play Video\n",
      "APP SMART\n",
      "You Are Now Here. Find How to Go There.\n",
      "Loading...\n",
      "\n",
      " 98 COMMENTS\n",
      "MAGAZINE\n",
      "\n",
      "Masala Dosa to Die For\n",
      "By ROLLO ROMIGMAY 7, 2014\n",
      "Photo\n",
      "\n",
      "P. Rajagopal, center, at home surrounded by his staff. Credit Mahesh Shantaram for The New York Times\n",
      "Continue reading the main storyShare This Page\n",
      "EMAIL\n",
      "FACEBOOK\n",
      "TWITTER\n",
      "SAVE\n",
      "MORE\n",
      "Continue reading the main story\n",
      "Continue reading the main story\n",
      "Saravana Bhavan doesn\u2019t look like a house of secrets. Its dining room at the corner of Lexington Avenue and 26th Street is clean and bright and often attracts a line out front. It doesn\u2019t advertise because it doesn\u2019t need to; the fact that it\u2019s one of the world\u2019s largest chains of vegetarian restaurants \u2014 33 in India, another 47 in a dozen other countries \u2014 is considered too obvious to its core clientele of Indian expatriates and tourists to be worth trumpeting. In a city overwhelmed with underwhelming north Indian food, Saravana Bhavan is the standard-bearer of the delicacies of the south, but it makes no effort to educate the uninitiated. If you don\u2019t know what a dosa is or how to eat it, you\u2019re on your own.\n",
      "\n",
      "The man behind the chain is an elusive 66-year-old named P. Rajagopal. Among his peers in the restaurant business in Chennai, the south Indian city where Saravana Bhavan is headquartered, Rajagopal is a legend. \u201cHe brought prestige to the vegetarian business,\u201d said a restaurateur named Manoharan, who runs a competing chain called Murugan Idli. \u201cHe made a revolution.\u201d\n",
      "\n",
      "Photo\n",
      "\n",
      "Fast food at Saravana Bhavan on Lexington Avenue in New York. Credit Andrew Hetherington for The New York Times\n",
      "Born into a low caste in a remote province, he came to rule a field that was once the sole domain of Brahmins, cleverly updating their traditional fare in a setting that was both respectable and unpretentious, thereby catering to India\u2019s middle class at just the moment it emerged. Today he employs more than 8,000 people in Chennai alone. His workers enjoy benefits fantastic enough for Silicon Valley (pensions, TVs, education), inspiring among them fierce loyalty to Rajagopal. Every day thousands of pilgrims come to pray at the temples he built in the village of his birth, and a hundred thousand come to eat in his restaurants.\n",
      "\n",
      "His business model is so seemingly foolproof that the company has acquired an air of invincibility, even as its founder became sullied with scandal. As Saravana Bhavan went global, Rajagopal was charged with murder, found guilty and sentenced to life in prison. Yet he served a total of only 11 months, and today he\u2019s free to continue his expansion \u2014 next stop Hong Kong, followed by Sydney, Australia. And then, if his health holds out, building his first luxury hotel.\n",
      "\n",
      "Saravana Bhavan specializes in the holy trinity of south Indian snacks known as tiffin: dosa, idli and vada. All are made from ground rice and lentils, with remarkably different results. Dosas are crispy golden crepes that are most deliciously served with a masala of potato and onion; vadas are deep-fried savory doughnuts; and idlis, the south\u2019s staple food, are pure-white saucer-shaped steamed cakes. At most branches of Saravana Bhavan in Chennai, you can also find for sale a little book titled, \u201cI Set My Heart on Victory.\u201d First published in 1997, the book is Rajagopal\u2019s memoir and manifesto, a curious blend of mythmaking and self-effacement.\n",
      "\n",
      "Photo\n",
      "\n",
      "Vadas, deep fried crispy lentil doughnuts, at Saravana Bhavan on Lexington Avenue in New York. Credit Andrew Hetherington for The New York Times\n",
      "His story begins in 1947, 10 days before India\u2019s independence from the British, when he was born in the vast brushland in the southern state Tamil Nadu. His village, Punnaiadi, was so inconsequential that it didn\u2019t merit a bus stop; his home was a shack with mud-and-cow-dung floors. Rajagopal writes that he quit school after seventh grade, left home alone and took a job wiping tables at a cheap restaurant in a distant resort town, where he showered in a waterfall and slept on the kitchen floor. But he was proud of his work, especially after the restaurant\u2019s tea master inducted him into the mysteries of making a perfect chai.\n",
      "\n",
      "Continue reading the main story\n",
      "When he was a teenager, he moved to Chennai, then known as Madras, and in 1968 opened the first in a series of tiny groceries on the outskirts of the city. One day in 1979, at his grocery in a neighborhood called KK Nagar, a salesman made a casual remark: He\u2019d have to go all the way to T Nagar for lunch because KK Nagar didn\u2019t have any restaurants.\n",
      "\n",
      "A century ago, there were virtually no restaurants in all of Chennai. \u201cIt\u2019s a country that was very conservative about eating out,\u201d said Krishnendu Ray, a food-studies professor at N.Y.U. When Rajagopal was born, the restaurant scene consisted of little more than Brahmin hotels: modest affairs catering to the traveling upper caste, whose dietary rules dictated that they couldn\u2019t eat food cooked by any caste but their own. As a member of the Nadar caste, Rajagopal wouldn\u2019t have been allowed to eat in most Brahmin hotels, let alone run one. But by the time he came of age, entrepreneurs from other castes had begun to meet Chennai\u2019s increasing appetite for dining out.\n",
      "\n",
      "There was little to suggest that Rajagopal was ready to join them. When he opened his debut restaurant in KK Nagar in 1981, his struggling shops had left him deep in debt, and he knew little about food service beyond selling groceries. He made the leap, he told me, only after an astrologer recommended that he try a line of work that involved fire. A business adviser insisted that he should use cheap ingredients and pay his staff as little as possible; food workers are vagabonds, he said, and they\u2019ll take what they can get. \u201cI did not like his argument at all,\u201d Rajagopal writes in his memoir. He fired the adviser, started using coconut oil and top-quality vegetables and gave his workers surprisingly high wages. The business lost 10,000 rupees a month \u2014 a big deficit for a restaurant where most items on the menu sold for a rupee apiece.\n",
      "\n",
      "But word spread that his food was tasty and cheap, and soon Rajagopal was turning a profit and opening new branches. He expanded his workers\u2019 benefits, all of them unprecedented in Indian restaurants: free health care, housing stipends, a marriage fund for their daughters. Saravana Bhavan workers started calling him Annachi, a Tamil term of respect that means \u201celder brother.\u201d\n",
      "\n",
      "Photo\n",
      "\n",
      "A Saravana Bhavan restaurant in Chennai, India, on a festival night. Credit Mahesh Shantaram for The New York Times\n",
      "By the \u201890s, a Saravana Bhavan could be found in neighborhoods throughout Chennai. Locals sometimes refer to the brand as their version of McDonald\u2019s: well lit, ubiquitous and uncannily consistent. Unlike McDonald\u2019s, the restaurants make everything from scratch. One afternoon, a trio of bright-eyed assistants from the company\u2019s R & D department gave me a tour of the branch in Mylapore, a Chennai neighborhood. I was surprised to find that there were no freezers, just a single walk-in cooler for vegetables that had been bought at market the day before. Even the rice flour for the dosas was ground on the premises.\n",
      "\n",
      "When the tour was over, the assistants talked to me about Rajagopal. \u201cHe is the same as the father of a family,\u201d one said. \u201cAny problem I have, he addresses it.\u201d The company pays for employees to visit Rajagopal\u2019s home village for a few days each year, he told me, driving them down in a company bus. \u201cWhen I go there, I can witness all the love and affection the village people have for Annachi.\u201d\n",
      "\n",
      "I asked if the company had cut back on its package of benefits as it has grown. \u201cThey\u2019ve only been increasing,\u201d a second assistant said. The company provides them with magazine subscriptions, a cellphone and a motorbike, he said, and covers the cost of fuel. (The only benefit it discontinued was a haircut allowance.)\n",
      "\n",
      "\u201cAnd we have mechanics so that we don\u2019t have to go outside to fix our vehicles,\u201d the third told me.\n",
      "\n",
      "\u201cMy friend used to joke with me, \u2018The only thing you can do with your salary is put it in the bank and save it,\u2019 \u201d the second assistant said. \u201cThey take care of everything.\u201d\n",
      "\n",
      "Continue reading the main story\n",
      "In 2000, Saravana Bhavan branched out for the first time beyond India, opening a franchise in Dubai, where Indian expats vastly outnumber native-born Emiratis. According to Rajagopal\u2019s elder son, Shiva Kumaar, the opening-day crowd was like \u201cfor a newly released movie.\u201d They\u2019d eventually expand to Paris, Frankfurt, London, Dallas and Doha, Qatar. The strategy is simple: open one restaurant in every city with a large expat Indian population. (One exception is Manhattan, which has two.) Prey on homesickness by importing skilled chefs to ensure that the food tastes just the way it does in Chennai. Don\u2019t bother trying to pursue non-Indian customers.\n",
      "\n",
      "In 2002, the year that he opened franchises in Singapore and Sunnyvale, Calif., Rajagopal was charged with murdering the husband of a woman he wanted to marry. In 2003, his restaurant expanded to Canada, Oman and Malaysia, and he went to jail for the first time. In 2004, a local Chennai court sentenced him to 10 years in prison. By the end of that year, the empire had opened 29 branches worldwide.\n",
      "\n",
      "Eight months into his prison term, the Supreme Court suspended Rajagopal\u2019s sentence on medical grounds while awaiting appeal, citing his diabetes. In 2009, the Madras High Court not only upheld the verdict but also upgraded the conviction from culpable homicide to murder and enhanced his sentence to life in prison. After another three-month stint, he was out on bail pending a Supreme Court hearing, which no one expects to happen anytime soon. The courts won\u2019t give him back his passport, but otherwise he\u2019s free to go about his life. All but one of Saravana Bhavan\u2019s 47 foreign franchises have opened in the 12 years since the murder.\n",
      "\n",
      "\u201cIt\u2019s amazing how he managed it,\u201d said Sriram V., a local historian. \u201cI mean, our legal system is not that bad.\u201d\n",
      "\n",
      "Chennai\u2019s tabloids published every lurid detail of the murder allegations, but the restaurant just kept growing. \u201cOthers in that position would have totally collapsed,\u201d said Manoharan, of the competing chain Murugan Idli. \u201cPeople thought he was finished. But there was no impact.\u201d\n",
      "\n",
      "Continue reading the main story\n",
      "\u2018He takes boys from the street, from the villages, and he teaches them. He picks them up and molds them.\u2019\n",
      "\n",
      "It helped that Rajagopal has little interest in personal fame; he promotes the restaurant\u2019s brand, not his own, which makes it easier for customers to compartmentalize. As one Saravana Bhavan loyalist told me: \u201cSome of my friends used to say, How can you go and eat in his restaurant? You\u2019re actually fattening the wallet of a murderer. And I used to tell them, Look, I don\u2019t know with whom I do business in my day-to-day activity, whether he\u2019s a drunk or beats his wife. I have no idea, but I do business. So as long as he\u2019s giving me good-quality food, I go there.\u201d\n",
      "\n",
      "Saravana Bhavan employees have been especially faithful. M. Mahadevan, a consultant who has helped with the chain\u2019s international expansion, told me a story to illustrate their devotion. \u201cI was at the Saravana Bhavan down the road, drinking coffee with some friends,\u201d Mahadevan said. \u201cThe old man\u201d \u2014 that\u2019s what Mahadevan calls Rajagopal \u2014 \u201cwas in prison at that time. These big hulky guys came in, eight of them \u2014 they were local rowdies. They wanted to eat without paying. One of them was bullying the waiter, saying: \u2018Hey, mister, how\u2019s your boss? Don\u2019t act funny, I know he\u2019s inside.\u2019 There was a boy pouring water, and he told them: \u2018You\u2019re talking about my boss. You say anything against him, and I\u2019ll put this jug of water into your mouth. Not on you \u2014 into your mouth.\u2019 I was astonished. The boy was three-foot-nothing. And immediately all the waiters came and stood next to him.\n",
      "\n",
      "\u201cFor him, the old man was a god. Period. He\u2019s got that kind of loyalty. He takes boys from the street, from the villages, and he teaches them. He picks them up and molds them.\u201d\n",
      "\n",
      "Continue reading the main story\n",
      "One gloomy Wednesday evening in August, I went to meet Rajagopal at Saravana Bhavan\u2019s headquarters, passing several of his restaurants as I inched my way through the city\u2019s eternal gridlock. Mahadevan met me in the dining room and escorted me to the boss\u2019s office, introducing me on the way to Rajagopal\u2019s 39-year-old son, Saravanan, who is gradually taking over the company\u2019s domestic operations. (His elder brother, Shiva Kumaar, runs the international business.) For a while the three of us sat and stared at the walls: Every surface was covered with blown-up images of Rajagopal\u2019s family and favorite Hindu deities. Then suddenly Mahadevan and Saravanan rose. The office door swung open, and Rajagopal entered.\n",
      "\n",
      "He was grayer and jowlier than he was in the photographs I\u2019d seen. He regarded the room with mild amusement, bowed politely and walked behind his desk, where he faced a portrait of a popular guru and folded his hands for a moment of prayer. With him was Ganapathi Iyer, his oldest friend, and a personal assistant and a valet. We all sat but the valet, who stood ready with a glass of water the instant his boss coughed. Nobody relaxed.\n",
      "\n",
      "I asked Rajagopal about his origins and business philosophy. Each question was answered with a cascade of replies: Rajagopal would answer in Tamil, then Saravanan or Mahadevan or Iyer or all three would jump in to elaborate or clarify in English, a language Rajagopal doesn\u2019t understand. It was a dynamic that sometimes clearly frustrated the boss.\n",
      "\n",
      "When I asked about the murder, everyone started talking at once, until Rajagopal cut impatiently through the chatter. \u201cI\u2019m not responsible for anyone\u2019s death,\u201d he said. \u201cI used to pray to my god, why was I punished for someone else\u2019s mistake?\u201d There was a reason, he decided: \u201cGod wanted to give an opportunity for my son Saravanan to learn business.\u201d Saravanan smiled faintly.\n",
      "\n",
      "Photo\n",
      "\n",
      "P. Rajagopal, founder of Saravana Bhavan restaurants, with his assistant, Suresh. Credit Mahesh Shantaram for The New York Times\n",
      "By the time we finished talking, it was nearly 11, and Rajagopal\u2019s workday still wasn\u2019t over. In the foyer outside his office, eight employees were standing in line waiting to speak with him. An older man with a handlebar mustache and a proud bearing told me that he was a night watchman and was there to ask Rajagopal for a promotion. Another said he hoped to be transferred to a different branch. A third said he wanted to inform Rajagopal of his coming wedding.\n",
      "\n",
      "I went back into Rajagopal\u2019s office. He sat at his desk, studying a spreadsheet with the aid of a magnifying glass. He consulted his assistant and then called in the first man. Rajagopal ignored him and barked into a walkie-talkie, asking the voice on the other end what had brought in this man who stood before him.\n",
      "\n",
      "From the walkie-talkie came a surprising answer: \u201cThey keep fighting the whole night.\u201d That was not what he told me outside. The man hung his head. Rajagopal fired him on the spot.\n",
      "\n",
      "The next man came in, and another voice on the walkie-talkie told Rajagopal that he\u2019d been fiddling with his cellphone in the dining room. It turned out that nearly all the employees in line had lied to me; they were there to be disciplined.\n",
      "\n",
      "\u201cYou\u2019ve been with us for two and a half years \u2014 don\u2019t you know that you\u2019re not supposed to use your phone during work hours?\u201d Rajagopal said.\n",
      "\n",
      "\u201cI did it by mistake,\u201d the man mumbled.\n",
      "\n",
      "\u201cAnswer my question!\u201d Rajagopal snapped.\n",
      "\n",
      "\u201cI forgot,\u201d the man said.\n",
      "\n",
      "\u201cHow can you forget? When you\u2019re in service, you should serve.\u201d\n",
      "\n",
      "He decided to give the man another chance. Next up was the watchman.\n",
      "\n",
      "\u201cI heard you got drunk and abused everyone and used foul words,\u201d Rajagopal said. \u201cAnd you should shave off your mustache. These are not good habits.\u201d\n",
      "\n",
      "\u201cI\u2019m sorry, Annachi,\u201d he said. \u201cForgive me.\u201d\n",
      "\n",
      "\u201cHow can I?\u201d Rajagopal asked. \u201cThere\u2019s an age to forgive. At your age, it doesn\u2019t make sense.\u201d The watchman stared at the floor. \u201cAre you listening?\u201d Rajagopal asked.\n",
      "\n",
      "Again he decided to have mercy; the man would keep his job as long as he laid off the booze. He whispered his thanks and left without ever looking up.\n",
      "\n",
      "The night\u2019s work was over; Rajagopal sat back in his chair. \u201cWhat to do?\u201d he said. \u201cEveryone makes mistakes.\u201d\n",
      "\n",
      "Continue reading the main story\n",
      "At the conclusion of Rajagopal\u2019s appeal trial in 2009, the Madras High Court issued a 30,000-word document that served as its definitive statement on the case. \u201cBy and large, a witness cannot be expected to possess a photographic memory to recall the details of the incident and the actual words uttered,\u201d the court warns. \u201cIt is not as if a videotape is replayed on the mental screen.\u201d But this is the version of events that the court found most credible.\n",
      "\n",
      "Photo\n",
      "\n",
      "Rajagopal, in the van, after surrendering in 2009. Credit Outlook Magazine\n",
      "According to the document, Rajagopal \u2014 possibly on the advice of his astrologer \u2014 became determined to marry Jeevajothi, the young daughter of one of his assistant managers. That would have made her Rajagopal\u2019s third simultaneous wife: In 1972, he married the mother of his sons, and in 1994, he married the wife of one of his employees.\n",
      "\n",
      "Jeevajothi was not interested in Rajagopal. She was in love with her brother\u2019s math tutor, Santhakumar. In 1999, Jeevajothi and Santhakumar eloped, but Rajagopal\u2019s fixation persisted; he gave her jewelry, dresses and several installments of cash to help her open a travel agency. While Jeevajothi accepted the gifts, she continued to resist Rajagopal\u2019s advances. On Sept. 28, 2001, Rajagopal came to Jeevajothi and Santhakumar\u2019s house at midnight and warned Santhakumar that he had two days to sever their relationship. He told Jeevajothi that his second wife, too, had at first rejected him, but now she was living \u201ca queen life.\u201d\n",
      "\n",
      "The young couple tried to flee to a place where they hoped Rajagopal wouldn\u2019t find them, but five of Rajagopal\u2019s employees, led by a restaurant manager named Daniel, intercepted them. The henchmen forced the couple into an Ambassador car and drove them to a Saravana Bhavan warehouse in KK Nagar, where Rajagopal appeared. According to the court\u2019s narrative, Rajagopal hiked up his dhoti and gave Santhakumar a beating. Jeevajothi fell at Rajagopal\u2019s feet and begged him to stop. Rajagopal told his men to take Santhakumar to the next room and continue beating him. Jeevajothi sat in the corner and wept.\n",
      "\n",
      "The next day, Daniel called Jeevajothi to apologize and suggested that she go to the police.\n",
      "\n",
      "Though Rajagopal\u2019s men held Jeevajothi and Santhakumar under a kind of house arrest, they escaped on Oct. 12 under the pretext of going out to attend a \u201cfelicitation function\u201d for Rajagopal. Instead, they went to the city police commissioner\u2019s office to file a complaint. Six days later, Rajagopal\u2019s employees kidnapped the couple again and forcibly separated them. They pushed Jeevajothi into a Mercedes with Rajagopal, who brandished a photocopy of her police complaint and asked her mockingly about its contents.\n",
      "\n",
      "Continue reading the main story\n",
      "\u2018It\u2019s amazing how he managed it. I mean, our legal system is not that bad.\u2019\n",
      "\n",
      "Continue reading the main story\n",
      "RECENT COMMENTS\n",
      "\n",
      "Beth Johnson 4 minutes ago\n",
      "Do I understand that Rajagopal currently has two wives and tried to obtain a third? Surely this is not permitted in the Hindu religion,...\n",
      "slr 4 minutes ago\n",
      "There is another outpost of this chain on the UWS. I used to go but no more. I can't see rewarding a murderer with my business. No, I don't...\n",
      "N.G. Krishnan 5 minutes ago\n",
      "Saravana Bhavan\u2019s Rajagopal \u2018takes boys from the street, from the villages, and he teaches them. He picks them up and molds them.\u2019This is...\n",
      "SEE ALL COMMENTS  WRITE A COMMENT\n",
      "Jeevajothi didn\u2019t know what became of Santhakumar. He reached her by phone two days later, telling her that Rajagopal had paid Daniel 500,000 rupees ($10,000) to kill him, but Daniel had instead let him escape and advised him to hide out in Mumbai. She urged Santhakumar to come home to her; together, Jeevajothi said, they\u2019d plead with Rajagopal to leave them alone. \u201cIt is obvious,\u201d the court wrote, \u201cthat their overwhelming love for each other persuaded them to take the risk.\u201d\n",
      "\n",
      "Later that night, the couple, joined by Jeevajothi\u2019s parents and brother, went to Saravana Bhavan headquarters to meet Rajagopal. He told them to wait in a nearby room. Then he interrogated Daniel about what happened to Santhakumar. Daniel lied and said that he had tied him up on a railway track, where a train ran him over, and then he burned his clothes. With a dramatic flourish, Rajagopal then called Santhakumar into the room. Who\u2019s this then, he asked Daniel, Santhakumar\u2019s ghost? Daniel started beating Santhakumar there in the office, enraged that he\u2019d revealed his betrayal of Rajagopal. Jeevajothi and her family tried to intervene. Eventually Rajagopal and his henchmen put them all into a van, which, according to the court, took them to a specialist in a faraway village \u201cfor removal of witchcraft.\u201d\n",
      "\n",
      "Continue reading the main story\n",
      "Two days later, Rajagopal\u2019s men forced Santhakumar into a car with Daniel, and they drove north. On Oct. 31, high up in the Western Ghats mountain range near a resort town called Kodaikanal, forest officials discovered a body. An assistant surgeon at the local hospital concluded in his post-mortem that the cause of Santhakumar\u2019s death was \u201casphyxia due to throttling.\u201d The police later found the alleged murder weapon \u2014 a sarong \u2014 under the seat of Daniel\u2019s car.\n",
      "\n",
      "Daniel was convicted of murder along with Rajagopal and has also been released on bail, but I was never able to track him down. Jeevajothi, too, has made herself impossible to find.\n",
      "\n",
      "Three days after I met Rajagopal in Chennai, I took a short flight to visit the village where he grew up. Rajagopal\u2019s driver picked me up, and he beamed when I asked him what the boss was like. \u201cHe\u2019s like a living god to us,\u201d he said. \u201cHe understands every problem, and he resolves it.\u201d\n",
      "\n",
      "The village\u2019s name has been upgraded from Punnaiadi to Punnai Nagar, because of Rajagopal\u2019s development of the area, he told me. The bus even stops there now. In terms of population, Punnai Nagar is no bigger than it was when Rajagopal was born. Yet the village has been transformed. In the middle of the red-dirt moonscape, Rajagopal has erected a surreal monument to his success, in the form of a four-acre Saravana Bhavan campus. The centerpiece is a million-dollar Hindu temple, which is flanked by a Saravana Bhavan restaurant that employs 140 people \u2014 all for a village that has fewer than 90 homes.\n",
      "\n",
      "Photo\n",
      "\n",
      "A portrait of P. Rajagopal hangs in the living room of his house in Punnai Nagar. Credit Mahesh Shantaram for The New York Times\n",
      "A worker took me on a tour of Rajagopal\u2019s house, which he built in 1994 on the spot where his childhood hut once stood, and where he has increasingly been spending his time. It\u2019s a huge beige block, nearly all of it given over to dormitory rooms for his staff. The only decorations are pictures of gods. The worker led me to a black couch on the second floor, and a few minutes later, Rajagopal emerged from a back room and sat on a chair opposite me. Ganapathi Iyer was there again, as were his assistant and his valet, who pricked Rajagopal\u2019s finger for a blood-sugar test. But this time Rajagopal was less willing to let them control the conversation.\n",
      "\n",
      "I asked him about a rumor that while in prison he had managed to improve the food served by the prison canteen. \u201cYou can\u2019t change anything there,\u201d he said. \u201cI had to spend one lakh [100,000 rupees] every month in order to get home food delivered to me.\u201d\n",
      "\n",
      "\u201cDon\u2019t tell him about this,\u201d Iyer said to Rajagopal. \u201cDo we have to talk about the corruption?\u201d\n",
      "\n",
      "\u201cThey should know how corrupt we are,\u201d Rajagopal said. \u201cWe can\u2019t just keep bragging that we are good all the time. The truth has to be told.\u201d\n",
      "\n",
      "I asked him what he likes least about his work.\n",
      "\n",
      "\u201cI don\u2019t like employees drinking and lying,\u201d he said. \u201cIf you ask me, I don\u2019t like that I went after Jeevajothi.\u201d\n",
      "\n",
      "\u201cSir, not that,\u201d Iyer said, \u201cjust office work, office work.\u201d\n",
      "\n",
      "\u201cThere\u2019s nothing I dislike about the work,\u201d Rajagopal said.\n",
      "\n",
      "Photo\n",
      "Employees at Saravana Bhavan in New York take a coffee break. From left, Jhanga Durai, Paramisvam, Mallan and Subramani. Credit Andrew Hetherington for The New York Times\n",
      "After a while Rajagopal said he was getting tired. As we got up to leave, he talked about how important it was for successful villagers like him to support the places they came from. \u201cDeveloping villages was Gandhi\u2019s dream,\u201d he said. \u201cI believe in Gandhi.\u201d\n",
      "\n",
      "I asked what he admired most about Gandhi, and he laughed. \u201cI like that he had a girl on each arm.\u201d He turned to my translator. \u201cTell him that having girls around keeps a guy young forever.\u201d\n",
      "\n",
      "\u201cTell him these last comments were just a joke,\u201d his assistant said.\n",
      "\n",
      "Shortly before I left Chennai, I met again with Rajagopal\u2019s son Saravanan. This time it was just the two of us, and we talked for hours in the foyer outside his father\u2019s office. Saravanan is a large but gentle man, his husky voice rarely much louder than a whisper.\n",
      "\n",
      "Continue reading the main storyContinue reading the main story\n",
      "Advertisement\n",
      "\n",
      " \n",
      "He described his father as a \u201ckeep-guessing character.\u201d \u201cYou don\u2019t know what he will come up wanting,\u201d he said. \u201cA phone call comes, and you have to be dead sure what he\u2019s asking and what you\u2019re answering. That fear is there for everybody.\u201d Is he an intimidating boss to work for? I asked. \u201cWhen he wants things done a certain way, he\u2019s quite intimidating,\u201d Saravanan said. \u201cIt has to be done at any cost.\u201d\n",
      "\n",
      "Continue reading the main story\n",
      "\u2018It is obvious that their overwhelming love for each other persuaded them to take the risk.\u2019\n",
      "\n",
      "If he\u2019d had his choice, he said, he would have become an engineer. \u201cMy dad said, No, we come from a business community; you have to study commerce.\u201d So he did two years of commerce, and then Rajagopal told him he had to study hotel management. From there his father assigned him to a seven-year rotation through the company\u2019s departments: purchasing vegetables, working the graveyard shift in the kitchen, manning a Saravana sweets shop, making ice cream, working in maintenance and accounting and human resources.\n",
      "\n",
      "It\u2019s clear that Saravanan never gave up his dream of becoming an engineer \u2014 he just transferred his ideas to his father\u2019s business. Rajagopal\u2019s exacting standards were dictated by the instinct of a self-made man. Saravanan wants to translate that instinct into a science, and when he talks about the company that\u2019s becoming his, his conversation is peppered with terms that would be foreign to his father, like \u201cmanagement information system\u201d and \u201ctotal dissolved solids.\u201d In a biochemical lab Saravanan set up on the top floor of the company\u2019s ice-cream factory, he has been trying to determine the exact chemical composition of Saravana\u2019s dishes in their ideal form, and the lab uses this information to test daily samples from each of the company\u2019s Chennai branches to ensure that all are supplying the same quality.\n",
      "\n",
      "Photo\n",
      "\n",
      "A Saravana Bhavan in Chennai, India. Credit Mahesh Shantaram for The New York Times\n",
      "CONTINUE READING THE MAIN STORY\n",
      "98\n",
      "COMMENTS\n",
      "As the company continues to grow, manpower is a worry. Saravanan said he is committed to making everything from fresh ingredients \u2014 in fact, he wants to take it further, and he has been experimenting with replacing the artificial stabilizer in Saravana\u2019s otherwise all-natural house-brand ice cream with flaxseed. But such cooking requires vast kitchen staffs, and as better education reaches more and more Indians, he said, fewer workers are interested in that kind of labor.\n",
      "\n",
      "One solution Saravanan likes is automation. Another in-house lab is developing prototypes for everything from coffee machines to vada fryers, according to Saravana Bhavan\u2019s very particular specifications. He recognizes, though, that the mass utility of such machines is still years away; in the meantime, personnel remains the company\u2019s most treasured asset, so he has also systematized the hiring process. An in-house medical team records each applicant\u2019s vital statistics using software Saravanan developed. A coffee man, he explained, should be small and quiet, while a dosa chef needs to be at least 5-foot-6.\n",
      "\n",
      "But he was quick to note the limits of such algorithms. Just that morning, he said, the medical team alerted him to their concerns over a particular applicant: They noticed that he had cigarette burns on his forearm, apparently self-inflicted. Saravanan decided to call the man and ask him what happened. \u201cHe told me, \u2018I had a love affair, it failed, she got married, I got agitated,\u2019 \u201d Saravanan said. \u201cHe made a mistake that was a small part of his life.\u201d The company is strict, but not unforgiving. He told the man he would hire him. And if the job worked out, Saravana Bhavan would pay to erase his scars.\n",
      "\n",
      "Rollo Romig is a freelance writer in Turkey. He last wrote for the magazine about the plight of celebrity elephants in India.\n",
      "\n",
      "Editor: Samantha Henig\n",
      "\n",
      "A version of this article appears in print on May 11, 2014, on page MM32 of the Sunday Magazine with the headline: Masala Dosa To Die For. Order Reprints|Today's Paper|Subscribe\n",
      "\n",
      "MOST EMAILED\n",
      "\n",
      "\n",
      "U.S. Climate Has Already Changed, Study Finds, Citing Heat and Floods\n",
      "\n",
      "Masala Dosa to Die For\n",
      "\n",
      "Where to Find Serious Coffee in New York? Everywhere\n",
      "\n",
      "Op-Ed | Mark Bittman: Leave \u2018Organic\u2019 Out of It\n",
      "\n",
      "Stanford to Purge $18 Billion Endowment of Coal Stock\n",
      "\n",
      "A Singing Nun for a Reality TV World\n",
      "\n",
      "Draft: The Perfect Essay\n",
      "\n",
      "Well: A New Women's Issue: Statins\n",
      "\n",
      "Well: Early Fitness Can Improve the Middle-Age Brain\n",
      "\n",
      "Maureen Dowd: Burning the Beret\n",
      "View Complete List \u00bbMore on nytimes.com\n",
      "Advertisement\n",
      "\n",
      " \n",
      "SITE INDEX\n",
      "\n",
      "NEWS\n",
      "\n",
      "World\n",
      "U.S.\n",
      "Politics\n",
      "New York\n",
      "Business\n",
      "Technology\n",
      "Science\n",
      "Health\n",
      "Sports\n",
      "Education\n",
      "Obituaries\n",
      "Today's Paper\n",
      "Corrections\n",
      "OPINION\n",
      "\n",
      "Today's Opinion\n",
      "Op-Ed Columnists\n",
      "Editorials\n",
      "Contributing Writers\n",
      "Op-Ed Contributors\n",
      "Opinionator\n",
      "Letters\n",
      "Sunday Review\n",
      "Taking Note\n",
      "Room for Debate\n",
      "Public Editor\n",
      "Video: Opinion\n",
      "ARTS\n",
      "\n",
      "Today's Arts\n",
      "Art & Design\n",
      "ArtsBeat\n",
      "Books\n",
      "Dance\n",
      "Movies\n",
      "Music\n",
      "N.Y.C. Events Guide\n",
      "Television\n",
      "Theater\n",
      "Video Games\n",
      "Video: Arts\n",
      "LIVING\n",
      "\n",
      "Automobiles\n",
      "Crosswords\n",
      "Dining & Wine\n",
      "Education\n",
      "Fashion & Style\n",
      "Health\n",
      "Home & Garden\n",
      "Jobs\n",
      "Magazine\n",
      "N.Y.C. Events Guide\n",
      "Real Estate\n",
      "T Magazine\n",
      "Travel\n",
      "Weddings & Celebrations\n",
      "LISTINGS & MORE\n",
      "\n",
      "Classifieds\n",
      "Tools & Services\n",
      "Times Topics\n",
      "Public Editor\n",
      "N.Y.C. Events Guide\n",
      "TV Listings\n",
      "Blogs\n",
      "Cartoons\n",
      "Multimedia\n",
      "Photography\n",
      "Video\n",
      "NYT Store\n",
      "Times Journeys\n",
      "Subscribe\n",
      "Manage My Account\n",
      "SUBSCRIBE\n",
      "\n",
      " Times Premier\n",
      " Home Delivery\n",
      " Digital Subscriptions\n",
      " NYT Now\n",
      "Email Newsletters\n",
      "Alerts\n",
      "Crosswords\n",
      "Gift Subscriptions\n",
      "Corporate Subscriptions\n",
      "Education Rate\n",
      "Mobile Applications\n",
      "Replica Edition\n",
      "International New York Times\n",
      "The New York Times Company Contact UsWork With UsAdvertiseYour Ad ChoicesPrivacyTerms of ServiceTerms of Sale\n",
      "Site MapHelpSite FeedbackSubscriptions Go to the previous story Go to the next story\n",
      "'''\n",
      "\n",
      "g = freq(test.lower())"
     ],
     "language": "python",
     "metadata": {},
     "outputs": [],
     "prompt_number": 126
    },
    {
     "cell_type": "code",
     "collapsed": false,
     "input": [
      "plot(g)"
     ],
     "language": "python",
     "metadata": {},
     "outputs": [
      {
       "metadata": {},
       "output_type": "pyout",
       "prompt_number": 127,
       "text": [
        "[<matplotlib.lines.Line2D at 0xbdd7978>]"
       ]
      },
      {
       "metadata": {},
       "output_type": "display_data",
       "png": "[encoded data removed]",
       "text": [
        "<matplotlib.figure.Figure at 0xbd04b38>"
       ]
      }
     ],
     "prompt_number": 127
    },
    {
     "cell_type": "code",
     "collapsed": false,
     "input": [
      "i=[chr(i+97) for i in argsort(g)]\n",
      "print i"
     ],
     "language": "python",
     "metadata": {},
     "outputs": [
      {
       "output_type": "stream",
       "stream": "stdout",
       "text": [
        "['q', 'z', 'x', 'j', 'k', 'v', 'b', 'y', 'w', 'f', 'p', 'g', 'c', 'u', 'm', 'l', 'd', 'h', 'r', 's', 'i', 'n', 'o', 't', 'a', 'e']\n"
       ]
      }
     ],
     "prompt_number": 135
    },
    {
     "cell_type": "code",
     "collapsed": false,
     "input": [
      "k = [chr(ij+97) for ij in argsort(f)]\n",
      "print k"
     ],
     "language": "python",
     "metadata": {},
     "outputs": [
      {
       "output_type": "stream",
       "stream": "stdout",
       "text": [
        "['b', 'u', 's', 'y', 'j', 'm', 'v', 'z', 'g', 'h', 'x', 'w', 'n', 'o', 'e', 'a', 'l', 't', 'q', 'k', 'r', 'f', 'd', 'i', 'c', 'p']\n"
       ]
      }
     ],
     "prompt_number": 136
    },
    {
     "cell_type": "code",
     "collapsed": false,
     "input": [
      "l=dict(zip(k,i))\n",
      "print l"
     ],
     "language": "python",
     "metadata": {},
     "outputs": [
      {
       "output_type": "stream",
       "stream": "stdout",
       "text": [
        "{'a': 'l', 'c': 'a', 'b': 'q', 'e': 'm', 'd': 'o', 'g': 'w', 'f': 'n', 'i': 't', 'h': 'f', 'k': 's', 'j': 'k', 'm': 'v', 'l': 'd', 'o': 'u', 'n': 'c', 'q': 'r', 'p': 'e', 's': 'x', 'r': 'i', 'u': 'z', 't': 'h', 'w': 'g', 'v': 'b', 'y': 'j', 'x': 'p', 'z': 'y'}\n"
       ]
      }
     ],
     "prompt_number": 144
    },
    {
     "cell_type": "code",
     "collapsed": false,
     "input": [
      "out=''\n",
      "for m in a:\n",
      "    if m in l:\n",
      "        out+=l[m]\n",
      "    else:\n",
      "        out+=m\n",
      "print out"
     ],
     "language": "python",
     "metadata": {},
     "outputs": [
      {
       "output_type": "stream",
       "stream": "stdout",
       "text": [
        "haneeodnohhm aeleeadtseoh oidaensa?rmtr dfardtarmuon waglnuagasht typcoitraitt istsstnelace opioetrelnvo binaelon.\n"
       ]
      }
     ],
     "prompt_number": 154
    },
    {
     "cell_type": "code",
     "collapsed": false,
     "input": [
      "a"
     ],
     "language": "python",
     "metadata": {},
     "outputs": [
      {
       "metadata": {},
       "output_type": "pyout",
       "prompt_number": 117,
       "text": [
        "'tpfccdlfdtte pcaccplircdt dklpcfrp?qeiq lhpqlipqeodf gpwafopwprti izxndkiqpkii krirrifcapnc dxkdciqcafmd vkfpcadf.'"
       ]
      }
     ],
     "prompt_number": 117
    },
    {
     "cell_type": "code",
     "collapsed": false,
     "input": [
      "len(a)"
     ],
     "language": "python",
     "metadata": {},
     "outputs": [
      {
       "metadata": {},
       "output_type": "pyout",
       "prompt_number": 118,
       "text": [
        "114"
       ]
      }
     ],
     "prompt_number": 118
    },
    {
     "cell_type": "code",
     "collapsed": false,
     "input": [
      "len('Want to know what it takes to work at NSA? Check back each Monday in May as we explore careers essential to protecting our nation.')"
     ],
     "language": "python",
     "metadata": {},
     "outputs": [
      {
       "metadata": {},
       "output_type": "pyout",
       "prompt_number": 119,
       "text": [
        "130"
       ]
      }
     ],
     "prompt_number": 119
    },
    {
     "cell_type": "code",
     "collapsed": false,
     "input": [
      "l['r']='s'\n",
      "l['k']='i'"
     ],
     "language": "python",
     "metadata": {},
     "outputs": [],
     "prompt_number": 151
    },
    {
     "cell_type": "code",
     "collapsed": false,
     "input": [
      "l['p']='a'\n",
      "l['c']='e'"
     ],
     "language": "python",
     "metadata": {},
     "outputs": [],
     "prompt_number": 153
    },
    {
     "cell_type": "code",
     "collapsed": false,
     "input": [
      "-numpy.sum(numpy.array([[2**15,1]]))"
     ],
     "language": "python",
     "metadata": {},
     "outputs": [
      {
       "metadata": {},
       "output_type": "pyout",
       "prompt_number": 169,
       "text": [
        "-32769"
       ]
      }
     ],
     "prompt_number": 169
    },
    {
     "cell_type": "code",
     "collapsed": false,
     "input": [
      "a=numpy.ones((100,2,49),dtype=numpy.uint32)\n",
      "-numpy.sum([i[0] for i in a],dtype=numpy.float64)"
     ],
     "language": "python",
     "metadata": {},
     "outputs": [
      {
       "metadata": {},
       "output_type": "pyout",
       "prompt_number": 178,
       "text": [
        "-4900.0"
       ]
      }
     ],
     "prompt_number": 178
    },
    {
     "cell_type": "code",
     "collapsed": false,
     "input": [
      "a[:,0,:]=2"
     ],
     "language": "python",
     "metadata": {},
     "outputs": [],
     "prompt_number": 172
    },
    {
     "cell_type": "code",
     "collapsed": false,
     "input": [
      "numpy.sum([i[1] for i in a])"
     ],
     "language": "python",
     "metadata": {},
     "outputs": [
      {
       "metadata": {},
       "output_type": "pyout",
       "prompt_number": 175,
       "text": [
        "4900.0"
       ]
      }
     ],
     "prompt_number": 175
    },
    {
     "cell_type": "code",
     "collapsed": false,
     "input": [],
     "language": "python",
     "metadata": {},
     "outputs": []
    }
   ],
   "metadata": {}
  }
 ]
}