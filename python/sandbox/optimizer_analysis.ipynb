{
 "metadata": {
  "name": "",
  "signature": "sha256:1038bacf5f979e2dbc6e75040109fa550188708a1673475f37b9f969aafa3b5f"
 },
 "nbformat": 3,
 "nbformat_minor": 0,
 "worksheets": [
  {
   "cells": [
    {
     "cell_type": "code",
     "collapsed": false,
     "input": [
      "import h5py\n",
      "f=h5py.File(r'D:\\data\\2014_05_21\\2014_05_21_15_31_35_readout_shim_optimization\\results.hdf5','r')\n",
      "n=len(f['iterations'])-1\n",
      "a=numpy.array([f['iterations/'+str(i)+'/analysis/optimization_yi'].value for i in xrange(n)])\n",
      "plot(a)\n",
      "i=argmin(a)\n",
      "print 'best settings:', f['iterations/'+str(i)+'/analysis/optimization_xi'].value\n",
      "f.close()"
     ],
     "language": "python",
     "metadata": {},
     "outputs": [
      {
       "output_type": "stream",
       "stream": "stdout",
       "text": [
        "best settings: [-0.34404663 -0.69760254 -1.74137024 -1.15592896]\n"
       ]
      },
      {
       "metadata": {},
       "output_type": "display_data",
       "png": "[encoded data removed]",
       "text": [
        "<matplotlib.figure.Figure at 0x83e9c18>"
       ]
      }
     ],
     "prompt_number": 23
    },
    {
     "cell_type": "code",
     "collapsed": false,
     "input": [
      "n.amax(n.array([i['analysis/optimization_yi'].value for i in f['iterations'].itervalues()]))"
     ],
     "language": "python",
     "metadata": {},
     "outputs": [
      {
       "ename": "KeyError",
       "evalue": "\"unable to open object (Symbol table: Can't open object)\"",
       "output_type": "pyerr",
       "traceback": [
        "\u001b[1;31m---------------------------------------------------------------------------\u001b[0m\n\u001b[1;31mKeyError\u001b[0m                                  Traceback (most recent call last)",
        "\u001b[1;32m<ipython-input-12-2a4d21ca5e54>\u001b[0m in \u001b[0;36m<module>\u001b[1;34m()\u001b[0m\n\u001b[1;32m----> 1\u001b[1;33m \u001b[0mn\u001b[0m\u001b[1;33m.\u001b[0m\u001b[0mamax\u001b[0m\u001b[1;33m(\u001b[0m\u001b[0mn\u001b[0m\u001b[1;33m.\u001b[0m\u001b[0marray\u001b[0m\u001b[1;33m(\u001b[0m\u001b[1;33m[\u001b[0m\u001b[0mi\u001b[0m\u001b[1;33m[\u001b[0m\u001b[1;34m'analysis/optimization_yi'\u001b[0m\u001b[1;33m]\u001b[0m\u001b[1;33m.\u001b[0m\u001b[0mvalue\u001b[0m \u001b[1;32mfor\u001b[0m \u001b[0mi\u001b[0m \u001b[1;32min\u001b[0m \u001b[0mf\u001b[0m\u001b[1;33m[\u001b[0m\u001b[1;34m'iterations'\u001b[0m\u001b[1;33m]\u001b[0m\u001b[1;33m.\u001b[0m\u001b[0mitervalues\u001b[0m\u001b[1;33m(\u001b[0m\u001b[1;33m)\u001b[0m\u001b[1;33m]\u001b[0m\u001b[1;33m)\u001b[0m\u001b[1;33m)\u001b[0m\u001b[1;33m\u001b[0m\u001b[0m\n\u001b[0m",
        "\u001b[1;32mC:\\Users\\Saffmanlab\\AppData\\Local\\Enthought\\Canopy\\User\\lib\\site-packages\\h5py\\_hl\\group.pyc\u001b[0m in \u001b[0;36m__getitem__\u001b[1;34m(self, name)\u001b[0m\n\u001b[0;32m    151\u001b[0m                 \u001b[1;32mraise\u001b[0m \u001b[0mValueError\u001b[0m\u001b[1;33m(\u001b[0m\u001b[1;34m\"Invalid HDF5 object reference\"\u001b[0m\u001b[1;33m)\u001b[0m\u001b[1;33m\u001b[0m\u001b[0m\n\u001b[0;32m    152\u001b[0m         \u001b[1;32melse\u001b[0m\u001b[1;33m:\u001b[0m\u001b[1;33m\u001b[0m\u001b[0m\n\u001b[1;32m--> 153\u001b[1;33m             \u001b[0moid\u001b[0m \u001b[1;33m=\u001b[0m \u001b[0mh5o\u001b[0m\u001b[1;33m.\u001b[0m\u001b[0mopen\u001b[0m\u001b[1;33m(\u001b[0m\u001b[0mself\u001b[0m\u001b[1;33m.\u001b[0m\u001b[0mid\u001b[0m\u001b[1;33m,\u001b[0m \u001b[0mself\u001b[0m\u001b[1;33m.\u001b[0m\u001b[0m_e\u001b[0m\u001b[1;33m(\u001b[0m\u001b[0mname\u001b[0m\u001b[1;33m)\u001b[0m\u001b[1;33m,\u001b[0m \u001b[0mlapl\u001b[0m\u001b[1;33m=\u001b[0m\u001b[0mself\u001b[0m\u001b[1;33m.\u001b[0m\u001b[0m_lapl\u001b[0m\u001b[1;33m)\u001b[0m\u001b[1;33m\u001b[0m\u001b[0m\n\u001b[0m\u001b[0;32m    154\u001b[0m \u001b[1;33m\u001b[0m\u001b[0m\n\u001b[0;32m    155\u001b[0m         \u001b[0motype\u001b[0m \u001b[1;33m=\u001b[0m \u001b[0mh5i\u001b[0m\u001b[1;33m.\u001b[0m\u001b[0mget_type\u001b[0m\u001b[1;33m(\u001b[0m\u001b[0moid\u001b[0m\u001b[1;33m)\u001b[0m\u001b[1;33m\u001b[0m\u001b[0m\n",
        "\u001b[1;32mC:\\Users\\Saffmanlab\\AppData\\Local\\Enthought\\Canopy\\User\\lib\\site-packages\\h5py\\h5o.pyd\u001b[0m in \u001b[0;36mh5py.h5o.open (h5py\\h5o.c:3143)\u001b[1;34m()\u001b[0m\n",
        "\u001b[1;31mKeyError\u001b[0m: \"unable to open object (Symbol table: Can't open object)\""
       ]
      }
     ],
     "prompt_number": 12
    },
    {
     "cell_type": "code",
     "collapsed": false,
     "input": [
      "[i['analysis/optimization_yi'].value for i in f['iterations'].values()[1]]"
     ],
     "language": "python",
     "metadata": {},
     "outputs": [
      {
       "ename": "TypeError",
       "evalue": "string indices must be integers",
       "output_type": "pyerr",
       "traceback": [
        "\u001b[1;31m---------------------------------------------------------------------------\u001b[0m\n\u001b[1;31mTypeError\u001b[0m                                 Traceback (most recent call last)",
        "\u001b[1;32m<ipython-input-13-406d48130284>\u001b[0m in \u001b[0;36m<module>\u001b[1;34m()\u001b[0m\n\u001b[1;32m----> 1\u001b[1;33m \u001b[1;33m[\u001b[0m\u001b[0mi\u001b[0m\u001b[1;33m[\u001b[0m\u001b[1;34m'analysis/optimization_yi'\u001b[0m\u001b[1;33m]\u001b[0m\u001b[1;33m.\u001b[0m\u001b[0mvalue\u001b[0m \u001b[1;32mfor\u001b[0m \u001b[0mi\u001b[0m \u001b[1;32min\u001b[0m \u001b[0mf\u001b[0m\u001b[1;33m[\u001b[0m\u001b[1;34m'iterations'\u001b[0m\u001b[1;33m]\u001b[0m\u001b[1;33m.\u001b[0m\u001b[0mvalues\u001b[0m\u001b[1;33m(\u001b[0m\u001b[1;33m)\u001b[0m\u001b[1;33m[\u001b[0m\u001b[1;36m1\u001b[0m\u001b[1;33m]\u001b[0m\u001b[1;33m]\u001b[0m\u001b[1;33m\u001b[0m\u001b[0m\n\u001b[0m",
        "\u001b[1;31mTypeError\u001b[0m: string indices must be integers"
       ]
      }
     ],
     "prompt_number": 13
    },
    {
     "cell_type": "code",
     "collapsed": false,
     "input": [
      "c= [f['iterations/'+str(i)+'analysis/optimization_yi'].value for i in range(187)]\n",
      "plot[c]"
     ],
     "language": "python",
     "metadata": {},
     "outputs": [
      {
       "ename": "KeyError",
       "evalue": "\"unable to open object (Symbol table: Can't open object)\"",
       "output_type": "pyerr",
       "traceback": [
        "\u001b[1;31m---------------------------------------------------------------------------\u001b[0m\n\u001b[1;31mKeyError\u001b[0m                                  Traceback (most recent call last)",
        "\u001b[1;32m<ipython-input-60-cd03e44c1d78>\u001b[0m in \u001b[0;36m<module>\u001b[1;34m()\u001b[0m\n\u001b[1;32m----> 1\u001b[1;33m \u001b[0mc\u001b[0m\u001b[1;33m=\u001b[0m \u001b[1;33m[\u001b[0m\u001b[0mf\u001b[0m\u001b[1;33m[\u001b[0m\u001b[1;34m'iterations/'\u001b[0m\u001b[1;33m+\u001b[0m\u001b[0mstr\u001b[0m\u001b[1;33m(\u001b[0m\u001b[0mi\u001b[0m\u001b[1;33m)\u001b[0m\u001b[1;33m+\u001b[0m\u001b[1;34m'analysis/optimization_yi'\u001b[0m\u001b[1;33m]\u001b[0m\u001b[1;33m.\u001b[0m\u001b[0mvalue\u001b[0m \u001b[1;32mfor\u001b[0m \u001b[0mi\u001b[0m \u001b[1;32min\u001b[0m \u001b[0mrange\u001b[0m\u001b[1;33m(\u001b[0m\u001b[1;36m187\u001b[0m\u001b[1;33m)\u001b[0m\u001b[1;33m]\u001b[0m\u001b[1;33m\u001b[0m\u001b[0m\n\u001b[0m\u001b[0;32m      2\u001b[0m \u001b[0mplot\u001b[0m\u001b[1;33m[\u001b[0m\u001b[0mc\u001b[0m\u001b[1;33m]\u001b[0m\u001b[1;33m\u001b[0m\u001b[0m\n",
        "\u001b[1;32mC:\\Users\\Saffmanlab\\AppData\\Local\\Enthought\\Canopy\\User\\lib\\site-packages\\h5py\\_hl\\group.pyc\u001b[0m in \u001b[0;36m__getitem__\u001b[1;34m(self, name)\u001b[0m\n\u001b[0;32m    151\u001b[0m                 \u001b[1;32mraise\u001b[0m \u001b[0mValueError\u001b[0m\u001b[1;33m(\u001b[0m\u001b[1;34m\"Invalid HDF5 object reference\"\u001b[0m\u001b[1;33m)\u001b[0m\u001b[1;33m\u001b[0m\u001b[0m\n\u001b[0;32m    152\u001b[0m         \u001b[1;32melse\u001b[0m\u001b[1;33m:\u001b[0m\u001b[1;33m\u001b[0m\u001b[0m\n\u001b[1;32m--> 153\u001b[1;33m             \u001b[0moid\u001b[0m \u001b[1;33m=\u001b[0m \u001b[0mh5o\u001b[0m\u001b[1;33m.\u001b[0m\u001b[0mopen\u001b[0m\u001b[1;33m(\u001b[0m\u001b[0mself\u001b[0m\u001b[1;33m.\u001b[0m\u001b[0mid\u001b[0m\u001b[1;33m,\u001b[0m \u001b[0mself\u001b[0m\u001b[1;33m.\u001b[0m\u001b[0m_e\u001b[0m\u001b[1;33m(\u001b[0m\u001b[0mname\u001b[0m\u001b[1;33m)\u001b[0m\u001b[1;33m,\u001b[0m \u001b[0mlapl\u001b[0m\u001b[1;33m=\u001b[0m\u001b[0mself\u001b[0m\u001b[1;33m.\u001b[0m\u001b[0m_lapl\u001b[0m\u001b[1;33m)\u001b[0m\u001b[1;33m\u001b[0m\u001b[0m\n\u001b[0m\u001b[0;32m    154\u001b[0m \u001b[1;33m\u001b[0m\u001b[0m\n\u001b[0;32m    155\u001b[0m         \u001b[0motype\u001b[0m \u001b[1;33m=\u001b[0m \u001b[0mh5i\u001b[0m\u001b[1;33m.\u001b[0m\u001b[0mget_type\u001b[0m\u001b[1;33m(\u001b[0m\u001b[0moid\u001b[0m\u001b[1;33m)\u001b[0m\u001b[1;33m\u001b[0m\u001b[0m\n",
        "\u001b[1;32mC:\\Users\\Saffmanlab\\AppData\\Local\\Enthought\\Canopy\\User\\lib\\site-packages\\h5py\\h5o.pyd\u001b[0m in \u001b[0;36mh5py.h5o.open (h5py\\h5o.c:3143)\u001b[1;34m()\u001b[0m\n",
        "\u001b[1;31mKeyError\u001b[0m: \"unable to open object (Symbol table: Can't open object)\""
       ]
      }
     ],
     "prompt_number": 60
    },
    {
     "cell_type": "code",
     "collapsed": false,
     "input": [
      "best=float(inf)for i in range(200):"
     ],
     "language": "python",
     "metadata": {},
     "outputs": [
      {
       "ename": "SyntaxError",
       "evalue": "invalid syntax (<ipython-input-67-98c84a96b933>, line 1)",
       "output_type": "pyerr",
       "traceback": [
        "\u001b[1;36m  File \u001b[1;32m\"<ipython-input-67-98c84a96b933>\"\u001b[1;36m, line \u001b[1;32m1\u001b[0m\n\u001b[1;33m    best=float(inf)for i in range(200):\u001b[0m\n\u001b[1;37m                     ^\u001b[0m\n\u001b[1;31mSyntaxError\u001b[0m\u001b[1;31m:\u001b[0m invalid syntax\n"
       ]
      }
     ],
     "prompt_number": 67
    },
    {
     "cell_type": "code",
     "collapsed": false,
     "input": [
      "for i in f['iterations']:\n",
      "    print i, f['iterations/'+i+'/analysis/optimization_yi'].value"
     ],
     "language": "python",
     "metadata": {},
     "outputs": [
      {
       "output_type": "stream",
       "stream": "stdout",
       "text": [
        "0 231873839.0\n",
        "1 231889326.0\n",
        "10 230373967.0\n",
        "100 227854780.0\n",
        "101 228055431.0\n",
        "102 227779450.0\n",
        "103 227788937.0\n",
        "104 227097206.0\n",
        "105 227554371.0\n",
        "106 227160887.0\n",
        "107 227260820.0\n",
        "108 226289633.0\n",
        "109 226366643.0\n",
        "11 229343215.0\n",
        "110 226417739.0\n",
        "111 226644950.0\n",
        "112 227202705.0\n",
        "113 227632556.0\n",
        "114 227787521.0\n",
        "115 227596173.0\n",
        "116 228248095.0\n",
        "117 229386997.0\n",
        "118 229555737.0\n",
        "119 228117881.0\n",
        "12 227702005.0\n",
        "120 228288074.0\n",
        "121 227635864.0\n",
        "122 227700405.0\n",
        "123 227414141.0\n",
        "124 227167347.0\n",
        "125 227921075.0\n",
        "126 227048894.0\n",
        "127 227109342.0\n",
        "128 226082665.0\n",
        "129 227878830.0\n",
        "13 228262565.0\n",
        "130 227698015.0\n",
        "131 228755060.0\n",
        "132 227702300.0\n",
        "133 227733529.0\n",
        "134 227134315.0\n",
        "135 227887669.0\n",
        "136 227532987.0\n",
        "137 227118465.0\n",
        "138 227482339.0\n",
        "139 227728028.0\n",
        "14 228767289.0\n",
        "140 227251007.0\n",
        "141 227162339.0\n",
        "142 226480358.0\n",
        "143 226441992.0\n",
        "144 226984021.0\n",
        "145 227547475.0\n",
        "146 227217507.0\n",
        "147 229173389.0\n",
        "148 228254859.0\n",
        "149 227763820.0\n",
        "15 229460722.0\n",
        "150 228067066.0\n",
        "151 227578121.0\n",
        "152 228162119.0\n",
        "153 228263056.0\n",
        "154 228289228.0\n",
        "155 227634749.0\n",
        "156 227825222.0\n",
        "157 227868196.0\n",
        "158 227705975.0\n",
        "159 228218787.0\n",
        "16 228598868.0\n",
        "160 228405269.0\n",
        "161 228370542.0\n",
        "162 228701742.0\n",
        "163 228537486.0\n",
        "164 227545756.0\n",
        "165 228444605.0\n",
        "166 228309334.0\n",
        "167 228760659.0\n",
        "168 228803861.0\n",
        "169 229417978.0\n",
        "17 227286936.0\n",
        "170 227709090.0\n",
        "171 227824055.0\n",
        "172 228670648.0\n",
        "173 227674014.0\n",
        "174 226987953.0\n",
        "175 227305984.0\n",
        "176 229395881.0\n",
        "177 229845695.0\n",
        "178 229246143.0\n",
        "179 228147598.0\n",
        "18 227289403.0\n",
        "180 228276370.0\n",
        "181 228939517.0\n",
        "182 228137244.0\n",
        "183 228429870.0\n",
        "184 228697140.0\n",
        "185 227963631.0\n",
        "186 228592445.0\n",
        "187 228818348.0\n",
        "188 229207665.0\n",
        "189 229776602.0\n",
        "19 228138191.0\n",
        "190 230390416.0\n",
        "191 230627647.0\n",
        "192 230299238.0\n",
        "193 230042688.0\n",
        "194 230230616.0\n",
        "195 230517763.0\n",
        "196 230569243.0\n",
        "197 230880873.0\n",
        "198 230091355.0\n",
        "199 230974106.0\n",
        "2 230492859.0\n",
        "20 228533042.0\n",
        "200 231077478.0\n",
        "201 230410868.0\n",
        "202 229912009.0\n",
        "203 229118894.0\n",
        "204 228594191.0\n",
        "205 228951552.0\n",
        "206 229926559.0\n",
        "207 229499802.0\n",
        "208 229584175.0\n",
        "209 230342146.0\n",
        "21 228276828.0\n",
        "210 229562844.0\n",
        "211 231243007.0\n",
        "212 231583772.0\n",
        "213 230923162.0\n",
        "214 230317377.0\n",
        "215 229650773.0\n",
        "216 231890821.0\n",
        "217 231672994.0\n",
        "218 229989584.0\n",
        "219 230034618.0\n",
        "22 228381235.0\n",
        "220 229893847.0\n",
        "221 230589263.0\n",
        "222 230757964.0\n",
        "223 231291948.0\n",
        "224 231112117.0\n",
        "225 229737668.0\n",
        "226 229399009.0\n",
        "227 229905317.0\n",
        "228 230465396.0\n",
        "229 231034201.0\n",
        "23 228359789.0\n",
        "230 231590995.0\n",
        "231 231940048.0\n",
        "232 231476977.0\n",
        "233 231778733.0\n",
        "234 231764044.0\n",
        "235 230858997.0\n",
        "236 231558935.0\n",
        "237 231099263.0\n",
        "238 231004288.0\n",
        "239 230449207.0\n",
        "24 227864920.0\n",
        "240 231740935.0\n",
        "241 231141300.0\n",
        "242 231576778.0\n",
        "243 230984384.0\n",
        "244 230773788.0\n",
        "245 229501775.0\n",
        "246 230884503.0\n",
        "247 231654087.0\n",
        "248 231163595.0\n",
        "249 231119918.0\n",
        "25 228202219.0\n",
        "250 231841925.0\n",
        "251 231116741.0\n",
        "252 231099782.0\n",
        "253 231744491.0\n",
        "254 231456446.0\n",
        "255 230990428.0\n",
        "256 231323715.0\n",
        "257 230785158.0\n",
        "258 230130907.0\n",
        "259 230710800.0\n",
        "26 229071822.0\n",
        "260 230071926.0\n",
        "261 230309354.0\n",
        "262 230043331.0\n",
        "263 229700411.0\n",
        "264 229501688.0\n",
        "265 228742679.0\n",
        "266 229976645.0\n",
        "267 230892273.0\n",
        "268"
       ]
      },
      {
       "ename": "KeyError",
       "evalue": "\"unable to open object (Symbol table: Can't open object)\"",
       "output_type": "pyerr",
       "traceback": [
        "\u001b[1;31m---------------------------------------------------------------------------\u001b[0m\n\u001b[1;31mKeyError\u001b[0m                                  Traceback (most recent call last)",
        "\u001b[1;32m<ipython-input-70-4fbcaf69d340>\u001b[0m in \u001b[0;36m<module>\u001b[1;34m()\u001b[0m\n\u001b[0;32m      1\u001b[0m \u001b[1;32mfor\u001b[0m \u001b[0mi\u001b[0m \u001b[1;32min\u001b[0m \u001b[0mf\u001b[0m\u001b[1;33m[\u001b[0m\u001b[1;34m'iterations'\u001b[0m\u001b[1;33m]\u001b[0m\u001b[1;33m:\u001b[0m\u001b[1;33m\u001b[0m\u001b[0m\n\u001b[1;32m----> 2\u001b[1;33m     \u001b[1;32mprint\u001b[0m \u001b[0mi\u001b[0m\u001b[1;33m,\u001b[0m \u001b[0mf\u001b[0m\u001b[1;33m[\u001b[0m\u001b[1;34m'iterations/'\u001b[0m\u001b[1;33m+\u001b[0m\u001b[0mi\u001b[0m\u001b[1;33m+\u001b[0m\u001b[1;34m'/analysis/optimization_yi'\u001b[0m\u001b[1;33m]\u001b[0m\u001b[1;33m.\u001b[0m\u001b[0mvalue\u001b[0m\u001b[1;33m\u001b[0m\u001b[0m\n\u001b[0m",
        "\u001b[1;32mC:\\Users\\Saffmanlab\\AppData\\Local\\Enthought\\Canopy\\User\\lib\\site-packages\\h5py\\_hl\\group.pyc\u001b[0m in \u001b[0;36m__getitem__\u001b[1;34m(self, name)\u001b[0m\n\u001b[0;32m    151\u001b[0m                 \u001b[1;32mraise\u001b[0m \u001b[0mValueError\u001b[0m\u001b[1;33m(\u001b[0m\u001b[1;34m\"Invalid HDF5 object reference\"\u001b[0m\u001b[1;33m)\u001b[0m\u001b[1;33m\u001b[0m\u001b[0m\n\u001b[0;32m    152\u001b[0m         \u001b[1;32melse\u001b[0m\u001b[1;33m:\u001b[0m\u001b[1;33m\u001b[0m\u001b[0m\n\u001b[1;32m--> 153\u001b[1;33m             \u001b[0moid\u001b[0m \u001b[1;33m=\u001b[0m \u001b[0mh5o\u001b[0m\u001b[1;33m.\u001b[0m\u001b[0mopen\u001b[0m\u001b[1;33m(\u001b[0m\u001b[0mself\u001b[0m\u001b[1;33m.\u001b[0m\u001b[0mid\u001b[0m\u001b[1;33m,\u001b[0m \u001b[0mself\u001b[0m\u001b[1;33m.\u001b[0m\u001b[0m_e\u001b[0m\u001b[1;33m(\u001b[0m\u001b[0mname\u001b[0m\u001b[1;33m)\u001b[0m\u001b[1;33m,\u001b[0m \u001b[0mlapl\u001b[0m\u001b[1;33m=\u001b[0m\u001b[0mself\u001b[0m\u001b[1;33m.\u001b[0m\u001b[0m_lapl\u001b[0m\u001b[1;33m)\u001b[0m\u001b[1;33m\u001b[0m\u001b[0m\n\u001b[0m\u001b[0;32m    154\u001b[0m \u001b[1;33m\u001b[0m\u001b[0m\n\u001b[0;32m    155\u001b[0m         \u001b[0motype\u001b[0m \u001b[1;33m=\u001b[0m \u001b[0mh5i\u001b[0m\u001b[1;33m.\u001b[0m\u001b[0mget_type\u001b[0m\u001b[1;33m(\u001b[0m\u001b[0moid\u001b[0m\u001b[1;33m)\u001b[0m\u001b[1;33m\u001b[0m\u001b[0m\n",
        "\u001b[1;32mC:\\Users\\Saffmanlab\\AppData\\Local\\Enthought\\Canopy\\User\\lib\\site-packages\\h5py\\h5o.pyd\u001b[0m in \u001b[0;36mh5py.h5o.open (h5py\\h5o.c:3143)\u001b[1;34m()\u001b[0m\n",
        "\u001b[1;31mKeyError\u001b[0m: \"unable to open object (Symbol table: Can't open object)\""
       ]
      }
     ],
     "prompt_number": 70
    },
    {
     "cell_type": "code",
     "collapsed": false,
     "input": [
      "f['iterations/55/analysis/optimization_xi'].value"
     ],
     "language": "python",
     "metadata": {},
     "outputs": [
      {
       "metadata": {},
       "output_type": "pyout",
       "prompt_number": 64,
       "text": [
        "array([-0.01479826, -0.47345817,  0.85933092, -1.81675166,  1.31178191,\n",
        "       -0.55285181, -0.3658528 ,  1.49982229,  1.60399717, -0.58198549,\n",
        "       -0.45042615,  1.71166817])"
       ]
      }
     ],
     "prompt_number": 64
    },
    {
     "cell_type": "code",
     "collapsed": false,
     "input": [],
     "language": "python",
     "metadata": {},
     "outputs": []
    }
   ],
   "metadata": {}
  }
 ]
}