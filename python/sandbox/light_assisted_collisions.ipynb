{
 "metadata": {
  "name": "",
  "signature": "sha256:61c2a18d5b830a49a9411ebead3eca3ff730c09e4db90779f5f681ee82326ffa"
 },
 "nbformat": 3,
 "nbformat_minor": 0,
 "worksheets": [
  {
   "cells": [
    {
     "cell_type": "markdown",
     "metadata": {},
     "source": [
      "Recreating plots from Laser Physics vol. 4 no. 5 1995 pp.1085-1092, T. Walker and D. Pritchard"
     ]
    },
    {
     "cell_type": "code",
     "collapsed": false,
     "input": [
      "from __future__ import division\n",
      "from sympy import S\n",
      "from sympy.physics.wigner import clebsch_gordan\n",
      "print clebsch_gordan(S(3)/2, S(1)/2, 2, S(3)/2, S(1)/2, 2)\n",
      "#1\n",
      "print clebsch_gordan(S(3)/2, S(1)/2, 1, S(3)/2, -S(1)/2, 1)\n",
      "#sqrt(3)/2\n",
      "print clebsch_gordan(3/2, 1/2, 1, -1/2, 1/2, 0)\n",
      "#-sqrt(2)/2"
     ],
     "language": "python",
     "metadata": {},
     "outputs": [
      {
       "output_type": "stream",
       "stream": "stdout",
       "text": [
        "1\n",
        "sqrt(3)/2\n",
        "-0.5*sqrt(2)\n"
       ]
      }
     ],
     "prompt_number": 7
    },
    {
     "cell_type": "code",
     "collapsed": false,
     "input": [
      "S.__doc__"
     ],
     "language": "python",
     "metadata": {},
     "outputs": [
      {
       "metadata": {},
       "output_type": "pyout",
       "prompt_number": 5,
       "text": [
        "'\\n    A map between singleton classes and the corresponding instances.\\n    E.g. S.Exp == C.Exp()\\n    '"
       ]
      }
     ],
     "prompt_number": 5
    },
    {
     "cell_type": "code",
     "collapsed": false,
     "input": [
      "import numpy as np\n",
      "(25.4/17.8)/(np.sqrt(500)/500)"
     ],
     "language": "python",
     "metadata": {},
     "outputs": [
      {
       "metadata": {},
       "output_type": "pyout",
       "prompt_number": 19,
       "text": [
        "31.907936308143064"
       ]
      }
     ],
     "prompt_number": 19
    },
    {
     "cell_type": "code",
     "collapsed": false,
     "input": [
      "1.5/.04"
     ],
     "language": "python",
     "metadata": {},
     "outputs": [
      {
       "metadata": {},
       "output_type": "pyout",
       "prompt_number": 18,
       "text": [
        "37.5"
       ]
      }
     ],
     "prompt_number": 18
    },
    {
     "cell_type": "code",
     "collapsed": false,
     "input": [
      "np.sqrt(500)/500"
     ],
     "language": "python",
     "metadata": {},
     "outputs": [
      {
       "metadata": {},
       "output_type": "pyout",
       "prompt_number": 20,
       "text": [
        "0.044721359549995794"
       ]
      }
     ],
     "prompt_number": 20
    },
    {
     "cell_type": "code",
     "collapsed": false,
     "input": [],
     "language": "python",
     "metadata": {},
     "outputs": []
    }
   ],
   "metadata": {}
  }
 ]
}